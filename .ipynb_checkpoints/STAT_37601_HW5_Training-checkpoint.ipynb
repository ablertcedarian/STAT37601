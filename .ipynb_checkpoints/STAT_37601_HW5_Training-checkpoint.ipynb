{
 "cells": [
  {
   "cell_type": "code",
   "execution_count": 1,
   "metadata": {
    "id": "koj_3c-_6Rph"
   },
   "outputs": [],
   "source": [
    "import h5py\n",
    "import torch\n",
    "import numpy as np\n",
    "# Torch functions\n",
    "import torch.nn as nn\n",
    "import torch.nn.functional as F\n",
    "import torch.optim as optim\n",
    "\n",
    "# Utility to track progress of a routine.\n",
    "from tqdm.notebook import trange, tqdm\n",
    "\n",
    "predir=''\n",
    "# Folder with data\n",
    "datadir='data'\n",
    "device = torch.device(\"cuda:0\" if torch.cuda.is_available() else \"cpu\")"
   ]
  },
  {
   "cell_type": "markdown",
   "metadata": {
    "id": "_XZyOnwC6Rpj"
   },
   "source": [
    "# 1 - Get Mnist data and split into train validation and test"
   ]
  },
  {
   "cell_type": "code",
   "execution_count": 2,
   "metadata": {
    "id": "sr9EY2lQ6Rpk"
   },
   "outputs": [],
   "source": [
    "def get_mnist(num_train):\n",
    "\n",
    "\n",
    "    data=np.float64(np.load(datadir+'/MNIST_data.npy'))\n",
    "    labels=np.float32(np.load(datadir+'/MNIST_labels.npy'))\n",
    "    print('Mnist data shape',data.shape)\n",
    "    data=np.float32(data)/255.\n",
    "    train_dat=data[0:num_train].reshape((-1,1,28,28))\n",
    "    train_labels=np.int32(labels[0:num_train])\n",
    "    val_dat=data[num_train:60000].reshape((-1,1,28,28))\n",
    "    val_labels=np.int32(labels[num_train:60000])\n",
    "    test_dat=data[60000:70000].reshape((-1,1,28,28))\n",
    "    test_labels=np.int32(labels[60000:70000])\n",
    "\n",
    "    return (train_dat, train_labels), (val_dat, val_labels), (test_dat, test_labels)"
   ]
  },
  {
   "cell_type": "code",
   "execution_count": 20,
   "metadata": {
    "id": "y4g1bK876Rpl"
   },
   "outputs": [],
   "source": [
    "def get_mnist_trans(test, shift):\n",
    "    ll=test.shape[0]\n",
    "    uu=np.int32(np.random.rand(ll,2)*shift)\n",
    "    test_t=[]\n",
    "    for i,t in enumerate(test):\n",
    "        tt=np.zeros((1,28,28))\n",
    "        tt[0,0:(28-uu[i,0]),0:(28-uu[i,1])]=t[0,uu[i,0]:,uu[i,1]:]\n",
    "        test_t.append(tt)\n",
    "#     test_labels=np.int32(np.load(datadir+'mnist/MNIST_labels.npy'))\n",
    "    test_trans_dat=np.float32(np.concatenate(test_t,axis=0).reshape((-1,1,28,28)))\n",
    "    print('Transformed test shape',test_trans_dat.shape)\n",
    "    return test_trans_dat"
   ]
  },
  {
   "cell_type": "code",
   "execution_count": 36,
   "metadata": {
    "id": "z90Qu6x86Rpm"
   },
   "outputs": [],
   "source": [
    "def get_cifar():\n",
    "    with h5py.File(datadir+'/CIFAR/cifar10_train.hdf5', \"r\") as f:\n",
    "        tr=f[('data')][:].transpose(0,3,1,2)\n",
    "        tr_lb=f[('labels')][:]\n",
    "    tr=np.float32(tr)\n",
    "    train_data=tr[0:45000]/255.\n",
    "    train_labels=tr_lb[0:45000]\n",
    "    val_data=tr[45000:]/255.\n",
    "    val_labels=tr_lb[45000:]\n",
    "\n",
    "    with h5py.File(datadir+'/CIFAR/cifar10_test.hdf5', \"r\") as f:\n",
    "        test_data=f[('data')][:].transpose(0,3,1,2)\n",
    "        test_data=np.float32(test_data/255.)\n",
    "        test_labels=f[('labels')][:]\n",
    "    return (train_data, train_labels), (val_data, val_labels), (test_data, test_labels)"
   ]
  },
  {
   "cell_type": "markdown",
   "metadata": {
    "id": "JQ9c0wU26Rpn"
   },
   "source": [
    "# Get the data"
   ]
  },
  {
   "cell_type": "code",
   "execution_count": 5,
   "metadata": {
    "id": "KIq7cNZp6Rpn"
   },
   "outputs": [],
   "source": [
    "def get_data(data_set, num_train):\n",
    "    if (data_set==\"mnist\"):\n",
    "        return(get_mnist(num_train))\n",
    "    if (data_set==\"cifar\"):\n",
    "        return(get_cifar())\n"
   ]
  },
  {
   "cell_type": "markdown",
   "metadata": {
    "id": "3_jGee3g6Rpp"
   },
   "source": [
    "# The network"
   ]
  },
  {
   "cell_type": "code",
   "execution_count": 6,
   "metadata": {
    "id": "R4GgoXEN6Rpr"
   },
   "outputs": [],
   "source": [
    "class MNIST_Net(nn.Module):\n",
    "    def __init__(self,ks=5,p=0.5,minimizer='Adam',device=device):\n",
    "        super(MNIST_Net, self).__init__()\n",
    "        self.conv1 = nn.Conv2d(1, 32, kernel_size=5)\n",
    "        self.conv2 = nn.Conv2d(32, 64, kernel_size=5)\n",
    "        self.drop2 = nn.Dropout2d(p)\n",
    "        ks=np.int32(ks)\n",
    "        self.p1=nn.MaxPool2d(kernel_size=[ks],stride=2,padding=[np.int32(ks/2)])\n",
    "        self.p2=nn.MaxPool2d(kernel_size=2,stride=2)\n",
    "        self.first=True\n",
    "        if self.first:\n",
    "            self.forward(torch.zeros((1,1,28,28)))\n",
    "        if minimizer == 'Adam':\n",
    "            self.optimizer = torch.optim.Adam(self.parameters(), lr = step_size)\n",
    "        else:\n",
    "            optimizer = torch.optim.SGD(self.parameters(), lr = step_size, momentum=0.9)\n",
    "\n",
    "        self.criterion=nn.CrossEntropyLoss()\n",
    "\n",
    "    def forward(self, x):\n",
    "\n",
    "        x = F.relu(self.p1(self.conv1(x)))\n",
    "        if self.first:\n",
    "            print('After conv1',x.shape)\n",
    "        x = F.relu(self.p2(self.drop2(self.conv2(x))))\n",
    "        if self.first:\n",
    "            print('After conv2',x.shape)\n",
    "            self.first=False\n",
    "            self.inp=x.shape[1]*x.shape[2]*x.shape[3]\n",
    "            print('Dimension before first fully connected',self.inp)\n",
    "            self.fc1 = nn.Linear(self.inp, 256)\n",
    "            self.fc2 = nn.Linear(256, 10)\n",
    "        x = x.view(-1, self.inp)\n",
    "        x = F.relu(self.fc1(x))\n",
    "        x = F.dropout(x, training=self.training)\n",
    "        x = self.fc2(x)\n",
    "        return x\n",
    "\n",
    "    def get_acc_and_loss(self, data, targ):\n",
    "        output = self.forward(data)\n",
    "        loss = self.criterion(output, targ)\n",
    "        pred = torch.max(output,1)[1]\n",
    "        correct = torch.eq(pred,targ).sum()\n",
    "\n",
    "        return loss,correct\n",
    "\n",
    "    def run_grad(self,data,targ):\n",
    "\n",
    "        loss, correct=self.get_acc_and_loss(data,targ)\n",
    "        self.optimizer.zero_grad()\n",
    "        loss.backward()\n",
    "        self.optimizer.step()\n",
    "\n",
    "        return loss, correct\n",
    "\n"
   ]
  },
  {
   "cell_type": "markdown",
   "metadata": {
    "id": "xam1ob5s6Rps"
   },
   "source": [
    "# Run one epoch"
   ]
  },
  {
   "cell_type": "code",
   "execution_count": 7,
   "metadata": {
    "id": "cs6ig0u56Rpt"
   },
   "outputs": [],
   "source": [
    "def run_epoch(net,epoch,train,batch_size, num=None, ttype=\"train\",device=device):\n",
    "\n",
    "\n",
    "    if ttype=='train':\n",
    "        t1=time.time()\n",
    "        n=train[0].shape[0]\n",
    "        if (num is not None):\n",
    "            n=np.minimum(n,num)\n",
    "        ii=np.array(np.arange(0,n,1))\n",
    "        tr=train[0][ii]\n",
    "        y=train[1][ii]\n",
    "        train_loss=0; train_correct=0\n",
    "        with tqdm(total=len(y)) as progress_bar:\n",
    "            for j in np.arange(0,len(y),batch_size):\n",
    "                data=torch.torch.from_numpy(tr[j:j+batch_size]).to(device)\n",
    "                targ=torch.torch.from_numpy(y[j:j+batch_size]).type(torch.long).to(device)\n",
    "                loss, correct = net.run_grad(data,targ)\n",
    "\n",
    "                train_loss += loss.item()\n",
    "                train_correct += correct.item()\n",
    "\n",
    "                progress_bar.set_postfix(loss=loss.item())\n",
    "                progress_bar.update(data.size(0))\n",
    "        train_loss /= len(y)\n",
    "        print('\\nTraining set epoch {}: Avg. loss: {:.4f}, Accuracy: {}/{} ({:.0f}%)\\n'.format(epoch,\n",
    "            train_loss, train_correct, len(y),\n",
    "            100. * train_correct / len(y)))\n",
    "\n",
    "\n",
    "    train_loss /= len(y)\n",
    "    print('\\nTraining set epoch {}: Avg. loss: {:.4f}, Accuracy: {}/{} ({:.0f}%)\\n'.format(epoch,\n",
    "        train_loss, train_correct, len(y),\n",
    "        100. * train_correct / len(y)))\n",
    "\n",
    "    train_error = 1.0 - (train_correct / len(y))\n",
    "    return train_error"
   ]
  },
  {
   "cell_type": "code",
   "execution_count": 8,
   "metadata": {
    "id": "_ymQv0Hd6Rpu"
   },
   "outputs": [],
   "source": [
    "def net_test(net,val,batch_size,ttype='val',device=device):\n",
    "    net.eval()\n",
    "    with torch.no_grad():\n",
    "                test_loss = 0\n",
    "                test_correct = 0\n",
    "                vald=val[0]\n",
    "                yval=val[1]\n",
    "                for j in np.arange(0,len(yval),batch_size):\n",
    "                    data=torch.from_numpy(vald[j:j+batch_size]).to(device)\n",
    "                    targ = torch.from_numpy(yval[j:j+batch_size]).type(torch.long).to(device)\n",
    "                    loss,correct=net.get_acc_and_loss(data,targ)\n",
    "\n",
    "                    test_loss += loss.item()\n",
    "                    test_correct += correct.item()\n",
    "\n",
    "                test_loss /= len(yval)\n",
    "                SSS='Validation'\n",
    "                if (ttype=='test'):\n",
    "                    SSS='Test'\n",
    "                print('\\n{} set: Avg. loss: {:.4f}, Accuracy: {}/{} ({:.0f}%)\\n'.format(SSS,\n",
    "                    test_loss, test_correct, len(yval),\n",
    "                    100. * test_correct / len(yval)))\n",
    "                \n",
    "    print('\\n{} set: Avg. loss: {:.4f}, Accuracy: {}/{} ({:.0f}%)\\n'.format(SSS,\n",
    "        test_loss, test_correct, len(yval),\n",
    "        100. * test_correct / len(yval)))\n",
    "\n",
    "    val_error = 1.0 - (test_correct / len(yval))\n",
    "    return val_error"
   ]
  },
  {
   "cell_type": "markdown",
   "metadata": {},
   "source": [
    "# 1a)"
   ]
  },
  {
   "cell_type": "markdown",
   "metadata": {},
   "source": [
    "The model is composed of two convolutional layers followed by two fully connected layers. The first flag is True for the first forward pass of the model (which is triggered on initialization of the model) and is then set to False and never triggers again -- in doing so, it sets up the two fully connected layers based on the input size after the two convolutional layers. "
   ]
  },
  {
   "cell_type": "markdown",
   "metadata": {},
   "source": [
    "# 1b)"
   ]
  },
  {
   "cell_type": "markdown",
   "metadata": {},
   "source": [
    "Note that in the following we set numtrain to 10k as suggested and also pass this value through to get_mnist so that the training dataset is only 10k images."
   ]
  },
  {
   "cell_type": "markdown",
   "metadata": {
    "id": "vjCTP3d56Rpu"
   },
   "source": [
    "# 1c) Run the training. Save the model and test at the end"
   ]
  },
  {
   "cell_type": "markdown",
   "metadata": {},
   "source": [
    "We can compute the total number of parameters in the model as:\n",
    "- conv1: 1 in_channel * 32 out_channels * 5 kernel_height * 5 kernel_width + 32 biases = 832\n",
    "- conv2: 32 in_channels * 64 out_channels * 5 kernel_height * 5 kernel_width + 64 biases = 51264\n",
    "- fc1: 1024 in_features * 256 out_features + 256 biases = 262400\n",
    "- fc2: 256 in_features * 10 out_features + 10 biases = 2570\n",
    "Summing across these yields 317066 total parameters. "
   ]
  },
  {
   "cell_type": "code",
   "execution_count": 11,
   "metadata": {
    "id": "G6Qw_INd6Rpv",
    "scrolled": true
   },
   "outputs": [
    {
     "name": "stdout",
     "output_type": "stream",
     "text": [
      "cpu\n",
      "Mnist data shape (70000, 784)\n",
      "After conv1 torch.Size([1, 32, 12, 12])\n",
      "After conv2 torch.Size([1, 64, 4, 4])\n",
      "Dimension before first fully connected 1024\n",
      "model architecture\n",
      "MNIST_Net(\n",
      "  (conv1): Conv2d(1, 32, kernel_size=(5, 5), stride=(1, 1))\n",
      "  (conv2): Conv2d(32, 64, kernel_size=(5, 5), stride=(1, 1))\n",
      "  (drop2): Dropout2d(p=0.0, inplace=False)\n",
      "  (p1): MaxPool2d(kernel_size=[5], stride=2, padding=[2], dilation=1, ceil_mode=False)\n",
      "  (p2): MaxPool2d(kernel_size=2, stride=2, padding=0, dilation=1, ceil_mode=False)\n",
      "  (fc1): Linear(in_features=1024, out_features=256, bias=True)\n",
      "  (fc2): Linear(in_features=256, out_features=10, bias=True)\n",
      "  (criterion): CrossEntropyLoss()\n",
      ")\n"
     ]
    },
    {
     "data": {
      "application/vnd.jupyter.widget-view+json": {
       "model_id": "5300a33b839b408389879efe54f1d4cd",
       "version_major": 2,
       "version_minor": 0
      },
      "text/plain": [
       "  0%|          | 0/10000 [00:00<?, ?it/s]"
      ]
     },
     "metadata": {},
     "output_type": "display_data"
    },
    {
     "name": "stdout",
     "output_type": "stream",
     "text": [
      "\n",
      "Training set epoch 0: Avg. loss: 0.0031, Accuracy: 5216/10000 (52%)\n",
      "\n",
      "\n",
      "Training set epoch 0: Avg. loss: 0.0000, Accuracy: 5216/10000 (52%)\n",
      "\n",
      "\n",
      "Validation set: Avg. loss: 0.0012, Accuracy: 41147/50000 (82%)\n",
      "\n",
      "\n",
      "Validation set: Avg. loss: 0.0012, Accuracy: 41147/50000 (82%)\n",
      "\n"
     ]
    },
    {
     "data": {
      "application/vnd.jupyter.widget-view+json": {
       "model_id": "3aaa9e84eab0468e8e8f97ca39edb7aa",
       "version_major": 2,
       "version_minor": 0
      },
      "text/plain": [
       "  0%|          | 0/10000 [00:00<?, ?it/s]"
      ]
     },
     "metadata": {},
     "output_type": "display_data"
    },
    {
     "name": "stdout",
     "output_type": "stream",
     "text": [
      "\n",
      "Training set epoch 1: Avg. loss: 0.0007, Accuracy: 8878/10000 (89%)\n",
      "\n",
      "\n",
      "Training set epoch 1: Avg. loss: 0.0000, Accuracy: 8878/10000 (89%)\n",
      "\n",
      "\n",
      "Validation set: Avg. loss: 0.0005, Accuracy: 45817/50000 (92%)\n",
      "\n",
      "\n",
      "Validation set: Avg. loss: 0.0005, Accuracy: 45817/50000 (92%)\n",
      "\n"
     ]
    },
    {
     "data": {
      "application/vnd.jupyter.widget-view+json": {
       "model_id": "e1947104ae7b47469ff9c2787548e8fc",
       "version_major": 2,
       "version_minor": 0
      },
      "text/plain": [
       "  0%|          | 0/10000 [00:00<?, ?it/s]"
      ]
     },
     "metadata": {},
     "output_type": "display_data"
    },
    {
     "name": "stdout",
     "output_type": "stream",
     "text": [
      "\n",
      "Training set epoch 2: Avg. loss: 0.0004, Accuracy: 9317/10000 (93%)\n",
      "\n",
      "\n",
      "Training set epoch 2: Avg. loss: 0.0000, Accuracy: 9317/10000 (93%)\n",
      "\n",
      "\n",
      "Validation set: Avg. loss: 0.0004, Accuracy: 46925/50000 (94%)\n",
      "\n",
      "\n",
      "Validation set: Avg. loss: 0.0004, Accuracy: 46925/50000 (94%)\n",
      "\n"
     ]
    },
    {
     "data": {
      "application/vnd.jupyter.widget-view+json": {
       "model_id": "76c44701ff774974a71e34c5410edeca",
       "version_major": 2,
       "version_minor": 0
      },
      "text/plain": [
       "  0%|          | 0/10000 [00:00<?, ?it/s]"
      ]
     },
     "metadata": {},
     "output_type": "display_data"
    },
    {
     "name": "stdout",
     "output_type": "stream",
     "text": [
      "\n",
      "Training set epoch 3: Avg. loss: 0.0003, Accuracy: 9510/10000 (95%)\n",
      "\n",
      "\n",
      "Training set epoch 3: Avg. loss: 0.0000, Accuracy: 9510/10000 (95%)\n",
      "\n",
      "\n",
      "Validation set: Avg. loss: 0.0003, Accuracy: 47661/50000 (95%)\n",
      "\n",
      "\n",
      "Validation set: Avg. loss: 0.0003, Accuracy: 47661/50000 (95%)\n",
      "\n"
     ]
    },
    {
     "data": {
      "application/vnd.jupyter.widget-view+json": {
       "model_id": "bf042152910d47d0979367984c1366cf",
       "version_major": 2,
       "version_minor": 0
      },
      "text/plain": [
       "  0%|          | 0/10000 [00:00<?, ?it/s]"
      ]
     },
     "metadata": {},
     "output_type": "display_data"
    },
    {
     "name": "stdout",
     "output_type": "stream",
     "text": [
      "\n",
      "Training set epoch 4: Avg. loss: 0.0003, Accuracy: 9607/10000 (96%)\n",
      "\n",
      "\n",
      "Training set epoch 4: Avg. loss: 0.0000, Accuracy: 9607/10000 (96%)\n",
      "\n",
      "\n",
      "Validation set: Avg. loss: 0.0003, Accuracy: 47974/50000 (96%)\n",
      "\n",
      "\n",
      "Validation set: Avg. loss: 0.0003, Accuracy: 47974/50000 (96%)\n",
      "\n"
     ]
    },
    {
     "data": {
      "application/vnd.jupyter.widget-view+json": {
       "model_id": "dc59fef46c73479fb3179de8bf1be41f",
       "version_major": 2,
       "version_minor": 0
      },
      "text/plain": [
       "  0%|          | 0/10000 [00:00<?, ?it/s]"
      ]
     },
     "metadata": {},
     "output_type": "display_data"
    },
    {
     "name": "stdout",
     "output_type": "stream",
     "text": [
      "\n",
      "Training set epoch 5: Avg. loss: 0.0002, Accuracy: 9658/10000 (97%)\n",
      "\n",
      "\n",
      "Training set epoch 5: Avg. loss: 0.0000, Accuracy: 9658/10000 (97%)\n",
      "\n",
      "\n",
      "Validation set: Avg. loss: 0.0003, Accuracy: 48010/50000 (96%)\n",
      "\n",
      "\n",
      "Validation set: Avg. loss: 0.0003, Accuracy: 48010/50000 (96%)\n",
      "\n"
     ]
    },
    {
     "data": {
      "application/vnd.jupyter.widget-view+json": {
       "model_id": "7cd538c05bf4406988a84cb98ebf34b3",
       "version_major": 2,
       "version_minor": 0
      },
      "text/plain": [
       "  0%|          | 0/10000 [00:00<?, ?it/s]"
      ]
     },
     "metadata": {},
     "output_type": "display_data"
    },
    {
     "name": "stdout",
     "output_type": "stream",
     "text": [
      "\n",
      "Training set epoch 6: Avg. loss: 0.0002, Accuracy: 9709/10000 (97%)\n",
      "\n",
      "\n",
      "Training set epoch 6: Avg. loss: 0.0000, Accuracy: 9709/10000 (97%)\n",
      "\n",
      "\n",
      "Validation set: Avg. loss: 0.0002, Accuracy: 48079/50000 (96%)\n",
      "\n",
      "\n",
      "Validation set: Avg. loss: 0.0002, Accuracy: 48079/50000 (96%)\n",
      "\n"
     ]
    },
    {
     "data": {
      "application/vnd.jupyter.widget-view+json": {
       "model_id": "5fc09ad25c3e4643a52722315b75ce04",
       "version_major": 2,
       "version_minor": 0
      },
      "text/plain": [
       "  0%|          | 0/10000 [00:00<?, ?it/s]"
      ]
     },
     "metadata": {},
     "output_type": "display_data"
    },
    {
     "name": "stdout",
     "output_type": "stream",
     "text": [
      "\n",
      "Training set epoch 7: Avg. loss: 0.0002, Accuracy: 9725/10000 (97%)\n",
      "\n",
      "\n",
      "Training set epoch 7: Avg. loss: 0.0000, Accuracy: 9725/10000 (97%)\n",
      "\n",
      "\n",
      "Validation set: Avg. loss: 0.0002, Accuracy: 48466/50000 (97%)\n",
      "\n",
      "\n",
      "Validation set: Avg. loss: 0.0002, Accuracy: 48466/50000 (97%)\n",
      "\n"
     ]
    },
    {
     "data": {
      "application/vnd.jupyter.widget-view+json": {
       "model_id": "10ec610d03cb4105a7531c8562ed31dd",
       "version_major": 2,
       "version_minor": 0
      },
      "text/plain": [
       "  0%|          | 0/10000 [00:00<?, ?it/s]"
      ]
     },
     "metadata": {},
     "output_type": "display_data"
    },
    {
     "name": "stdout",
     "output_type": "stream",
     "text": [
      "\n",
      "Training set epoch 8: Avg. loss: 0.0002, Accuracy: 9765/10000 (98%)\n",
      "\n",
      "\n",
      "Training set epoch 8: Avg. loss: 0.0000, Accuracy: 9765/10000 (98%)\n",
      "\n",
      "\n",
      "Validation set: Avg. loss: 0.0002, Accuracy: 48668/50000 (97%)\n",
      "\n",
      "\n",
      "Validation set: Avg. loss: 0.0002, Accuracy: 48668/50000 (97%)\n",
      "\n"
     ]
    },
    {
     "data": {
      "application/vnd.jupyter.widget-view+json": {
       "model_id": "90e590dab8d948468c9631e4c1274392",
       "version_major": 2,
       "version_minor": 0
      },
      "text/plain": [
       "  0%|          | 0/10000 [00:00<?, ?it/s]"
      ]
     },
     "metadata": {},
     "output_type": "display_data"
    },
    {
     "name": "stdout",
     "output_type": "stream",
     "text": [
      "\n",
      "Training set epoch 9: Avg. loss: 0.0001, Accuracy: 9803/10000 (98%)\n",
      "\n",
      "\n",
      "Training set epoch 9: Avg. loss: 0.0000, Accuracy: 9803/10000 (98%)\n",
      "\n",
      "\n",
      "Validation set: Avg. loss: 0.0002, Accuracy: 48747/50000 (97%)\n",
      "\n",
      "\n",
      "Validation set: Avg. loss: 0.0002, Accuracy: 48747/50000 (97%)\n",
      "\n"
     ]
    },
    {
     "data": {
      "application/vnd.jupyter.widget-view+json": {
       "model_id": "ca1b913b8c8d4b6088d396a2caaf1e8d",
       "version_major": 2,
       "version_minor": 0
      },
      "text/plain": [
       "  0%|          | 0/10000 [00:00<?, ?it/s]"
      ]
     },
     "metadata": {},
     "output_type": "display_data"
    },
    {
     "name": "stdout",
     "output_type": "stream",
     "text": [
      "\n",
      "Training set epoch 10: Avg. loss: 0.0001, Accuracy: 9824/10000 (98%)\n",
      "\n",
      "\n",
      "Training set epoch 10: Avg. loss: 0.0000, Accuracy: 9824/10000 (98%)\n",
      "\n",
      "\n",
      "Validation set: Avg. loss: 0.0002, Accuracy: 48742/50000 (97%)\n",
      "\n",
      "\n",
      "Validation set: Avg. loss: 0.0002, Accuracy: 48742/50000 (97%)\n",
      "\n"
     ]
    },
    {
     "data": {
      "application/vnd.jupyter.widget-view+json": {
       "model_id": "bd4123dbc67248b39ab8ab14488679eb",
       "version_major": 2,
       "version_minor": 0
      },
      "text/plain": [
       "  0%|          | 0/10000 [00:00<?, ?it/s]"
      ]
     },
     "metadata": {},
     "output_type": "display_data"
    },
    {
     "name": "stdout",
     "output_type": "stream",
     "text": [
      "\n",
      "Training set epoch 11: Avg. loss: 0.0001, Accuracy: 9834/10000 (98%)\n",
      "\n",
      "\n",
      "Training set epoch 11: Avg. loss: 0.0000, Accuracy: 9834/10000 (98%)\n",
      "\n",
      "\n",
      "Validation set: Avg. loss: 0.0002, Accuracy: 48807/50000 (98%)\n",
      "\n",
      "\n",
      "Validation set: Avg. loss: 0.0002, Accuracy: 48807/50000 (98%)\n",
      "\n"
     ]
    },
    {
     "data": {
      "application/vnd.jupyter.widget-view+json": {
       "model_id": "98964374409f457f9596de60d2f0ddcf",
       "version_major": 2,
       "version_minor": 0
      },
      "text/plain": [
       "  0%|          | 0/10000 [00:00<?, ?it/s]"
      ]
     },
     "metadata": {},
     "output_type": "display_data"
    },
    {
     "name": "stdout",
     "output_type": "stream",
     "text": [
      "\n",
      "Training set epoch 12: Avg. loss: 0.0001, Accuracy: 9861/10000 (99%)\n",
      "\n",
      "\n",
      "Training set epoch 12: Avg. loss: 0.0000, Accuracy: 9861/10000 (99%)\n",
      "\n",
      "\n",
      "Validation set: Avg. loss: 0.0002, Accuracy: 48780/50000 (98%)\n",
      "\n",
      "\n",
      "Validation set: Avg. loss: 0.0002, Accuracy: 48780/50000 (98%)\n",
      "\n"
     ]
    },
    {
     "data": {
      "application/vnd.jupyter.widget-view+json": {
       "model_id": "ae771b1932eb441481e28a863149f7c3",
       "version_major": 2,
       "version_minor": 0
      },
      "text/plain": [
       "  0%|          | 0/10000 [00:00<?, ?it/s]"
      ]
     },
     "metadata": {},
     "output_type": "display_data"
    },
    {
     "name": "stdout",
     "output_type": "stream",
     "text": [
      "\n",
      "Training set epoch 13: Avg. loss: 0.0001, Accuracy: 9867/10000 (99%)\n",
      "\n",
      "\n",
      "Training set epoch 13: Avg. loss: 0.0000, Accuracy: 9867/10000 (99%)\n",
      "\n",
      "\n",
      "Validation set: Avg. loss: 0.0002, Accuracy: 48757/50000 (98%)\n",
      "\n",
      "\n",
      "Validation set: Avg. loss: 0.0002, Accuracy: 48757/50000 (98%)\n",
      "\n"
     ]
    },
    {
     "data": {
      "application/vnd.jupyter.widget-view+json": {
       "model_id": "bb656bf7787e4663933117b7f9199680",
       "version_major": 2,
       "version_minor": 0
      },
      "text/plain": [
       "  0%|          | 0/10000 [00:00<?, ?it/s]"
      ]
     },
     "metadata": {},
     "output_type": "display_data"
    },
    {
     "name": "stdout",
     "output_type": "stream",
     "text": [
      "\n",
      "Training set epoch 14: Avg. loss: 0.0001, Accuracy: 9882/10000 (99%)\n",
      "\n",
      "\n",
      "Training set epoch 14: Avg. loss: 0.0000, Accuracy: 9882/10000 (99%)\n",
      "\n",
      "\n",
      "Validation set: Avg. loss: 0.0002, Accuracy: 48758/50000 (98%)\n",
      "\n",
      "\n",
      "Validation set: Avg. loss: 0.0002, Accuracy: 48758/50000 (98%)\n",
      "\n"
     ]
    },
    {
     "data": {
      "application/vnd.jupyter.widget-view+json": {
       "model_id": "3127a58fe0c14de382cddb6e9b461517",
       "version_major": 2,
       "version_minor": 0
      },
      "text/plain": [
       "  0%|          | 0/10000 [00:00<?, ?it/s]"
      ]
     },
     "metadata": {},
     "output_type": "display_data"
    },
    {
     "name": "stdout",
     "output_type": "stream",
     "text": [
      "\n",
      "Training set epoch 15: Avg. loss: 0.0001, Accuracy: 9887/10000 (99%)\n",
      "\n",
      "\n",
      "Training set epoch 15: Avg. loss: 0.0000, Accuracy: 9887/10000 (99%)\n",
      "\n",
      "\n",
      "Validation set: Avg. loss: 0.0001, Accuracy: 48834/50000 (98%)\n",
      "\n",
      "\n",
      "Validation set: Avg. loss: 0.0001, Accuracy: 48834/50000 (98%)\n",
      "\n"
     ]
    },
    {
     "data": {
      "application/vnd.jupyter.widget-view+json": {
       "model_id": "67388dae6e1f4a11932f4677b66250f1",
       "version_major": 2,
       "version_minor": 0
      },
      "text/plain": [
       "  0%|          | 0/10000 [00:00<?, ?it/s]"
      ]
     },
     "metadata": {},
     "output_type": "display_data"
    },
    {
     "name": "stdout",
     "output_type": "stream",
     "text": [
      "\n",
      "Training set epoch 16: Avg. loss: 0.0001, Accuracy: 9907/10000 (99%)\n",
      "\n",
      "\n",
      "Training set epoch 16: Avg. loss: 0.0000, Accuracy: 9907/10000 (99%)\n",
      "\n",
      "\n",
      "Validation set: Avg. loss: 0.0001, Accuracy: 48924/50000 (98%)\n",
      "\n",
      "\n",
      "Validation set: Avg. loss: 0.0001, Accuracy: 48924/50000 (98%)\n",
      "\n"
     ]
    },
    {
     "data": {
      "application/vnd.jupyter.widget-view+json": {
       "model_id": "25c963e9260f46b2a755ea5c1259839e",
       "version_major": 2,
       "version_minor": 0
      },
      "text/plain": [
       "  0%|          | 0/10000 [00:00<?, ?it/s]"
      ]
     },
     "metadata": {},
     "output_type": "display_data"
    },
    {
     "name": "stdout",
     "output_type": "stream",
     "text": [
      "\n",
      "Training set epoch 17: Avg. loss: 0.0001, Accuracy: 9918/10000 (99%)\n",
      "\n",
      "\n",
      "Training set epoch 17: Avg. loss: 0.0000, Accuracy: 9918/10000 (99%)\n",
      "\n",
      "\n",
      "Validation set: Avg. loss: 0.0001, Accuracy: 48995/50000 (98%)\n",
      "\n",
      "\n",
      "Validation set: Avg. loss: 0.0001, Accuracy: 48995/50000 (98%)\n",
      "\n"
     ]
    },
    {
     "data": {
      "application/vnd.jupyter.widget-view+json": {
       "model_id": "f6f92cfcdcf94df88f6c03c79d17b144",
       "version_major": 2,
       "version_minor": 0
      },
      "text/plain": [
       "  0%|          | 0/10000 [00:00<?, ?it/s]"
      ]
     },
     "metadata": {},
     "output_type": "display_data"
    },
    {
     "name": "stdout",
     "output_type": "stream",
     "text": [
      "\n",
      "Training set epoch 18: Avg. loss: 0.0001, Accuracy: 9921/10000 (99%)\n",
      "\n",
      "\n",
      "Training set epoch 18: Avg. loss: 0.0000, Accuracy: 9921/10000 (99%)\n",
      "\n",
      "\n",
      "Validation set: Avg. loss: 0.0001, Accuracy: 49118/50000 (98%)\n",
      "\n",
      "\n",
      "Validation set: Avg. loss: 0.0001, Accuracy: 49118/50000 (98%)\n",
      "\n"
     ]
    },
    {
     "data": {
      "application/vnd.jupyter.widget-view+json": {
       "model_id": "3a984af15b5b4991a0e5df16df46b55a",
       "version_major": 2,
       "version_minor": 0
      },
      "text/plain": [
       "  0%|          | 0/10000 [00:00<?, ?it/s]"
      ]
     },
     "metadata": {},
     "output_type": "display_data"
    },
    {
     "name": "stdout",
     "output_type": "stream",
     "text": [
      "\n",
      "Training set epoch 19: Avg. loss: 0.0001, Accuracy: 9917/10000 (99%)\n",
      "\n",
      "\n",
      "Training set epoch 19: Avg. loss: 0.0000, Accuracy: 9917/10000 (99%)\n",
      "\n",
      "\n",
      "Validation set: Avg. loss: 0.0001, Accuracy: 49073/50000 (98%)\n",
      "\n",
      "\n",
      "Validation set: Avg. loss: 0.0001, Accuracy: 49073/50000 (98%)\n",
      "\n",
      "test on original test data\n",
      "\n",
      "Test set: Avg. loss: 0.0001, Accuracy: 9833/10000 (98%)\n",
      "\n",
      "\n",
      "Test set: Avg. loss: 0.0001, Accuracy: 9833/10000 (98%)\n",
      "\n"
     ]
    }
   ],
   "source": [
    "import time\n",
    "batch_size=500\n",
    "step_size=.001\n",
    "num_epochs=20\n",
    "numtrain=10000\n",
    "minimizer=\"Adam\"\n",
    "data_set=\"mnist\"\n",
    "model_name=\"model\"\n",
    "dropout_p=0.\n",
    "use_gpu=True\n",
    "\n",
    "# use GPU when possible\n",
    "device = 'cuda:0' if torch.cuda.is_available() and use_gpu else 'cpu'\n",
    "print(device)\n",
    "train,val,test=get_data(data_set=data_set, num_train=numtrain)\n",
    "\n",
    "net = MNIST_Net(ks=5,p = dropout_p, minimizer=minimizer)\n",
    "net.to(device)\n",
    "\n",
    "print('model architecture')\n",
    "print(net)\n",
    "\n",
    "\n",
    "#define optimizer\n",
    "train=(train[0][0:numtrain],train[1][0:numtrain])\n",
    "\n",
    "train_errors = []\n",
    "val_errors = []\n",
    "\n",
    "for i in range(num_epochs):\n",
    "    train_error = run_epoch(net, i, train, batch_size, num=numtrain, ttype=\"train\", device=device)\n",
    "    val_error = net_test(net, val, batch_size, device=device)\n",
    "\n",
    "    train_errors.append(train_error)\n",
    "    val_errors.append(val_error)\n",
    "\n",
    "print('test on original test data')\n",
    "net_test(net,test,batch_size,ttype=\"test\")\n",
    "\n",
    "torch.save(net.state_dict(), predir+model_name)"
   ]
  },
  {
   "cell_type": "code",
   "execution_count": 12,
   "metadata": {},
   "outputs": [
    {
     "data": {
      "image/png": "[encoded data removed]",
      "text/plain": [
       "<Figure size 640x480 with 1 Axes>"
      ]
     },
     "metadata": {},
     "output_type": "display_data"
    }
   ],
   "source": [
    "import matplotlib.pyplot as plt\n",
    "\n",
    "epochs = np.arange(1, num_epochs+1)\n",
    "\n",
    "plt.plot(epochs, train_errors, label='Training Error')\n",
    "plt.plot(epochs, val_errors, label='Validation Error')\n",
    "plt.xlabel('Epoch')\n",
    "plt.ylabel('Error Rate')\n",
    "plt.title('Training and Validation Error vs Epoch')\n",
    "plt.legend()\n",
    "plt.grid(True)\n",
    "plt.show()"
   ]
  },
  {
   "cell_type": "code",
   "execution_count": 13,
   "metadata": {},
   "outputs": [
    {
     "data": {
      "image/png": "[encoded data removed]",
      "text/plain": [
       "<Figure size 1200x600 with 32 Axes>"
      ]
     },
     "metadata": {},
     "output_type": "display_data"
    }
   ],
   "source": [
    "filters = net.conv1.weight.data.clone().cpu()\n",
    "filters = filters.squeeze(1)\n",
    "\n",
    "fig, axes = plt.subplots(4, 8, figsize=(12,6))  # 4 rows × 8 columns = 32 filters\n",
    "for i, ax in enumerate(axes.flat):\n",
    "    ax.imshow(filters[i], cmap='gray')\n",
    "    ax.axis('off')\n",
    "plt.suptitle('First Convolutional Layer Filters (5x5)', fontsize=16)\n",
    "plt.show()"
   ]
  },
  {
   "cell_type": "markdown",
   "metadata": {},
   "source": [
    "# 1d) i."
   ]
  },
  {
   "cell_type": "markdown",
   "metadata": {},
   "source": [
    "Same number of layers, but half the number of parameters"
   ]
  },
  {
   "cell_type": "code",
   "execution_count": 14,
   "metadata": {},
   "outputs": [],
   "source": [
    "class MNIST_Net_d1_half(nn.Module):\n",
    "    def __init__(self,ks=5,p=0.5,minimizer='Adam',device=device):\n",
    "        super(MNIST_Net_d1_half, self).__init__()\n",
    "        self.conv1 = nn.Conv2d(1, 16, kernel_size=5)\n",
    "        self.conv2 = nn.Conv2d(16, 32, kernel_size=5)\n",
    "        self.drop2 = nn.Dropout2d(p)\n",
    "        ks=np.int32(ks)\n",
    "        self.p1=nn.MaxPool2d(kernel_size=[ks],stride=2,padding=[np.int32(ks/2)])\n",
    "        self.p2=nn.MaxPool2d(kernel_size=2,stride=2)\n",
    "        self.first=True\n",
    "        if self.first:\n",
    "            self.forward(torch.zeros((1,1,28,28)))\n",
    "        if minimizer == 'Adam':\n",
    "            self.optimizer = torch.optim.Adam(self.parameters(), lr = step_size)\n",
    "        else:\n",
    "            optimizer = torch.optim.SGD(self.parameters(), lr = step_size, momentum=0.9)\n",
    "\n",
    "        self.criterion=nn.CrossEntropyLoss()\n",
    "\n",
    "    def forward(self, x):\n",
    "\n",
    "        x = F.relu(self.p1(self.conv1(x)))\n",
    "        if self.first:\n",
    "            print('After conv1',x.shape)\n",
    "        x = F.relu(self.p2(self.drop2(self.conv2(x))))\n",
    "        if self.first:\n",
    "            print('After conv2',x.shape)\n",
    "            self.first=False\n",
    "            self.inp=x.shape[1]*x.shape[2]*x.shape[3]\n",
    "            print('Dimension before first fully connected',self.inp)\n",
    "            self.fc1 = nn.Linear(self.inp, 128)\n",
    "            self.fc2 = nn.Linear(128, 10)\n",
    "        x = x.view(-1, self.inp)\n",
    "        x = F.relu(self.fc1(x))\n",
    "        x = F.dropout(x, training=self.training)\n",
    "        x = self.fc2(x)\n",
    "        return x\n",
    "\n",
    "    def get_acc_and_loss(self, data, targ):\n",
    "        output = self.forward(data)\n",
    "        loss = self.criterion(output, targ)\n",
    "        pred = torch.max(output,1)[1]\n",
    "        correct = torch.eq(pred,targ).sum()\n",
    "\n",
    "        return loss,correct\n",
    "\n",
    "    def run_grad(self,data,targ):\n",
    "\n",
    "        loss, correct=self.get_acc_and_loss(data,targ)\n",
    "        self.optimizer.zero_grad()\n",
    "        loss.backward()\n",
    "        self.optimizer.step()\n",
    "\n",
    "        return loss, correct\n"
   ]
  },
  {
   "cell_type": "code",
   "execution_count": 16,
   "metadata": {
    "scrolled": true
   },
   "outputs": [
    {
     "name": "stdout",
     "output_type": "stream",
     "text": [
      "cpu\n",
      "Mnist data shape (70000, 784)\n",
      "After conv1 torch.Size([1, 16, 12, 12])\n",
      "After conv2 torch.Size([1, 32, 4, 4])\n",
      "Dimension before first fully connected 512\n",
      "model architecture\n",
      "MNIST_Net_d1_half(\n",
      "  (conv1): Conv2d(1, 16, kernel_size=(5, 5), stride=(1, 1))\n",
      "  (conv2): Conv2d(16, 32, kernel_size=(5, 5), stride=(1, 1))\n",
      "  (drop2): Dropout2d(p=0.0, inplace=False)\n",
      "  (p1): MaxPool2d(kernel_size=[5], stride=2, padding=[2], dilation=1, ceil_mode=False)\n",
      "  (p2): MaxPool2d(kernel_size=2, stride=2, padding=0, dilation=1, ceil_mode=False)\n",
      "  (fc1): Linear(in_features=512, out_features=128, bias=True)\n",
      "  (fc2): Linear(in_features=128, out_features=10, bias=True)\n",
      "  (criterion): CrossEntropyLoss()\n",
      ")\n"
     ]
    },
    {
     "data": {
      "application/vnd.jupyter.widget-view+json": {
       "model_id": "16fc95b2a0c141eab8a1c6c47a5dc6de",
       "version_major": 2,
       "version_minor": 0
      },
      "text/plain": [
       "  0%|          | 0/10000 [00:00<?, ?it/s]"
      ]
     },
     "metadata": {},
     "output_type": "display_data"
    },
    {
     "name": "stdout",
     "output_type": "stream",
     "text": [
      "\n",
      "Training set epoch 0: Avg. loss: 0.0039, Accuracy: 4157/10000 (42%)\n",
      "\n",
      "\n",
      "Training set epoch 0: Avg. loss: 0.0000, Accuracy: 4157/10000 (42%)\n",
      "\n",
      "\n",
      "Validation set: Avg. loss: 0.0023, Accuracy: 36397/50000 (73%)\n",
      "\n",
      "\n",
      "Validation set: Avg. loss: 0.0023, Accuracy: 36397/50000 (73%)\n",
      "\n"
     ]
    },
    {
     "data": {
      "application/vnd.jupyter.widget-view+json": {
       "model_id": "aab46390d68144ecabd250a2fbdef1b8",
       "version_major": 2,
       "version_minor": 0
      },
      "text/plain": [
       "  0%|          | 0/10000 [00:00<?, ?it/s]"
      ]
     },
     "metadata": {},
     "output_type": "display_data"
    },
    {
     "name": "stdout",
     "output_type": "stream",
     "text": [
      "\n",
      "Training set epoch 1: Avg. loss: 0.0014, Accuracy: 8177/10000 (82%)\n",
      "\n",
      "\n",
      "Training set epoch 1: Avg. loss: 0.0000, Accuracy: 8177/10000 (82%)\n",
      "\n",
      "\n",
      "Validation set: Avg. loss: 0.0010, Accuracy: 41999/50000 (84%)\n",
      "\n",
      "\n",
      "Validation set: Avg. loss: 0.0010, Accuracy: 41999/50000 (84%)\n",
      "\n"
     ]
    },
    {
     "data": {
      "application/vnd.jupyter.widget-view+json": {
       "model_id": "6d20e72a58c04215906d9a859995e27a",
       "version_major": 2,
       "version_minor": 0
      },
      "text/plain": [
       "  0%|          | 0/10000 [00:00<?, ?it/s]"
      ]
     },
     "metadata": {},
     "output_type": "display_data"
    },
    {
     "name": "stdout",
     "output_type": "stream",
     "text": [
      "\n",
      "Training set epoch 2: Avg. loss: 0.0008, Accuracy: 8839/10000 (88%)\n",
      "\n",
      "\n",
      "Training set epoch 2: Avg. loss: 0.0000, Accuracy: 8839/10000 (88%)\n",
      "\n",
      "\n",
      "Validation set: Avg. loss: 0.0007, Accuracy: 44856/50000 (90%)\n",
      "\n",
      "\n",
      "Validation set: Avg. loss: 0.0007, Accuracy: 44856/50000 (90%)\n",
      "\n"
     ]
    },
    {
     "data": {
      "application/vnd.jupyter.widget-view+json": {
       "model_id": "f68b9ada79ec40278f3721f17d152039",
       "version_major": 2,
       "version_minor": 0
      },
      "text/plain": [
       "  0%|          | 0/10000 [00:00<?, ?it/s]"
      ]
     },
     "metadata": {},
     "output_type": "display_data"
    },
    {
     "name": "stdout",
     "output_type": "stream",
     "text": [
      "\n",
      "Training set epoch 3: Avg. loss: 0.0006, Accuracy: 9162/10000 (92%)\n",
      "\n",
      "\n",
      "Training set epoch 3: Avg. loss: 0.0000, Accuracy: 9162/10000 (92%)\n",
      "\n",
      "\n",
      "Validation set: Avg. loss: 0.0005, Accuracy: 46081/50000 (92%)\n",
      "\n",
      "\n",
      "Validation set: Avg. loss: 0.0005, Accuracy: 46081/50000 (92%)\n",
      "\n"
     ]
    },
    {
     "data": {
      "application/vnd.jupyter.widget-view+json": {
       "model_id": "f5d6202463cc463795fd09e16f918f6a",
       "version_major": 2,
       "version_minor": 0
      },
      "text/plain": [
       "  0%|          | 0/10000 [00:00<?, ?it/s]"
      ]
     },
     "metadata": {},
     "output_type": "display_data"
    },
    {
     "name": "stdout",
     "output_type": "stream",
     "text": [
      "\n",
      "Training set epoch 4: Avg. loss: 0.0005, Accuracy: 9344/10000 (93%)\n",
      "\n",
      "\n",
      "Training set epoch 4: Avg. loss: 0.0000, Accuracy: 9344/10000 (93%)\n",
      "\n",
      "\n",
      "Validation set: Avg. loss: 0.0004, Accuracy: 46778/50000 (94%)\n",
      "\n",
      "\n",
      "Validation set: Avg. loss: 0.0004, Accuracy: 46778/50000 (94%)\n",
      "\n"
     ]
    },
    {
     "data": {
      "application/vnd.jupyter.widget-view+json": {
       "model_id": "0165406e57244d80877e5032bee329ec",
       "version_major": 2,
       "version_minor": 0
      },
      "text/plain": [
       "  0%|          | 0/10000 [00:00<?, ?it/s]"
      ]
     },
     "metadata": {},
     "output_type": "display_data"
    },
    {
     "name": "stdout",
     "output_type": "stream",
     "text": [
      "\n",
      "Training set epoch 5: Avg. loss: 0.0004, Accuracy: 9453/10000 (95%)\n",
      "\n",
      "\n",
      "Training set epoch 5: Avg. loss: 0.0000, Accuracy: 9453/10000 (95%)\n",
      "\n",
      "\n",
      "Validation set: Avg. loss: 0.0004, Accuracy: 47259/50000 (95%)\n",
      "\n",
      "\n",
      "Validation set: Avg. loss: 0.0004, Accuracy: 47259/50000 (95%)\n",
      "\n"
     ]
    },
    {
     "data": {
      "application/vnd.jupyter.widget-view+json": {
       "model_id": "393e4fec32aa4f188355cd850ad86644",
       "version_major": 2,
       "version_minor": 0
      },
      "text/plain": [
       "  0%|          | 0/10000 [00:00<?, ?it/s]"
      ]
     },
     "metadata": {},
     "output_type": "display_data"
    },
    {
     "name": "stdout",
     "output_type": "stream",
     "text": [
      "\n",
      "Training set epoch 6: Avg. loss: 0.0003, Accuracy: 9524/10000 (95%)\n",
      "\n",
      "\n",
      "Training set epoch 6: Avg. loss: 0.0000, Accuracy: 9524/10000 (95%)\n",
      "\n",
      "\n",
      "Validation set: Avg. loss: 0.0003, Accuracy: 47523/50000 (95%)\n",
      "\n",
      "\n",
      "Validation set: Avg. loss: 0.0003, Accuracy: 47523/50000 (95%)\n",
      "\n"
     ]
    },
    {
     "data": {
      "application/vnd.jupyter.widget-view+json": {
       "model_id": "c2bc2c0393ec47999fb4ac18e27592b6",
       "version_major": 2,
       "version_minor": 0
      },
      "text/plain": [
       "  0%|          | 0/10000 [00:00<?, ?it/s]"
      ]
     },
     "metadata": {},
     "output_type": "display_data"
    },
    {
     "name": "stdout",
     "output_type": "stream",
     "text": [
      "\n",
      "Training set epoch 7: Avg. loss: 0.0003, Accuracy: 9579/10000 (96%)\n",
      "\n",
      "\n",
      "Training set epoch 7: Avg. loss: 0.0000, Accuracy: 9579/10000 (96%)\n",
      "\n",
      "\n",
      "Validation set: Avg. loss: 0.0003, Accuracy: 47676/50000 (95%)\n",
      "\n",
      "\n",
      "Validation set: Avg. loss: 0.0003, Accuracy: 47676/50000 (95%)\n",
      "\n"
     ]
    },
    {
     "data": {
      "application/vnd.jupyter.widget-view+json": {
       "model_id": "5d7e04449601414480ea02b0db02a63f",
       "version_major": 2,
       "version_minor": 0
      },
      "text/plain": [
       "  0%|          | 0/10000 [00:00<?, ?it/s]"
      ]
     },
     "metadata": {},
     "output_type": "display_data"
    },
    {
     "name": "stdout",
     "output_type": "stream",
     "text": [
      "\n",
      "Training set epoch 8: Avg. loss: 0.0003, Accuracy: 9647/10000 (96%)\n",
      "\n",
      "\n",
      "Training set epoch 8: Avg. loss: 0.0000, Accuracy: 9647/10000 (96%)\n",
      "\n",
      "\n",
      "Validation set: Avg. loss: 0.0003, Accuracy: 47757/50000 (96%)\n",
      "\n",
      "\n",
      "Validation set: Avg. loss: 0.0003, Accuracy: 47757/50000 (96%)\n",
      "\n"
     ]
    },
    {
     "data": {
      "application/vnd.jupyter.widget-view+json": {
       "model_id": "cf85b0f70dc54a489e0a87ac4e47c2b3",
       "version_major": 2,
       "version_minor": 0
      },
      "text/plain": [
       "  0%|          | 0/10000 [00:00<?, ?it/s]"
      ]
     },
     "metadata": {},
     "output_type": "display_data"
    },
    {
     "name": "stdout",
     "output_type": "stream",
     "text": [
      "\n",
      "Training set epoch 9: Avg. loss: 0.0002, Accuracy: 9681/10000 (97%)\n",
      "\n",
      "\n",
      "Training set epoch 9: Avg. loss: 0.0000, Accuracy: 9681/10000 (97%)\n",
      "\n",
      "\n",
      "Validation set: Avg. loss: 0.0003, Accuracy: 47759/50000 (96%)\n",
      "\n",
      "\n",
      "Validation set: Avg. loss: 0.0003, Accuracy: 47759/50000 (96%)\n",
      "\n"
     ]
    },
    {
     "data": {
      "application/vnd.jupyter.widget-view+json": {
       "model_id": "32229c26059043ccb2e06b5643d31b7d",
       "version_major": 2,
       "version_minor": 0
      },
      "text/plain": [
       "  0%|          | 0/10000 [00:00<?, ?it/s]"
      ]
     },
     "metadata": {},
     "output_type": "display_data"
    },
    {
     "name": "stdout",
     "output_type": "stream",
     "text": [
      "\n",
      "Training set epoch 10: Avg. loss: 0.0002, Accuracy: 9690/10000 (97%)\n",
      "\n",
      "\n",
      "Training set epoch 10: Avg. loss: 0.0000, Accuracy: 9690/10000 (97%)\n",
      "\n",
      "\n",
      "Validation set: Avg. loss: 0.0003, Accuracy: 47819/50000 (96%)\n",
      "\n",
      "\n",
      "Validation set: Avg. loss: 0.0003, Accuracy: 47819/50000 (96%)\n",
      "\n"
     ]
    },
    {
     "data": {
      "application/vnd.jupyter.widget-view+json": {
       "model_id": "09380716c0eb46afbae1bd29360e6a44",
       "version_major": 2,
       "version_minor": 0
      },
      "text/plain": [
       "  0%|          | 0/10000 [00:00<?, ?it/s]"
      ]
     },
     "metadata": {},
     "output_type": "display_data"
    },
    {
     "name": "stdout",
     "output_type": "stream",
     "text": [
      "\n",
      "Training set epoch 11: Avg. loss: 0.0002, Accuracy: 9707/10000 (97%)\n",
      "\n",
      "\n",
      "Training set epoch 11: Avg. loss: 0.0000, Accuracy: 9707/10000 (97%)\n",
      "\n",
      "\n",
      "Validation set: Avg. loss: 0.0002, Accuracy: 48124/50000 (96%)\n",
      "\n",
      "\n",
      "Validation set: Avg. loss: 0.0002, Accuracy: 48124/50000 (96%)\n",
      "\n"
     ]
    },
    {
     "data": {
      "application/vnd.jupyter.widget-view+json": {
       "model_id": "667f092b067a4839aeaf30cce8fe8561",
       "version_major": 2,
       "version_minor": 0
      },
      "text/plain": [
       "  0%|          | 0/10000 [00:00<?, ?it/s]"
      ]
     },
     "metadata": {},
     "output_type": "display_data"
    },
    {
     "name": "stdout",
     "output_type": "stream",
     "text": [
      "\n",
      "Training set epoch 12: Avg. loss: 0.0002, Accuracy: 9727/10000 (97%)\n",
      "\n",
      "\n",
      "Training set epoch 12: Avg. loss: 0.0000, Accuracy: 9727/10000 (97%)\n",
      "\n",
      "\n",
      "Validation set: Avg. loss: 0.0002, Accuracy: 48418/50000 (97%)\n",
      "\n",
      "\n",
      "Validation set: Avg. loss: 0.0002, Accuracy: 48418/50000 (97%)\n",
      "\n"
     ]
    },
    {
     "data": {
      "application/vnd.jupyter.widget-view+json": {
       "model_id": "c0663937bde14dcdb2e824b92c38c48a",
       "version_major": 2,
       "version_minor": 0
      },
      "text/plain": [
       "  0%|          | 0/10000 [00:00<?, ?it/s]"
      ]
     },
     "metadata": {},
     "output_type": "display_data"
    },
    {
     "name": "stdout",
     "output_type": "stream",
     "text": [
      "\n",
      "Training set epoch 13: Avg. loss: 0.0002, Accuracy: 9759/10000 (98%)\n",
      "\n",
      "\n",
      "Training set epoch 13: Avg. loss: 0.0000, Accuracy: 9759/10000 (98%)\n",
      "\n",
      "\n",
      "Validation set: Avg. loss: 0.0002, Accuracy: 48503/50000 (97%)\n",
      "\n",
      "\n",
      "Validation set: Avg. loss: 0.0002, Accuracy: 48503/50000 (97%)\n",
      "\n"
     ]
    },
    {
     "data": {
      "application/vnd.jupyter.widget-view+json": {
       "model_id": "7e7722ca1f0f4de799dccaaf3fa1cd35",
       "version_major": 2,
       "version_minor": 0
      },
      "text/plain": [
       "  0%|          | 0/10000 [00:00<?, ?it/s]"
      ]
     },
     "metadata": {},
     "output_type": "display_data"
    },
    {
     "name": "stdout",
     "output_type": "stream",
     "text": [
      "\n",
      "Training set epoch 14: Avg. loss: 0.0002, Accuracy: 9774/10000 (98%)\n",
      "\n",
      "\n",
      "Training set epoch 14: Avg. loss: 0.0000, Accuracy: 9774/10000 (98%)\n",
      "\n",
      "\n",
      "Validation set: Avg. loss: 0.0002, Accuracy: 48522/50000 (97%)\n",
      "\n",
      "\n",
      "Validation set: Avg. loss: 0.0002, Accuracy: 48522/50000 (97%)\n",
      "\n"
     ]
    },
    {
     "data": {
      "application/vnd.jupyter.widget-view+json": {
       "model_id": "02c9d7b1a67b4bc68b6b6b3d9124e707",
       "version_major": 2,
       "version_minor": 0
      },
      "text/plain": [
       "  0%|          | 0/10000 [00:00<?, ?it/s]"
      ]
     },
     "metadata": {},
     "output_type": "display_data"
    },
    {
     "name": "stdout",
     "output_type": "stream",
     "text": [
      "\n",
      "Training set epoch 15: Avg. loss: 0.0001, Accuracy: 9788/10000 (98%)\n",
      "\n",
      "\n",
      "Training set epoch 15: Avg. loss: 0.0000, Accuracy: 9788/10000 (98%)\n",
      "\n",
      "\n",
      "Validation set: Avg. loss: 0.0002, Accuracy: 48519/50000 (97%)\n",
      "\n",
      "\n",
      "Validation set: Avg. loss: 0.0002, Accuracy: 48519/50000 (97%)\n",
      "\n"
     ]
    },
    {
     "data": {
      "application/vnd.jupyter.widget-view+json": {
       "model_id": "c2929982ef874b2ba68689d9cde92715",
       "version_major": 2,
       "version_minor": 0
      },
      "text/plain": [
       "  0%|          | 0/10000 [00:00<?, ?it/s]"
      ]
     },
     "metadata": {},
     "output_type": "display_data"
    },
    {
     "name": "stdout",
     "output_type": "stream",
     "text": [
      "\n",
      "Training set epoch 16: Avg. loss: 0.0001, Accuracy: 9802/10000 (98%)\n",
      "\n",
      "\n",
      "Training set epoch 16: Avg. loss: 0.0000, Accuracy: 9802/10000 (98%)\n",
      "\n",
      "\n",
      "Validation set: Avg. loss: 0.0002, Accuracy: 48547/50000 (97%)\n",
      "\n",
      "\n",
      "Validation set: Avg. loss: 0.0002, Accuracy: 48547/50000 (97%)\n",
      "\n"
     ]
    },
    {
     "data": {
      "application/vnd.jupyter.widget-view+json": {
       "model_id": "a13e2f18221b4583ad7cc5ab90f3a5d7",
       "version_major": 2,
       "version_minor": 0
      },
      "text/plain": [
       "  0%|          | 0/10000 [00:00<?, ?it/s]"
      ]
     },
     "metadata": {},
     "output_type": "display_data"
    },
    {
     "name": "stdout",
     "output_type": "stream",
     "text": [
      "\n",
      "Training set epoch 17: Avg. loss: 0.0001, Accuracy: 9809/10000 (98%)\n",
      "\n",
      "\n",
      "Training set epoch 17: Avg. loss: 0.0000, Accuracy: 9809/10000 (98%)\n",
      "\n",
      "\n",
      "Validation set: Avg. loss: 0.0002, Accuracy: 48620/50000 (97%)\n",
      "\n",
      "\n",
      "Validation set: Avg. loss: 0.0002, Accuracy: 48620/50000 (97%)\n",
      "\n"
     ]
    },
    {
     "data": {
      "application/vnd.jupyter.widget-view+json": {
       "model_id": "722ad351de3b46e195e09cb3b7caeb7a",
       "version_major": 2,
       "version_minor": 0
      },
      "text/plain": [
       "  0%|          | 0/10000 [00:00<?, ?it/s]"
      ]
     },
     "metadata": {},
     "output_type": "display_data"
    },
    {
     "name": "stdout",
     "output_type": "stream",
     "text": [
      "\n",
      "Training set epoch 18: Avg. loss: 0.0001, Accuracy: 9820/10000 (98%)\n",
      "\n",
      "\n",
      "Training set epoch 18: Avg. loss: 0.0000, Accuracy: 9820/10000 (98%)\n",
      "\n",
      "\n",
      "Validation set: Avg. loss: 0.0002, Accuracy: 48651/50000 (97%)\n",
      "\n",
      "\n",
      "Validation set: Avg. loss: 0.0002, Accuracy: 48651/50000 (97%)\n",
      "\n"
     ]
    },
    {
     "data": {
      "application/vnd.jupyter.widget-view+json": {
       "model_id": "e901d71522f145449507987574626887",
       "version_major": 2,
       "version_minor": 0
      },
      "text/plain": [
       "  0%|          | 0/10000 [00:00<?, ?it/s]"
      ]
     },
     "metadata": {},
     "output_type": "display_data"
    },
    {
     "name": "stdout",
     "output_type": "stream",
     "text": [
      "\n",
      "Training set epoch 19: Avg. loss: 0.0001, Accuracy: 9834/10000 (98%)\n",
      "\n",
      "\n",
      "Training set epoch 19: Avg. loss: 0.0000, Accuracy: 9834/10000 (98%)\n",
      "\n",
      "\n",
      "Validation set: Avg. loss: 0.0002, Accuracy: 48672/50000 (97%)\n",
      "\n",
      "\n",
      "Validation set: Avg. loss: 0.0002, Accuracy: 48672/50000 (97%)\n",
      "\n",
      "test on original test data\n",
      "\n",
      "Test set: Avg. loss: 0.0001, Accuracy: 9771/10000 (98%)\n",
      "\n",
      "\n",
      "Test set: Avg. loss: 0.0001, Accuracy: 9771/10000 (98%)\n",
      "\n"
     ]
    },
    {
     "data": {
      "text/plain": [
       "0.02290000000000003"
      ]
     },
     "execution_count": 16,
     "metadata": {},
     "output_type": "execute_result"
    }
   ],
   "source": [
    "batch_size=500\n",
    "step_size=.001\n",
    "num_epochs=20\n",
    "numtrain=10000\n",
    "minimizer=\"Adam\"\n",
    "data_set=\"mnist\"\n",
    "model_name=\"model\"\n",
    "dropout_p=0.\n",
    "use_gpu=True\n",
    "\n",
    "# use GPU when possible\n",
    "device = 'cuda:0' if torch.cuda.is_available() and use_gpu else 'cpu'\n",
    "print(device)\n",
    "train,val,test=get_data(data_set=data_set, num_train=numtrain)\n",
    "\n",
    "net = MNIST_Net_d1_half(ks=5,p = dropout_p, minimizer=minimizer)\n",
    "net.to(device)\n",
    "\n",
    "print('model architecture')\n",
    "print(net)\n",
    "\n",
    "\n",
    "#define optimizer\n",
    "train=(train[0][0:numtrain],train[1][0:numtrain])\n",
    "\n",
    "train_errors = []\n",
    "val_errors = []\n",
    "\n",
    "for i in range(num_epochs):\n",
    "    train_error = run_epoch(net, i, train, batch_size, num=numtrain, ttype=\"train\", device=device)\n",
    "    val_error = net_test(net, val, batch_size, device=device)\n",
    "\n",
    "    train_errors.append(train_error)\n",
    "    val_errors.append(val_error)\n",
    "\n",
    "print('test on original test data')\n",
    "net_test(net,test,batch_size,ttype=\"test\")"
   ]
  },
  {
   "cell_type": "code",
   "execution_count": 17,
   "metadata": {},
   "outputs": [
    {
     "data": {
      "image/png": "[encoded data removed]",
      "text/plain": [
       "<Figure size 640x480 with 1 Axes>"
      ]
     },
     "metadata": {},
     "output_type": "display_data"
    }
   ],
   "source": [
    "epochs = np.arange(1, num_epochs+1)\n",
    "\n",
    "plt.plot(epochs, train_errors, label='Training Error')\n",
    "plt.plot(epochs, val_errors, label='Validation Error')\n",
    "plt.xlabel('Epoch')\n",
    "plt.ylabel('Error Rate')\n",
    "plt.title('Training and Validation Error vs Epoch')\n",
    "plt.legend()\n",
    "plt.grid(True)\n",
    "plt.show()"
   ]
  },
  {
   "cell_type": "markdown",
   "metadata": {},
   "source": [
    "Same number of layers, but double the number of parameters"
   ]
  },
  {
   "cell_type": "code",
   "execution_count": 18,
   "metadata": {},
   "outputs": [],
   "source": [
    "class MNIST_Net_d1_double(nn.Module):\n",
    "    def __init__(self,ks=5,p=0.5,minimizer='Adam',device=device):\n",
    "        super(MNIST_Net_d1_double, self).__init__()\n",
    "        self.conv1 = nn.Conv2d(1, 64, kernel_size=5)\n",
    "        self.conv2 = nn.Conv2d(64, 128, kernel_size=5)\n",
    "        self.drop2 = nn.Dropout2d(p)\n",
    "        ks=np.int32(ks)\n",
    "        self.p1=nn.MaxPool2d(kernel_size=[ks],stride=2,padding=[np.int32(ks/2)])\n",
    "        self.p2=nn.MaxPool2d(kernel_size=2,stride=2)\n",
    "        self.first=True\n",
    "        if self.first:\n",
    "            self.forward(torch.zeros((1,1,28,28)))\n",
    "        if minimizer == 'Adam':\n",
    "            self.optimizer = torch.optim.Adam(self.parameters(), lr = step_size)\n",
    "        else:\n",
    "            optimizer = torch.optim.SGD(self.parameters(), lr = step_size, momentum=0.9)\n",
    "\n",
    "        self.criterion=nn.CrossEntropyLoss()\n",
    "\n",
    "    def forward(self, x):\n",
    "\n",
    "        x = F.relu(self.p1(self.conv1(x)))\n",
    "        if self.first:\n",
    "            print('After conv1',x.shape)\n",
    "        x = F.relu(self.p2(self.drop2(self.conv2(x))))\n",
    "        if self.first:\n",
    "            print('After conv2',x.shape)\n",
    "            self.first=False\n",
    "            self.inp=x.shape[1]*x.shape[2]*x.shape[3]\n",
    "            print('Dimension before first fully connected',self.inp)\n",
    "            self.fc1 = nn.Linear(self.inp, 512)\n",
    "            self.fc2 = nn.Linear(512, 10)\n",
    "        x = x.view(-1, self.inp)\n",
    "        x = F.relu(self.fc1(x))\n",
    "        x = F.dropout(x, training=self.training)\n",
    "        x = self.fc2(x)\n",
    "        return x\n",
    "\n",
    "    def get_acc_and_loss(self, data, targ):\n",
    "        output = self.forward(data)\n",
    "        loss = self.criterion(output, targ)\n",
    "        pred = torch.max(output,1)[1]\n",
    "        correct = torch.eq(pred,targ).sum()\n",
    "\n",
    "        return loss,correct\n",
    "\n",
    "    def run_grad(self,data,targ):\n",
    "\n",
    "        loss, correct=self.get_acc_and_loss(data,targ)\n",
    "        self.optimizer.zero_grad()\n",
    "        loss.backward()\n",
    "        self.optimizer.step()\n",
    "\n",
    "        return loss, correct\n"
   ]
  },
  {
   "cell_type": "code",
   "execution_count": 19,
   "metadata": {
    "scrolled": true
   },
   "outputs": [
    {
     "name": "stdout",
     "output_type": "stream",
     "text": [
      "cpu\n",
      "Mnist data shape (70000, 784)\n",
      "After conv1 torch.Size([1, 64, 12, 12])\n",
      "After conv2 torch.Size([1, 128, 4, 4])\n",
      "Dimension before first fully connected 2048\n",
      "model architecture\n",
      "MNIST_Net_d1_double(\n",
      "  (conv1): Conv2d(1, 64, kernel_size=(5, 5), stride=(1, 1))\n",
      "  (conv2): Conv2d(64, 128, kernel_size=(5, 5), stride=(1, 1))\n",
      "  (drop2): Dropout2d(p=0.0, inplace=False)\n",
      "  (p1): MaxPool2d(kernel_size=[5], stride=2, padding=[2], dilation=1, ceil_mode=False)\n",
      "  (p2): MaxPool2d(kernel_size=2, stride=2, padding=0, dilation=1, ceil_mode=False)\n",
      "  (fc1): Linear(in_features=2048, out_features=512, bias=True)\n",
      "  (fc2): Linear(in_features=512, out_features=10, bias=True)\n",
      "  (criterion): CrossEntropyLoss()\n",
      ")\n"
     ]
    },
    {
     "data": {
      "application/vnd.jupyter.widget-view+json": {
       "model_id": "83a38fe615a84826a4767e36297a6b3d",
       "version_major": 2,
       "version_minor": 0
      },
      "text/plain": [
       "  0%|          | 0/10000 [00:00<?, ?it/s]"
      ]
     },
     "metadata": {},
     "output_type": "display_data"
    },
    {
     "name": "stdout",
     "output_type": "stream",
     "text": [
      "\n",
      "Training set epoch 0: Avg. loss: 0.0025, Accuracy: 6144/10000 (61%)\n",
      "\n",
      "\n",
      "Training set epoch 0: Avg. loss: 0.0000, Accuracy: 6144/10000 (61%)\n",
      "\n",
      "\n",
      "Validation set: Avg. loss: 0.0008, Accuracy: 43824/50000 (88%)\n",
      "\n",
      "\n",
      "Validation set: Avg. loss: 0.0008, Accuracy: 43824/50000 (88%)\n",
      "\n"
     ]
    },
    {
     "data": {
      "application/vnd.jupyter.widget-view+json": {
       "model_id": "b18f431530af49f4a03c58a11fb2c39f",
       "version_major": 2,
       "version_minor": 0
      },
      "text/plain": [
       "  0%|          | 0/10000 [00:00<?, ?it/s]"
      ]
     },
     "metadata": {},
     "output_type": "display_data"
    },
    {
     "name": "stdout",
     "output_type": "stream",
     "text": [
      "\n",
      "Training set epoch 1: Avg. loss: 0.0006, Accuracy: 9147/10000 (91%)\n",
      "\n",
      "\n",
      "Training set epoch 1: Avg. loss: 0.0000, Accuracy: 9147/10000 (91%)\n",
      "\n",
      "\n",
      "Validation set: Avg. loss: 0.0004, Accuracy: 47014/50000 (94%)\n",
      "\n",
      "\n",
      "Validation set: Avg. loss: 0.0004, Accuracy: 47014/50000 (94%)\n",
      "\n"
     ]
    },
    {
     "data": {
      "application/vnd.jupyter.widget-view+json": {
       "model_id": "54151809557e42e989e5d376fc3b9e64",
       "version_major": 2,
       "version_minor": 0
      },
      "text/plain": [
       "  0%|          | 0/10000 [00:00<?, ?it/s]"
      ]
     },
     "metadata": {},
     "output_type": "display_data"
    },
    {
     "name": "stdout",
     "output_type": "stream",
     "text": [
      "\n",
      "Training set epoch 2: Avg. loss: 0.0003, Accuracy: 9552/10000 (96%)\n",
      "\n",
      "\n",
      "Training set epoch 2: Avg. loss: 0.0000, Accuracy: 9552/10000 (96%)\n",
      "\n",
      "\n",
      "Validation set: Avg. loss: 0.0003, Accuracy: 47739/50000 (95%)\n",
      "\n",
      "\n",
      "Validation set: Avg. loss: 0.0003, Accuracy: 47739/50000 (95%)\n",
      "\n"
     ]
    },
    {
     "data": {
      "application/vnd.jupyter.widget-view+json": {
       "model_id": "091d520b09ee4fb59bf433620420f8ba",
       "version_major": 2,
       "version_minor": 0
      },
      "text/plain": [
       "  0%|          | 0/10000 [00:00<?, ?it/s]"
      ]
     },
     "metadata": {},
     "output_type": "display_data"
    },
    {
     "name": "stdout",
     "output_type": "stream",
     "text": [
      "\n",
      "Training set epoch 3: Avg. loss: 0.0002, Accuracy: 9667/10000 (97%)\n",
      "\n",
      "\n",
      "Training set epoch 3: Avg. loss: 0.0000, Accuracy: 9667/10000 (97%)\n",
      "\n",
      "\n",
      "Validation set: Avg. loss: 0.0002, Accuracy: 48255/50000 (97%)\n",
      "\n",
      "\n",
      "Validation set: Avg. loss: 0.0002, Accuracy: 48255/50000 (97%)\n",
      "\n"
     ]
    },
    {
     "data": {
      "application/vnd.jupyter.widget-view+json": {
       "model_id": "4fa0f31e1ac44075b610dd06bf11050f",
       "version_major": 2,
       "version_minor": 0
      },
      "text/plain": [
       "  0%|          | 0/10000 [00:00<?, ?it/s]"
      ]
     },
     "metadata": {},
     "output_type": "display_data"
    },
    {
     "name": "stdout",
     "output_type": "stream",
     "text": [
      "\n",
      "Training set epoch 4: Avg. loss: 0.0002, Accuracy: 9738/10000 (97%)\n",
      "\n",
      "\n",
      "Training set epoch 4: Avg. loss: 0.0000, Accuracy: 9738/10000 (97%)\n",
      "\n",
      "\n",
      "Validation set: Avg. loss: 0.0002, Accuracy: 48504/50000 (97%)\n",
      "\n",
      "\n",
      "Validation set: Avg. loss: 0.0002, Accuracy: 48504/50000 (97%)\n",
      "\n"
     ]
    },
    {
     "data": {
      "application/vnd.jupyter.widget-view+json": {
       "model_id": "32a01ba6293f40268c1684195c58578b",
       "version_major": 2,
       "version_minor": 0
      },
      "text/plain": [
       "  0%|          | 0/10000 [00:00<?, ?it/s]"
      ]
     },
     "metadata": {},
     "output_type": "display_data"
    },
    {
     "name": "stdout",
     "output_type": "stream",
     "text": [
      "\n",
      "Training set epoch 5: Avg. loss: 0.0001, Accuracy: 9786/10000 (98%)\n",
      "\n",
      "\n",
      "Training set epoch 5: Avg. loss: 0.0000, Accuracy: 9786/10000 (98%)\n",
      "\n",
      "\n",
      "Validation set: Avg. loss: 0.0002, Accuracy: 48444/50000 (97%)\n",
      "\n",
      "\n",
      "Validation set: Avg. loss: 0.0002, Accuracy: 48444/50000 (97%)\n",
      "\n"
     ]
    },
    {
     "data": {
      "application/vnd.jupyter.widget-view+json": {
       "model_id": "dd8f6c96d968423985a6323e6a074b52",
       "version_major": 2,
       "version_minor": 0
      },
      "text/plain": [
       "  0%|          | 0/10000 [00:00<?, ?it/s]"
      ]
     },
     "metadata": {},
     "output_type": "display_data"
    },
    {
     "name": "stdout",
     "output_type": "stream",
     "text": [
      "\n",
      "Training set epoch 6: Avg. loss: 0.0001, Accuracy: 9827/10000 (98%)\n",
      "\n",
      "\n",
      "Training set epoch 6: Avg. loss: 0.0000, Accuracy: 9827/10000 (98%)\n",
      "\n",
      "\n",
      "Validation set: Avg. loss: 0.0002, Accuracy: 48279/50000 (97%)\n",
      "\n",
      "\n",
      "Validation set: Avg. loss: 0.0002, Accuracy: 48279/50000 (97%)\n",
      "\n"
     ]
    },
    {
     "data": {
      "application/vnd.jupyter.widget-view+json": {
       "model_id": "eae6f911372a4f66890a9ad51474fcee",
       "version_major": 2,
       "version_minor": 0
      },
      "text/plain": [
       "  0%|          | 0/10000 [00:00<?, ?it/s]"
      ]
     },
     "metadata": {},
     "output_type": "display_data"
    },
    {
     "name": "stdout",
     "output_type": "stream",
     "text": [
      "\n",
      "Training set epoch 7: Avg. loss: 0.0001, Accuracy: 9841/10000 (98%)\n",
      "\n",
      "\n",
      "Training set epoch 7: Avg. loss: 0.0000, Accuracy: 9841/10000 (98%)\n",
      "\n",
      "\n",
      "Validation set: Avg. loss: 0.0002, Accuracy: 48689/50000 (97%)\n",
      "\n",
      "\n",
      "Validation set: Avg. loss: 0.0002, Accuracy: 48689/50000 (97%)\n",
      "\n"
     ]
    },
    {
     "data": {
      "application/vnd.jupyter.widget-view+json": {
       "model_id": "1d28bf1193df4940abc85d2a9c560407",
       "version_major": 2,
       "version_minor": 0
      },
      "text/plain": [
       "  0%|          | 0/10000 [00:00<?, ?it/s]"
      ]
     },
     "metadata": {},
     "output_type": "display_data"
    },
    {
     "name": "stdout",
     "output_type": "stream",
     "text": [
      "\n",
      "Training set epoch 8: Avg. loss: 0.0001, Accuracy: 9857/10000 (99%)\n",
      "\n",
      "\n",
      "Training set epoch 8: Avg. loss: 0.0000, Accuracy: 9857/10000 (99%)\n",
      "\n",
      "\n",
      "Validation set: Avg. loss: 0.0001, Accuracy: 48910/50000 (98%)\n",
      "\n",
      "\n",
      "Validation set: Avg. loss: 0.0001, Accuracy: 48910/50000 (98%)\n",
      "\n"
     ]
    },
    {
     "data": {
      "application/vnd.jupyter.widget-view+json": {
       "model_id": "1ea24d7c6b3a49f4af1a7be913bbaf26",
       "version_major": 2,
       "version_minor": 0
      },
      "text/plain": [
       "  0%|          | 0/10000 [00:00<?, ?it/s]"
      ]
     },
     "metadata": {},
     "output_type": "display_data"
    },
    {
     "name": "stdout",
     "output_type": "stream",
     "text": [
      "\n",
      "Training set epoch 9: Avg. loss: 0.0001, Accuracy: 9898/10000 (99%)\n",
      "\n",
      "\n",
      "Training set epoch 9: Avg. loss: 0.0000, Accuracy: 9898/10000 (99%)\n",
      "\n",
      "\n",
      "Validation set: Avg. loss: 0.0001, Accuracy: 48856/50000 (98%)\n",
      "\n",
      "\n",
      "Validation set: Avg. loss: 0.0001, Accuracy: 48856/50000 (98%)\n",
      "\n"
     ]
    },
    {
     "data": {
      "application/vnd.jupyter.widget-view+json": {
       "model_id": "fcb1efbad1ad4b6081450b2debaa3a8b",
       "version_major": 2,
       "version_minor": 0
      },
      "text/plain": [
       "  0%|          | 0/10000 [00:00<?, ?it/s]"
      ]
     },
     "metadata": {},
     "output_type": "display_data"
    },
    {
     "name": "stdout",
     "output_type": "stream",
     "text": [
      "\n",
      "Training set epoch 10: Avg. loss: 0.0001, Accuracy: 9923/10000 (99%)\n",
      "\n",
      "\n",
      "Training set epoch 10: Avg. loss: 0.0000, Accuracy: 9923/10000 (99%)\n",
      "\n",
      "\n",
      "Validation set: Avg. loss: 0.0001, Accuracy: 48853/50000 (98%)\n",
      "\n",
      "\n",
      "Validation set: Avg. loss: 0.0001, Accuracy: 48853/50000 (98%)\n",
      "\n"
     ]
    },
    {
     "data": {
      "application/vnd.jupyter.widget-view+json": {
       "model_id": "fa27d2717ca64259aea4a2ac985bfba4",
       "version_major": 2,
       "version_minor": 0
      },
      "text/plain": [
       "  0%|          | 0/10000 [00:00<?, ?it/s]"
      ]
     },
     "metadata": {},
     "output_type": "display_data"
    },
    {
     "name": "stdout",
     "output_type": "stream",
     "text": [
      "\n",
      "Training set epoch 11: Avg. loss: 0.0001, Accuracy: 9928/10000 (99%)\n",
      "\n",
      "\n",
      "Training set epoch 11: Avg. loss: 0.0000, Accuracy: 9928/10000 (99%)\n",
      "\n",
      "\n",
      "Validation set: Avg. loss: 0.0001, Accuracy: 48885/50000 (98%)\n",
      "\n",
      "\n",
      "Validation set: Avg. loss: 0.0001, Accuracy: 48885/50000 (98%)\n",
      "\n"
     ]
    },
    {
     "data": {
      "application/vnd.jupyter.widget-view+json": {
       "model_id": "980eaf087f1542c8948b4b9bd5460371",
       "version_major": 2,
       "version_minor": 0
      },
      "text/plain": [
       "  0%|          | 0/10000 [00:00<?, ?it/s]"
      ]
     },
     "metadata": {},
     "output_type": "display_data"
    },
    {
     "name": "stdout",
     "output_type": "stream",
     "text": [
      "\n",
      "Training set epoch 12: Avg. loss: 0.0001, Accuracy: 9937/10000 (99%)\n",
      "\n",
      "\n",
      "Training set epoch 12: Avg. loss: 0.0000, Accuracy: 9937/10000 (99%)\n",
      "\n",
      "\n",
      "Validation set: Avg. loss: 0.0001, Accuracy: 49097/50000 (98%)\n",
      "\n",
      "\n",
      "Validation set: Avg. loss: 0.0001, Accuracy: 49097/50000 (98%)\n",
      "\n"
     ]
    },
    {
     "data": {
      "application/vnd.jupyter.widget-view+json": {
       "model_id": "f4093f48b2b64fd986b738da1f60e5c2",
       "version_major": 2,
       "version_minor": 0
      },
      "text/plain": [
       "  0%|          | 0/10000 [00:00<?, ?it/s]"
      ]
     },
     "metadata": {},
     "output_type": "display_data"
    },
    {
     "name": "stdout",
     "output_type": "stream",
     "text": [
      "\n",
      "Training set epoch 13: Avg. loss: 0.0000, Accuracy: 9940/10000 (99%)\n",
      "\n",
      "\n",
      "Training set epoch 13: Avg. loss: 0.0000, Accuracy: 9940/10000 (99%)\n",
      "\n",
      "\n",
      "Validation set: Avg. loss: 0.0001, Accuracy: 49136/50000 (98%)\n",
      "\n",
      "\n",
      "Validation set: Avg. loss: 0.0001, Accuracy: 49136/50000 (98%)\n",
      "\n"
     ]
    },
    {
     "data": {
      "application/vnd.jupyter.widget-view+json": {
       "model_id": "81cfa40ab07443729d81c9a78148b66a",
       "version_major": 2,
       "version_minor": 0
      },
      "text/plain": [
       "  0%|          | 0/10000 [00:00<?, ?it/s]"
      ]
     },
     "metadata": {},
     "output_type": "display_data"
    },
    {
     "name": "stdout",
     "output_type": "stream",
     "text": [
      "\n",
      "Training set epoch 14: Avg. loss: 0.0000, Accuracy: 9956/10000 (100%)\n",
      "\n",
      "\n",
      "Training set epoch 14: Avg. loss: 0.0000, Accuracy: 9956/10000 (100%)\n",
      "\n",
      "\n",
      "Validation set: Avg. loss: 0.0001, Accuracy: 49126/50000 (98%)\n",
      "\n",
      "\n",
      "Validation set: Avg. loss: 0.0001, Accuracy: 49126/50000 (98%)\n",
      "\n"
     ]
    },
    {
     "data": {
      "application/vnd.jupyter.widget-view+json": {
       "model_id": "48d39c18141a4a00a0394f69bdf42ba3",
       "version_major": 2,
       "version_minor": 0
      },
      "text/plain": [
       "  0%|          | 0/10000 [00:00<?, ?it/s]"
      ]
     },
     "metadata": {},
     "output_type": "display_data"
    },
    {
     "name": "stdout",
     "output_type": "stream",
     "text": [
      "\n",
      "Training set epoch 15: Avg. loss: 0.0000, Accuracy: 9972/10000 (100%)\n",
      "\n",
      "\n",
      "Training set epoch 15: Avg. loss: 0.0000, Accuracy: 9972/10000 (100%)\n",
      "\n",
      "\n",
      "Validation set: Avg. loss: 0.0001, Accuracy: 49113/50000 (98%)\n",
      "\n",
      "\n",
      "Validation set: Avg. loss: 0.0001, Accuracy: 49113/50000 (98%)\n",
      "\n"
     ]
    },
    {
     "data": {
      "application/vnd.jupyter.widget-view+json": {
       "model_id": "041e2dd6fb684a38b6f37576099ae0f8",
       "version_major": 2,
       "version_minor": 0
      },
      "text/plain": [
       "  0%|          | 0/10000 [00:00<?, ?it/s]"
      ]
     },
     "metadata": {},
     "output_type": "display_data"
    },
    {
     "name": "stdout",
     "output_type": "stream",
     "text": [
      "\n",
      "Training set epoch 16: Avg. loss: 0.0000, Accuracy: 9967/10000 (100%)\n",
      "\n",
      "\n",
      "Training set epoch 16: Avg. loss: 0.0000, Accuracy: 9967/10000 (100%)\n",
      "\n",
      "\n",
      "Validation set: Avg. loss: 0.0001, Accuracy: 49035/50000 (98%)\n",
      "\n",
      "\n",
      "Validation set: Avg. loss: 0.0001, Accuracy: 49035/50000 (98%)\n",
      "\n"
     ]
    },
    {
     "data": {
      "application/vnd.jupyter.widget-view+json": {
       "model_id": "e39515d8b3d44b16bb1fe8afe6c897da",
       "version_major": 2,
       "version_minor": 0
      },
      "text/plain": [
       "  0%|          | 0/10000 [00:00<?, ?it/s]"
      ]
     },
     "metadata": {},
     "output_type": "display_data"
    },
    {
     "name": "stdout",
     "output_type": "stream",
     "text": [
      "\n",
      "Training set epoch 17: Avg. loss: 0.0000, Accuracy: 9972/10000 (100%)\n",
      "\n",
      "\n",
      "Training set epoch 17: Avg. loss: 0.0000, Accuracy: 9972/10000 (100%)\n",
      "\n",
      "\n",
      "Validation set: Avg. loss: 0.0001, Accuracy: 48965/50000 (98%)\n",
      "\n",
      "\n",
      "Validation set: Avg. loss: 0.0001, Accuracy: 48965/50000 (98%)\n",
      "\n"
     ]
    },
    {
     "data": {
      "application/vnd.jupyter.widget-view+json": {
       "model_id": "c97ee97f46e14c9b8c8f3b8e71eb712f",
       "version_major": 2,
       "version_minor": 0
      },
      "text/plain": [
       "  0%|          | 0/10000 [00:00<?, ?it/s]"
      ]
     },
     "metadata": {},
     "output_type": "display_data"
    },
    {
     "name": "stdout",
     "output_type": "stream",
     "text": [
      "\n",
      "Training set epoch 18: Avg. loss: 0.0000, Accuracy: 9965/10000 (100%)\n",
      "\n",
      "\n",
      "Training set epoch 18: Avg. loss: 0.0000, Accuracy: 9965/10000 (100%)\n",
      "\n",
      "\n",
      "Validation set: Avg. loss: 0.0002, Accuracy: 48823/50000 (98%)\n",
      "\n",
      "\n",
      "Validation set: Avg. loss: 0.0002, Accuracy: 48823/50000 (98%)\n",
      "\n"
     ]
    },
    {
     "data": {
      "application/vnd.jupyter.widget-view+json": {
       "model_id": "ec05084b2fe24d07bc6c649d0636df74",
       "version_major": 2,
       "version_minor": 0
      },
      "text/plain": [
       "  0%|          | 0/10000 [00:00<?, ?it/s]"
      ]
     },
     "metadata": {},
     "output_type": "display_data"
    },
    {
     "name": "stdout",
     "output_type": "stream",
     "text": [
      "\n",
      "Training set epoch 19: Avg. loss: 0.0000, Accuracy: 9962/10000 (100%)\n",
      "\n",
      "\n",
      "Training set epoch 19: Avg. loss: 0.0000, Accuracy: 9962/10000 (100%)\n",
      "\n",
      "\n",
      "Validation set: Avg. loss: 0.0002, Accuracy: 48876/50000 (98%)\n",
      "\n",
      "\n",
      "Validation set: Avg. loss: 0.0002, Accuracy: 48876/50000 (98%)\n",
      "\n",
      "test on original test data\n",
      "\n",
      "Test set: Avg. loss: 0.0002, Accuracy: 9794/10000 (98%)\n",
      "\n",
      "\n",
      "Test set: Avg. loss: 0.0002, Accuracy: 9794/10000 (98%)\n",
      "\n"
     ]
    },
    {
     "data": {
      "text/plain": [
       "0.02059999999999995"
      ]
     },
     "execution_count": 19,
     "metadata": {},
     "output_type": "execute_result"
    }
   ],
   "source": [
    "batch_size=500\n",
    "step_size=.001\n",
    "num_epochs=20\n",
    "numtrain=10000\n",
    "minimizer=\"Adam\"\n",
    "data_set=\"mnist\"\n",
    "model_name=\"model\"\n",
    "dropout_p=0.\n",
    "use_gpu=True\n",
    "\n",
    "# use GPU when possible\n",
    "device = 'cuda:0' if torch.cuda.is_available() and use_gpu else 'cpu'\n",
    "print(device)\n",
    "train,val,test=get_data(data_set=data_set, num_train=numtrain)\n",
    "\n",
    "net = MNIST_Net_d1_double(ks=5,p = dropout_p, minimizer=minimizer)\n",
    "net.to(device)\n",
    "\n",
    "print('model architecture')\n",
    "print(net)\n",
    "\n",
    "\n",
    "#define optimizer\n",
    "train=(train[0][0:numtrain],train[1][0:numtrain])\n",
    "\n",
    "train_errors = []\n",
    "val_errors = []\n",
    "\n",
    "for i in range(num_epochs):\n",
    "    train_error = run_epoch(net, i, train, batch_size, num=numtrain, ttype=\"train\", device=device)\n",
    "    val_error = net_test(net, val, batch_size, device=device)\n",
    "\n",
    "    train_errors.append(train_error)\n",
    "    val_errors.append(val_error)\n",
    "\n",
    "print('test on original test data')\n",
    "net_test(net,test,batch_size,ttype=\"test\")"
   ]
  },
  {
   "cell_type": "code",
   "execution_count": 20,
   "metadata": {},
   "outputs": [
    {
     "data": {
      "image/png": "[encoded data removed]",
      "text/plain": [
       "<Figure size 640x480 with 1 Axes>"
      ]
     },
     "metadata": {},
     "output_type": "display_data"
    }
   ],
   "source": [
    "epochs = np.arange(1, num_epochs+1)\n",
    "\n",
    "plt.plot(epochs, train_errors, label='Training Error')\n",
    "plt.plot(epochs, val_errors, label='Validation Error')\n",
    "plt.xlabel('Epoch')\n",
    "plt.ylabel('Error Rate')\n",
    "plt.title('Training and Validation Error vs Epoch')\n",
    "plt.legend()\n",
    "plt.grid(True)\n",
    "plt.show()"
   ]
  },
  {
   "cell_type": "markdown",
   "metadata": {},
   "source": [
    "We see that the original model achieves validation and test set accuracies of 98%. The halved model achieves 97% on validation and 98% on test with roughly half the number of parameters as the original and the doubled model achieves 98% on both with roughly double the number of parameters as the original."
   ]
  },
  {
   "cell_type": "markdown",
   "metadata": {},
   "source": [
    "# 1d)ii."
   ]
  },
  {
   "cell_type": "markdown",
   "metadata": {},
   "source": [
    "We try 4 convolutional layers that are a bit skinnier and also thin out the mcp layers."
   ]
  },
  {
   "cell_type": "code",
   "execution_count": 24,
   "metadata": {},
   "outputs": [],
   "source": [
    "class MNIST_Net_d2_deeper(nn.Module):\n",
    "    def __init__(self, ks=5, p=0.5, minimizer='Adam', device='cuda:0'):\n",
    "        super(MNIST_Net_d2_deeper, self).__init__()\n",
    "        \n",
    "        # 4 convolutional layers (smaller widths)\n",
    "        self.conv1 = nn.Conv2d(1, 16, kernel_size=5)\n",
    "        self.conv2 = nn.Conv2d(16, 32, kernel_size=5)\n",
    "        self.conv3 = nn.Conv2d(32, 32, kernel_size=3)\n",
    "        self.conv4 = nn.Conv2d(32, 64, kernel_size=3)\n",
    "        \n",
    "        self.drop2 = nn.Dropout2d(p)\n",
    "        \n",
    "        ks = int(ks)\n",
    "        self.p1 = nn.MaxPool2d(kernel_size=[ks], stride=2, padding=[int(ks/2)])  # after conv2\n",
    "        self.p2 = nn.MaxPool2d(kernel_size=2, stride=2)  # after conv4\n",
    "        \n",
    "        self.first = True\n",
    "        if self.first:\n",
    "            self.forward(torch.zeros((1, 1, 28, 28)))\n",
    "        \n",
    "        if minimizer == 'Adam':\n",
    "            self.optimizer = torch.optim.Adam(self.parameters(), lr=step_size)\n",
    "        else:\n",
    "            self.optimizer = torch.optim.SGD(self.parameters(), lr=step_size, momentum=0.9)\n",
    "\n",
    "        self.criterion = nn.CrossEntropyLoss()\n",
    "\n",
    "    def forward(self, x):\n",
    "        x = F.relu(self.conv1(x))\n",
    "        x = F.relu(self.conv2(x))\n",
    "        x = self.p1(x)\n",
    "        x = F.relu(self.conv3(x))\n",
    "        x = F.relu(self.drop2(self.conv4(x)))\n",
    "        x = self.p2(x)\n",
    "        \n",
    "        if self.first:\n",
    "            print('After conv/pool layers:', x.shape)\n",
    "            self.first = False\n",
    "            self.inp = x.shape[1] * x.shape[2] * x.shape[3]\n",
    "            print('Flattened dimension for FC:', self.inp)\n",
    "            self.fc1 = nn.Linear(self.inp, 128)\n",
    "            self.fc2 = nn.Linear(128, 10)\n",
    "        \n",
    "        x = x.view(-1, self.inp)\n",
    "        x = F.relu(self.fc1(x))\n",
    "        x = F.dropout(x, training=self.training)\n",
    "        x = self.fc2(x)\n",
    "        return x\n",
    "\n",
    "    def get_acc_and_loss(self, data, targ):\n",
    "        output = self.forward(data)\n",
    "        loss = self.criterion(output, targ)\n",
    "        pred = torch.max(output, 1)[1]\n",
    "        correct = torch.eq(pred, targ).sum()\n",
    "        return loss, correct\n",
    "\n",
    "    def run_grad(self, data, targ):\n",
    "        loss, correct = self.get_acc_and_loss(data, targ)\n",
    "        self.optimizer.zero_grad()\n",
    "        loss.backward()\n",
    "        self.optimizer.step()\n",
    "        return loss, correct"
   ]
  },
  {
   "cell_type": "code",
   "execution_count": 25,
   "metadata": {
    "scrolled": true
   },
   "outputs": [
    {
     "name": "stdout",
     "output_type": "stream",
     "text": [
      "cpu\n",
      "Mnist data shape (70000, 784)\n",
      "After conv/pool layers: torch.Size([1, 64, 3, 3])\n",
      "Flattened dimension for FC: 576\n",
      "model architecture\n",
      "MNIST_Net_d2_deeper(\n",
      "  (conv1): Conv2d(1, 16, kernel_size=(5, 5), stride=(1, 1))\n",
      "  (conv2): Conv2d(16, 32, kernel_size=(5, 5), stride=(1, 1))\n",
      "  (conv3): Conv2d(32, 32, kernel_size=(3, 3), stride=(1, 1))\n",
      "  (conv4): Conv2d(32, 64, kernel_size=(3, 3), stride=(1, 1))\n",
      "  (drop2): Dropout2d(p=0.0, inplace=False)\n",
      "  (p1): MaxPool2d(kernel_size=[5], stride=2, padding=[2], dilation=1, ceil_mode=False)\n",
      "  (p2): MaxPool2d(kernel_size=2, stride=2, padding=0, dilation=1, ceil_mode=False)\n",
      "  (fc1): Linear(in_features=576, out_features=128, bias=True)\n",
      "  (fc2): Linear(in_features=128, out_features=10, bias=True)\n",
      "  (criterion): CrossEntropyLoss()\n",
      ")\n"
     ]
    },
    {
     "data": {
      "application/vnd.jupyter.widget-view+json": {
       "model_id": "8c9559eb0f31417d986e896fd1752eff",
       "version_major": 2,
       "version_minor": 0
      },
      "text/plain": [
       "  0%|          | 0/10000 [00:00<?, ?it/s]"
      ]
     },
     "metadata": {},
     "output_type": "display_data"
    },
    {
     "name": "stdout",
     "output_type": "stream",
     "text": [
      "\n",
      "Training set epoch 0: Avg. loss: 0.0041, Accuracy: 3302/10000 (33%)\n",
      "\n",
      "\n",
      "Training set epoch 0: Avg. loss: 0.0000, Accuracy: 3302/10000 (33%)\n",
      "\n",
      "\n",
      "Validation set: Avg. loss: 0.0022, Accuracy: 35955/50000 (72%)\n",
      "\n",
      "\n",
      "Validation set: Avg. loss: 0.0022, Accuracy: 35955/50000 (72%)\n",
      "\n"
     ]
    },
    {
     "data": {
      "application/vnd.jupyter.widget-view+json": {
       "model_id": "1d460e3cb0694ef8b47fb87af1e64010",
       "version_major": 2,
       "version_minor": 0
      },
      "text/plain": [
       "  0%|          | 0/10000 [00:00<?, ?it/s]"
      ]
     },
     "metadata": {},
     "output_type": "display_data"
    },
    {
     "name": "stdout",
     "output_type": "stream",
     "text": [
      "\n",
      "Training set epoch 1: Avg. loss: 0.0012, Accuracy: 8288/10000 (83%)\n",
      "\n",
      "\n",
      "Training set epoch 1: Avg. loss: 0.0000, Accuracy: 8288/10000 (83%)\n",
      "\n",
      "\n",
      "Validation set: Avg. loss: 0.0007, Accuracy: 44291/50000 (89%)\n",
      "\n",
      "\n",
      "Validation set: Avg. loss: 0.0007, Accuracy: 44291/50000 (89%)\n",
      "\n"
     ]
    },
    {
     "data": {
      "application/vnd.jupyter.widget-view+json": {
       "model_id": "a068cea2526243bd95c1472c5b602733",
       "version_major": 2,
       "version_minor": 0
      },
      "text/plain": [
       "  0%|          | 0/10000 [00:00<?, ?it/s]"
      ]
     },
     "metadata": {},
     "output_type": "display_data"
    },
    {
     "name": "stdout",
     "output_type": "stream",
     "text": [
      "\n",
      "Training set epoch 2: Avg. loss: 0.0006, Accuracy: 9103/10000 (91%)\n",
      "\n",
      "\n",
      "Training set epoch 2: Avg. loss: 0.0000, Accuracy: 9103/10000 (91%)\n",
      "\n",
      "\n",
      "Validation set: Avg. loss: 0.0005, Accuracy: 46378/50000 (93%)\n",
      "\n",
      "\n",
      "Validation set: Avg. loss: 0.0005, Accuracy: 46378/50000 (93%)\n",
      "\n"
     ]
    },
    {
     "data": {
      "application/vnd.jupyter.widget-view+json": {
       "model_id": "cf890cca69074086ad32228709d33f43",
       "version_major": 2,
       "version_minor": 0
      },
      "text/plain": [
       "  0%|          | 0/10000 [00:00<?, ?it/s]"
      ]
     },
     "metadata": {},
     "output_type": "display_data"
    },
    {
     "name": "stdout",
     "output_type": "stream",
     "text": [
      "\n",
      "Training set epoch 3: Avg. loss: 0.0004, Accuracy: 9337/10000 (93%)\n",
      "\n",
      "\n",
      "Training set epoch 3: Avg. loss: 0.0000, Accuracy: 9337/10000 (93%)\n",
      "\n",
      "\n",
      "Validation set: Avg. loss: 0.0004, Accuracy: 47140/50000 (94%)\n",
      "\n",
      "\n",
      "Validation set: Avg. loss: 0.0004, Accuracy: 47140/50000 (94%)\n",
      "\n"
     ]
    },
    {
     "data": {
      "application/vnd.jupyter.widget-view+json": {
       "model_id": "dfa5df9a91d240b2be5ab625b6998eab",
       "version_major": 2,
       "version_minor": 0
      },
      "text/plain": [
       "  0%|          | 0/10000 [00:00<?, ?it/s]"
      ]
     },
     "metadata": {},
     "output_type": "display_data"
    },
    {
     "name": "stdout",
     "output_type": "stream",
     "text": [
      "\n",
      "Training set epoch 4: Avg. loss: 0.0003, Accuracy: 9491/10000 (95%)\n",
      "\n",
      "\n",
      "Training set epoch 4: Avg. loss: 0.0000, Accuracy: 9491/10000 (95%)\n",
      "\n",
      "\n",
      "Validation set: Avg. loss: 0.0003, Accuracy: 47382/50000 (95%)\n",
      "\n",
      "\n",
      "Validation set: Avg. loss: 0.0003, Accuracy: 47382/50000 (95%)\n",
      "\n"
     ]
    },
    {
     "data": {
      "application/vnd.jupyter.widget-view+json": {
       "model_id": "630b34d346b44127836ae442c9f83aca",
       "version_major": 2,
       "version_minor": 0
      },
      "text/plain": [
       "  0%|          | 0/10000 [00:00<?, ?it/s]"
      ]
     },
     "metadata": {},
     "output_type": "display_data"
    },
    {
     "name": "stdout",
     "output_type": "stream",
     "text": [
      "\n",
      "Training set epoch 5: Avg. loss: 0.0003, Accuracy: 9590/10000 (96%)\n",
      "\n",
      "\n",
      "Training set epoch 5: Avg. loss: 0.0000, Accuracy: 9590/10000 (96%)\n",
      "\n",
      "\n",
      "Validation set: Avg. loss: 0.0003, Accuracy: 47637/50000 (95%)\n",
      "\n",
      "\n",
      "Validation set: Avg. loss: 0.0003, Accuracy: 47637/50000 (95%)\n",
      "\n"
     ]
    },
    {
     "data": {
      "application/vnd.jupyter.widget-view+json": {
       "model_id": "c0e48ca6371242d586a9b418e7f35bca",
       "version_major": 2,
       "version_minor": 0
      },
      "text/plain": [
       "  0%|          | 0/10000 [00:00<?, ?it/s]"
      ]
     },
     "metadata": {},
     "output_type": "display_data"
    },
    {
     "name": "stdout",
     "output_type": "stream",
     "text": [
      "\n",
      "Training set epoch 6: Avg. loss: 0.0002, Accuracy: 9642/10000 (96%)\n",
      "\n",
      "\n",
      "Training set epoch 6: Avg. loss: 0.0000, Accuracy: 9642/10000 (96%)\n",
      "\n",
      "\n",
      "Validation set: Avg. loss: 0.0003, Accuracy: 47891/50000 (96%)\n",
      "\n",
      "\n",
      "Validation set: Avg. loss: 0.0003, Accuracy: 47891/50000 (96%)\n",
      "\n"
     ]
    },
    {
     "data": {
      "application/vnd.jupyter.widget-view+json": {
       "model_id": "b659c444004145dda17a36a7611b9f65",
       "version_major": 2,
       "version_minor": 0
      },
      "text/plain": [
       "  0%|          | 0/10000 [00:00<?, ?it/s]"
      ]
     },
     "metadata": {},
     "output_type": "display_data"
    },
    {
     "name": "stdout",
     "output_type": "stream",
     "text": [
      "\n",
      "Training set epoch 7: Avg. loss: 0.0002, Accuracy: 9697/10000 (97%)\n",
      "\n",
      "\n",
      "Training set epoch 7: Avg. loss: 0.0000, Accuracy: 9697/10000 (97%)\n",
      "\n",
      "\n",
      "Validation set: Avg. loss: 0.0002, Accuracy: 48208/50000 (96%)\n",
      "\n",
      "\n",
      "Validation set: Avg. loss: 0.0002, Accuracy: 48208/50000 (96%)\n",
      "\n"
     ]
    },
    {
     "data": {
      "application/vnd.jupyter.widget-view+json": {
       "model_id": "ab3cc1e1947e4ecda0db24aadfd1d714",
       "version_major": 2,
       "version_minor": 0
      },
      "text/plain": [
       "  0%|          | 0/10000 [00:00<?, ?it/s]"
      ]
     },
     "metadata": {},
     "output_type": "display_data"
    },
    {
     "name": "stdout",
     "output_type": "stream",
     "text": [
      "\n",
      "Training set epoch 8: Avg. loss: 0.0002, Accuracy: 9751/10000 (98%)\n",
      "\n",
      "\n",
      "Training set epoch 8: Avg. loss: 0.0000, Accuracy: 9751/10000 (98%)\n",
      "\n",
      "\n",
      "Validation set: Avg. loss: 0.0002, Accuracy: 48293/50000 (97%)\n",
      "\n",
      "\n",
      "Validation set: Avg. loss: 0.0002, Accuracy: 48293/50000 (97%)\n",
      "\n"
     ]
    },
    {
     "data": {
      "application/vnd.jupyter.widget-view+json": {
       "model_id": "a7db5471b1cf42c1b0ab3a072669350c",
       "version_major": 2,
       "version_minor": 0
      },
      "text/plain": [
       "  0%|          | 0/10000 [00:00<?, ?it/s]"
      ]
     },
     "metadata": {},
     "output_type": "display_data"
    },
    {
     "name": "stdout",
     "output_type": "stream",
     "text": [
      "\n",
      "Training set epoch 9: Avg. loss: 0.0002, Accuracy: 9780/10000 (98%)\n",
      "\n",
      "\n",
      "Training set epoch 9: Avg. loss: 0.0000, Accuracy: 9780/10000 (98%)\n",
      "\n",
      "\n",
      "Validation set: Avg. loss: 0.0002, Accuracy: 48312/50000 (97%)\n",
      "\n",
      "\n",
      "Validation set: Avg. loss: 0.0002, Accuracy: 48312/50000 (97%)\n",
      "\n"
     ]
    },
    {
     "data": {
      "application/vnd.jupyter.widget-view+json": {
       "model_id": "41e5494e481e498a96103170e3c85843",
       "version_major": 2,
       "version_minor": 0
      },
      "text/plain": [
       "  0%|          | 0/10000 [00:00<?, ?it/s]"
      ]
     },
     "metadata": {},
     "output_type": "display_data"
    },
    {
     "name": "stdout",
     "output_type": "stream",
     "text": [
      "\n",
      "Training set epoch 10: Avg. loss: 0.0001, Accuracy: 9791/10000 (98%)\n",
      "\n",
      "\n",
      "Training set epoch 10: Avg. loss: 0.0000, Accuracy: 9791/10000 (98%)\n",
      "\n",
      "\n",
      "Validation set: Avg. loss: 0.0002, Accuracy: 48435/50000 (97%)\n",
      "\n",
      "\n",
      "Validation set: Avg. loss: 0.0002, Accuracy: 48435/50000 (97%)\n",
      "\n"
     ]
    },
    {
     "data": {
      "application/vnd.jupyter.widget-view+json": {
       "model_id": "c5e26d9ce8cd4140ba6e104c898fc749",
       "version_major": 2,
       "version_minor": 0
      },
      "text/plain": [
       "  0%|          | 0/10000 [00:00<?, ?it/s]"
      ]
     },
     "metadata": {},
     "output_type": "display_data"
    },
    {
     "name": "stdout",
     "output_type": "stream",
     "text": [
      "\n",
      "Training set epoch 11: Avg. loss: 0.0001, Accuracy: 9817/10000 (98%)\n",
      "\n",
      "\n",
      "Training set epoch 11: Avg. loss: 0.0000, Accuracy: 9817/10000 (98%)\n",
      "\n",
      "\n",
      "Validation set: Avg. loss: 0.0002, Accuracy: 48685/50000 (97%)\n",
      "\n",
      "\n",
      "Validation set: Avg. loss: 0.0002, Accuracy: 48685/50000 (97%)\n",
      "\n"
     ]
    },
    {
     "data": {
      "application/vnd.jupyter.widget-view+json": {
       "model_id": "95884c0fb6f745deaf8e04031c462b11",
       "version_major": 2,
       "version_minor": 0
      },
      "text/plain": [
       "  0%|          | 0/10000 [00:00<?, ?it/s]"
      ]
     },
     "metadata": {},
     "output_type": "display_data"
    },
    {
     "name": "stdout",
     "output_type": "stream",
     "text": [
      "\n",
      "Training set epoch 12: Avg. loss: 0.0001, Accuracy: 9844/10000 (98%)\n",
      "\n",
      "\n",
      "Training set epoch 12: Avg. loss: 0.0000, Accuracy: 9844/10000 (98%)\n",
      "\n",
      "\n",
      "Validation set: Avg. loss: 0.0002, Accuracy: 48768/50000 (98%)\n",
      "\n",
      "\n",
      "Validation set: Avg. loss: 0.0002, Accuracy: 48768/50000 (98%)\n",
      "\n"
     ]
    },
    {
     "data": {
      "application/vnd.jupyter.widget-view+json": {
       "model_id": "c98d9dbf635c4ddba483529579fbe601",
       "version_major": 2,
       "version_minor": 0
      },
      "text/plain": [
       "  0%|          | 0/10000 [00:00<?, ?it/s]"
      ]
     },
     "metadata": {},
     "output_type": "display_data"
    },
    {
     "name": "stdout",
     "output_type": "stream",
     "text": [
      "\n",
      "Training set epoch 13: Avg. loss: 0.0001, Accuracy: 9860/10000 (99%)\n",
      "\n",
      "\n",
      "Training set epoch 13: Avg. loss: 0.0000, Accuracy: 9860/10000 (99%)\n",
      "\n",
      "\n",
      "Validation set: Avg. loss: 0.0001, Accuracy: 48808/50000 (98%)\n",
      "\n",
      "\n",
      "Validation set: Avg. loss: 0.0001, Accuracy: 48808/50000 (98%)\n",
      "\n"
     ]
    },
    {
     "data": {
      "application/vnd.jupyter.widget-view+json": {
       "model_id": "bf3994f1c1284687912e0b997b64d829",
       "version_major": 2,
       "version_minor": 0
      },
      "text/plain": [
       "  0%|          | 0/10000 [00:00<?, ?it/s]"
      ]
     },
     "metadata": {},
     "output_type": "display_data"
    },
    {
     "name": "stdout",
     "output_type": "stream",
     "text": [
      "\n",
      "Training set epoch 14: Avg. loss: 0.0001, Accuracy: 9867/10000 (99%)\n",
      "\n",
      "\n",
      "Training set epoch 14: Avg. loss: 0.0000, Accuracy: 9867/10000 (99%)\n",
      "\n",
      "\n",
      "Validation set: Avg. loss: 0.0002, Accuracy: 48804/50000 (98%)\n",
      "\n",
      "\n",
      "Validation set: Avg. loss: 0.0002, Accuracy: 48804/50000 (98%)\n",
      "\n"
     ]
    },
    {
     "data": {
      "application/vnd.jupyter.widget-view+json": {
       "model_id": "ca191c86a35d4cdbbef4e470f1be5f44",
       "version_major": 2,
       "version_minor": 0
      },
      "text/plain": [
       "  0%|          | 0/10000 [00:00<?, ?it/s]"
      ]
     },
     "metadata": {},
     "output_type": "display_data"
    },
    {
     "name": "stdout",
     "output_type": "stream",
     "text": [
      "\n",
      "Training set epoch 15: Avg. loss: 0.0001, Accuracy: 9881/10000 (99%)\n",
      "\n",
      "\n",
      "Training set epoch 15: Avg. loss: 0.0000, Accuracy: 9881/10000 (99%)\n",
      "\n",
      "\n",
      "Validation set: Avg. loss: 0.0001, Accuracy: 48889/50000 (98%)\n",
      "\n",
      "\n",
      "Validation set: Avg. loss: 0.0001, Accuracy: 48889/50000 (98%)\n",
      "\n"
     ]
    },
    {
     "data": {
      "application/vnd.jupyter.widget-view+json": {
       "model_id": "7330f1f19cbb4cd98245b37406eaa8fc",
       "version_major": 2,
       "version_minor": 0
      },
      "text/plain": [
       "  0%|          | 0/10000 [00:00<?, ?it/s]"
      ]
     },
     "metadata": {},
     "output_type": "display_data"
    },
    {
     "name": "stdout",
     "output_type": "stream",
     "text": [
      "\n",
      "Training set epoch 16: Avg. loss: 0.0001, Accuracy: 9889/10000 (99%)\n",
      "\n",
      "\n",
      "Training set epoch 16: Avg. loss: 0.0000, Accuracy: 9889/10000 (99%)\n",
      "\n",
      "\n",
      "Validation set: Avg. loss: 0.0001, Accuracy: 48847/50000 (98%)\n",
      "\n",
      "\n",
      "Validation set: Avg. loss: 0.0001, Accuracy: 48847/50000 (98%)\n",
      "\n"
     ]
    },
    {
     "data": {
      "application/vnd.jupyter.widget-view+json": {
       "model_id": "8331709d915a439e859a5e34a23ae61d",
       "version_major": 2,
       "version_minor": 0
      },
      "text/plain": [
       "  0%|          | 0/10000 [00:00<?, ?it/s]"
      ]
     },
     "metadata": {},
     "output_type": "display_data"
    },
    {
     "name": "stdout",
     "output_type": "stream",
     "text": [
      "\n",
      "Training set epoch 17: Avg. loss: 0.0001, Accuracy: 9892/10000 (99%)\n",
      "\n",
      "\n",
      "Training set epoch 17: Avg. loss: 0.0000, Accuracy: 9892/10000 (99%)\n",
      "\n",
      "\n",
      "Validation set: Avg. loss: 0.0001, Accuracy: 48868/50000 (98%)\n",
      "\n",
      "\n",
      "Validation set: Avg. loss: 0.0001, Accuracy: 48868/50000 (98%)\n",
      "\n"
     ]
    },
    {
     "data": {
      "application/vnd.jupyter.widget-view+json": {
       "model_id": "bf7d5585c0a048f091c25c13e450262f",
       "version_major": 2,
       "version_minor": 0
      },
      "text/plain": [
       "  0%|          | 0/10000 [00:00<?, ?it/s]"
      ]
     },
     "metadata": {},
     "output_type": "display_data"
    },
    {
     "name": "stdout",
     "output_type": "stream",
     "text": [
      "\n",
      "Training set epoch 18: Avg. loss: 0.0001, Accuracy: 9900/10000 (99%)\n",
      "\n",
      "\n",
      "Training set epoch 18: Avg. loss: 0.0000, Accuracy: 9900/10000 (99%)\n",
      "\n",
      "\n",
      "Validation set: Avg. loss: 0.0001, Accuracy: 48960/50000 (98%)\n",
      "\n",
      "\n",
      "Validation set: Avg. loss: 0.0001, Accuracy: 48960/50000 (98%)\n",
      "\n"
     ]
    },
    {
     "data": {
      "application/vnd.jupyter.widget-view+json": {
       "model_id": "21d5c4e7e3a84b61a3628d798de12d85",
       "version_major": 2,
       "version_minor": 0
      },
      "text/plain": [
       "  0%|          | 0/10000 [00:00<?, ?it/s]"
      ]
     },
     "metadata": {},
     "output_type": "display_data"
    },
    {
     "name": "stdout",
     "output_type": "stream",
     "text": [
      "\n",
      "Training set epoch 19: Avg. loss: 0.0001, Accuracy: 9898/10000 (99%)\n",
      "\n",
      "\n",
      "Training set epoch 19: Avg. loss: 0.0000, Accuracy: 9898/10000 (99%)\n",
      "\n",
      "\n",
      "Validation set: Avg. loss: 0.0001, Accuracy: 49002/50000 (98%)\n",
      "\n",
      "\n",
      "Validation set: Avg. loss: 0.0001, Accuracy: 49002/50000 (98%)\n",
      "\n",
      "test on original test data\n",
      "\n",
      "Test set: Avg. loss: 0.0001, Accuracy: 9819/10000 (98%)\n",
      "\n",
      "\n",
      "Test set: Avg. loss: 0.0001, Accuracy: 9819/10000 (98%)\n",
      "\n"
     ]
    },
    {
     "data": {
      "text/plain": [
       "0.018100000000000005"
      ]
     },
     "execution_count": 25,
     "metadata": {},
     "output_type": "execute_result"
    }
   ],
   "source": [
    "batch_size=500\n",
    "step_size=.001\n",
    "num_epochs=20\n",
    "numtrain=10000\n",
    "minimizer=\"Adam\"\n",
    "data_set=\"mnist\"\n",
    "model_name=\"model\"\n",
    "dropout_p=0.\n",
    "use_gpu=True\n",
    "\n",
    "# use GPU when possible\n",
    "device = 'cuda:0' if torch.cuda.is_available() and use_gpu else 'cpu'\n",
    "print(device)\n",
    "train,val,test=get_data(data_set=data_set, num_train=numtrain)\n",
    "\n",
    "net = MNIST_Net_d2_deeper(ks=5,p = dropout_p, minimizer=minimizer)\n",
    "net.to(device)\n",
    "\n",
    "print('model architecture')\n",
    "print(net)\n",
    "\n",
    "\n",
    "#define optimizer\n",
    "train=(train[0][0:numtrain],train[1][0:numtrain])\n",
    "\n",
    "train_errors = []\n",
    "val_errors = []\n",
    "\n",
    "for i in range(num_epochs):\n",
    "    train_error = run_epoch(net, i, train, batch_size, num=numtrain, ttype=\"train\", device=device)\n",
    "    val_error = net_test(net, val, batch_size, device=device)\n",
    "\n",
    "    train_errors.append(train_error)\n",
    "    val_errors.append(val_error)\n",
    "\n",
    "print('test on original test data')\n",
    "net_test(net,test,batch_size,ttype=\"test\")"
   ]
  },
  {
   "cell_type": "code",
   "execution_count": 26,
   "metadata": {},
   "outputs": [
    {
     "data": {
      "image/png": "[encoded data removed]",
      "text/plain": [
       "<Figure size 640x480 with 1 Axes>"
      ]
     },
     "metadata": {},
     "output_type": "display_data"
    }
   ],
   "source": [
    "epochs = np.arange(1, num_epochs+1)\n",
    "\n",
    "plt.plot(epochs, train_errors, label='Training Error')\n",
    "plt.plot(epochs, val_errors, label='Validation Error')\n",
    "plt.xlabel('Epoch')\n",
    "plt.ylabel('Error Rate')\n",
    "plt.title('Training and Validation Error vs Epoch')\n",
    "plt.legend()\n",
    "plt.grid(True)\n",
    "plt.show()"
   ]
  },
  {
   "cell_type": "markdown",
   "metadata": {},
   "source": [
    "We observe that this deeper model with roughly the same number of parameters achieves similar performance to the other architectures at 98% on the validation and test sets."
   ]
  },
  {
   "cell_type": "markdown",
   "metadata": {},
   "source": [
    "# 1d)iii."
   ]
  },
  {
   "cell_type": "markdown",
   "metadata": {},
   "source": [
    "All tested architectures performed quite similarly, but if we break the tie by the exact numerical score on the validation set, the original architecture appears to perform the best."
   ]
  },
  {
   "cell_type": "code",
   "execution_count": 9,
   "metadata": {
    "scrolled": true
   },
   "outputs": [
    {
     "name": "stdout",
     "output_type": "stream",
     "text": [
      "cpu\n",
      "Mnist data shape (70000, 784)\n",
      "After conv1 torch.Size([1, 32, 12, 12])\n",
      "After conv2 torch.Size([1, 64, 4, 4])\n",
      "Dimension before first fully connected 1024\n",
      "model architecture\n",
      "MNIST_Net(\n",
      "  (conv1): Conv2d(1, 32, kernel_size=(5, 5), stride=(1, 1))\n",
      "  (conv2): Conv2d(32, 64, kernel_size=(5, 5), stride=(1, 1))\n",
      "  (drop2): Dropout2d(p=0.0, inplace=False)\n",
      "  (p1): MaxPool2d(kernel_size=[5], stride=2, padding=[2], dilation=1, ceil_mode=False)\n",
      "  (p2): MaxPool2d(kernel_size=2, stride=2, padding=0, dilation=1, ceil_mode=False)\n",
      "  (fc1): Linear(in_features=1024, out_features=256, bias=True)\n",
      "  (fc2): Linear(in_features=256, out_features=10, bias=True)\n",
      "  (criterion): CrossEntropyLoss()\n",
      ")\n"
     ]
    },
    {
     "data": {
      "application/vnd.jupyter.widget-view+json": {
       "model_id": "c8f0e0a50f444dc09d193a9b637d8b8d",
       "version_major": 2,
       "version_minor": 0
      },
      "text/plain": [
       "  0%|          | 0/60000 [00:00<?, ?it/s]"
      ]
     },
     "metadata": {},
     "output_type": "display_data"
    },
    {
     "name": "stdout",
     "output_type": "stream",
     "text": [
      "\n",
      "Training set epoch 0: Avg. loss: 0.0010, Accuracy: 50926/60000 (85%)\n",
      "\n",
      "\n",
      "Training set epoch 0: Avg. loss: 0.0000, Accuracy: 50926/60000 (85%)\n",
      "\n"
     ]
    },
    {
     "data": {
      "application/vnd.jupyter.widget-view+json": {
       "model_id": "88f0925bc0d44f3a937107fdb5990da8",
       "version_major": 2,
       "version_minor": 0
      },
      "text/plain": [
       "  0%|          | 0/60000 [00:00<?, ?it/s]"
      ]
     },
     "metadata": {},
     "output_type": "display_data"
    },
    {
     "name": "stdout",
     "output_type": "stream",
     "text": [
      "\n",
      "Training set epoch 1: Avg. loss: 0.0002, Accuracy: 57889/60000 (96%)\n",
      "\n",
      "\n",
      "Training set epoch 1: Avg. loss: 0.0000, Accuracy: 57889/60000 (96%)\n",
      "\n"
     ]
    },
    {
     "data": {
      "application/vnd.jupyter.widget-view+json": {
       "model_id": "063a99348a2646b3b891c0dc05827ebb",
       "version_major": 2,
       "version_minor": 0
      },
      "text/plain": [
       "  0%|          | 0/60000 [00:00<?, ?it/s]"
      ]
     },
     "metadata": {},
     "output_type": "display_data"
    },
    {
     "name": "stdout",
     "output_type": "stream",
     "text": [
      "\n",
      "Training set epoch 2: Avg. loss: 0.0002, Accuracy: 58520/60000 (98%)\n",
      "\n",
      "\n",
      "Training set epoch 2: Avg. loss: 0.0000, Accuracy: 58520/60000 (98%)\n",
      "\n"
     ]
    },
    {
     "data": {
      "application/vnd.jupyter.widget-view+json": {
       "model_id": "fbe559618557482e92e33371d5d2edf1",
       "version_major": 2,
       "version_minor": 0
      },
      "text/plain": [
       "  0%|          | 0/60000 [00:00<?, ?it/s]"
      ]
     },
     "metadata": {},
     "output_type": "display_data"
    },
    {
     "name": "stdout",
     "output_type": "stream",
     "text": [
      "\n",
      "Training set epoch 3: Avg. loss: 0.0001, Accuracy: 58812/60000 (98%)\n",
      "\n",
      "\n",
      "Training set epoch 3: Avg. loss: 0.0000, Accuracy: 58812/60000 (98%)\n",
      "\n"
     ]
    },
    {
     "data": {
      "application/vnd.jupyter.widget-view+json": {
       "model_id": "ebfb441b7cef40a7a64dd294afd7c290",
       "version_major": 2,
       "version_minor": 0
      },
      "text/plain": [
       "  0%|          | 0/60000 [00:00<?, ?it/s]"
      ]
     },
     "metadata": {},
     "output_type": "display_data"
    },
    {
     "name": "stdout",
     "output_type": "stream",
     "text": [
      "\n",
      "Training set epoch 4: Avg. loss: 0.0001, Accuracy: 59017/60000 (98%)\n",
      "\n",
      "\n",
      "Training set epoch 4: Avg. loss: 0.0000, Accuracy: 59017/60000 (98%)\n",
      "\n"
     ]
    },
    {
     "data": {
      "application/vnd.jupyter.widget-view+json": {
       "model_id": "52a4c576780f4c2e9f7e66ec46bd5571",
       "version_major": 2,
       "version_minor": 0
      },
      "text/plain": [
       "  0%|          | 0/60000 [00:00<?, ?it/s]"
      ]
     },
     "metadata": {},
     "output_type": "display_data"
    },
    {
     "name": "stdout",
     "output_type": "stream",
     "text": [
      "\n",
      "Training set epoch 5: Avg. loss: 0.0001, Accuracy: 59139/60000 (99%)\n",
      "\n",
      "\n",
      "Training set epoch 5: Avg. loss: 0.0000, Accuracy: 59139/60000 (99%)\n",
      "\n"
     ]
    },
    {
     "data": {
      "application/vnd.jupyter.widget-view+json": {
       "model_id": "778a3609f43f4e4bb185433d09903d9b",
       "version_major": 2,
       "version_minor": 0
      },
      "text/plain": [
       "  0%|          | 0/60000 [00:00<?, ?it/s]"
      ]
     },
     "metadata": {},
     "output_type": "display_data"
    },
    {
     "name": "stdout",
     "output_type": "stream",
     "text": [
      "\n",
      "Training set epoch 6: Avg. loss: 0.0001, Accuracy: 59256/60000 (99%)\n",
      "\n",
      "\n",
      "Training set epoch 6: Avg. loss: 0.0000, Accuracy: 59256/60000 (99%)\n",
      "\n"
     ]
    },
    {
     "data": {
      "application/vnd.jupyter.widget-view+json": {
       "model_id": "5b07e499a36440e8aeb7228edaf0a78a",
       "version_major": 2,
       "version_minor": 0
      },
      "text/plain": [
       "  0%|          | 0/60000 [00:00<?, ?it/s]"
      ]
     },
     "metadata": {},
     "output_type": "display_data"
    },
    {
     "name": "stdout",
     "output_type": "stream",
     "text": [
      "\n",
      "Training set epoch 7: Avg. loss: 0.0001, Accuracy: 59309/60000 (99%)\n",
      "\n",
      "\n",
      "Training set epoch 7: Avg. loss: 0.0000, Accuracy: 59309/60000 (99%)\n",
      "\n"
     ]
    },
    {
     "data": {
      "application/vnd.jupyter.widget-view+json": {
       "model_id": "201cfb6995924a33bebcb464fa60278b",
       "version_major": 2,
       "version_minor": 0
      },
      "text/plain": [
       "  0%|          | 0/60000 [00:00<?, ?it/s]"
      ]
     },
     "metadata": {},
     "output_type": "display_data"
    },
    {
     "name": "stdout",
     "output_type": "stream",
     "text": [
      "\n",
      "Training set epoch 8: Avg. loss: 0.0001, Accuracy: 59373/60000 (99%)\n",
      "\n",
      "\n",
      "Training set epoch 8: Avg. loss: 0.0000, Accuracy: 59373/60000 (99%)\n",
      "\n"
     ]
    },
    {
     "data": {
      "application/vnd.jupyter.widget-view+json": {
       "model_id": "2b9acca689c645bfbde032b0996b1437",
       "version_major": 2,
       "version_minor": 0
      },
      "text/plain": [
       "  0%|          | 0/60000 [00:00<?, ?it/s]"
      ]
     },
     "metadata": {},
     "output_type": "display_data"
    },
    {
     "name": "stdout",
     "output_type": "stream",
     "text": [
      "\n",
      "Training set epoch 9: Avg. loss: 0.0001, Accuracy: 59436/60000 (99%)\n",
      "\n",
      "\n",
      "Training set epoch 9: Avg. loss: 0.0000, Accuracy: 59436/60000 (99%)\n",
      "\n"
     ]
    },
    {
     "data": {
      "application/vnd.jupyter.widget-view+json": {
       "model_id": "cfad94b52adb4ba397856f164f6bb1e8",
       "version_major": 2,
       "version_minor": 0
      },
      "text/plain": [
       "  0%|          | 0/60000 [00:00<?, ?it/s]"
      ]
     },
     "metadata": {},
     "output_type": "display_data"
    },
    {
     "name": "stdout",
     "output_type": "stream",
     "text": [
      "\n",
      "Training set epoch 10: Avg. loss: 0.0001, Accuracy: 59508/60000 (99%)\n",
      "\n",
      "\n",
      "Training set epoch 10: Avg. loss: 0.0000, Accuracy: 59508/60000 (99%)\n",
      "\n"
     ]
    },
    {
     "data": {
      "application/vnd.jupyter.widget-view+json": {
       "model_id": "c64dae77ce0b42ebb52b50183020ad7e",
       "version_major": 2,
       "version_minor": 0
      },
      "text/plain": [
       "  0%|          | 0/60000 [00:00<?, ?it/s]"
      ]
     },
     "metadata": {},
     "output_type": "display_data"
    },
    {
     "name": "stdout",
     "output_type": "stream",
     "text": [
      "\n",
      "Training set epoch 11: Avg. loss: 0.0000, Accuracy: 59506/60000 (99%)\n",
      "\n",
      "\n",
      "Training set epoch 11: Avg. loss: 0.0000, Accuracy: 59506/60000 (99%)\n",
      "\n",
      "test on original test data\n",
      "\n",
      "Test set: Avg. loss: 0.0001, Accuracy: 9928/10000 (99%)\n",
      "\n",
      "\n",
      "Test set: Avg. loss: 0.0001, Accuracy: 9928/10000 (99%)\n",
      "\n"
     ]
    },
    {
     "data": {
      "text/plain": [
       "0.007199999999999984"
      ]
     },
     "execution_count": 9,
     "metadata": {},
     "output_type": "execute_result"
    }
   ],
   "source": [
    "import time\n",
    "batch_size=500\n",
    "step_size=.001\n",
    "num_epochs=20\n",
    "numtrain=60000\n",
    "minimizer=\"Adam\"\n",
    "data_set=\"mnist\"\n",
    "model_name=\"model\"\n",
    "dropout_p=0.\n",
    "use_gpu=True\n",
    "\n",
    "# use GPU when possible\n",
    "device = 'cuda:0' if torch.cuda.is_available() and use_gpu else 'cpu'\n",
    "print(device)\n",
    "train,val,test=get_data(data_set=data_set, num_train=numtrain)\n",
    "\n",
    "net = MNIST_Net(ks=5,p = dropout_p, minimizer=minimizer)\n",
    "net.to(device)\n",
    "\n",
    "print('model architecture')\n",
    "print(net)\n",
    "\n",
    "\n",
    "#define optimizer\n",
    "train=(train[0][0:numtrain],train[1][0:numtrain])\n",
    "\n",
    "train_errors = []\n",
    "\n",
    "for i in range(num_epochs):\n",
    "    train_error = run_epoch(net, i, train, batch_size, num=numtrain, ttype=\"train\", device=device)\n",
    "\n",
    "    if i > 0 and abs(train_error - train_errors[-1]) < 1e-4:\n",
    "        break\n",
    "    train_errors.append(train_error)\n",
    "\n",
    "print('test on original test data')\n",
    "net_test(net,test,batch_size,ttype=\"test\")"
   ]
  },
  {
   "cell_type": "code",
   "execution_count": 12,
   "metadata": {},
   "outputs": [
    {
     "data": {
      "image/png": "[encoded data removed]",
      "text/plain": [
       "<Figure size 640x480 with 1 Axes>"
      ]
     },
     "metadata": {},
     "output_type": "display_data"
    }
   ],
   "source": [
    "import matplotlib.pyplot as plt\n",
    "\n",
    "epochs = np.arange(1, 11+1)\n",
    "\n",
    "plt.plot(epochs, train_errors, label='Training Error')\n",
    "plt.xlabel('Epoch')\n",
    "plt.ylabel('Error Rate')\n",
    "plt.title('Training Error vs Epoch')\n",
    "plt.legend()\n",
    "plt.grid(True)\n",
    "plt.show()"
   ]
  },
  {
   "cell_type": "markdown",
   "metadata": {},
   "source": [
    "We observe that after retraining on the full training set of 60k images, we are able to achieve 99% test accuracy."
   ]
  },
  {
   "cell_type": "markdown",
   "metadata": {},
   "source": [
    "#  1e)"
   ]
  },
  {
   "cell_type": "code",
   "execution_count": 24,
   "metadata": {
    "scrolled": true
   },
   "outputs": [
    {
     "name": "stdout",
     "output_type": "stream",
     "text": [
      "Transformed test shape (10000, 1, 28, 28)\n",
      "Transformed test shape (10000, 1, 28, 28)\n",
      "Transformed test shape (10000, 1, 28, 28)\n"
     ]
    },
    {
     "data": {
      "image/png": "[encoded data removed]",
      "text/plain": [
       "<Figure size 500x1200 with 10 Axes>"
      ]
     },
     "metadata": {},
     "output_type": "display_data"
    },
    {
     "data": {
      "image/png": "[encoded data removed]",
      "text/plain": [
       "<Figure size 500x1200 with 10 Axes>"
      ]
     },
     "metadata": {},
     "output_type": "display_data"
    },
    {
     "data": {
      "image/png": "[encoded data removed]",
      "text/plain": [
       "<Figure size 500x1200 with 10 Axes>"
      ]
     },
     "metadata": {},
     "output_type": "display_data"
    }
   ],
   "source": [
    "shifts = [2, 5, 8]\n",
    "shifted_versions = []\n",
    "\n",
    "for s in shifts:\n",
    "    shifted_data = get_mnist_trans(test[0], shift=s)\n",
    "    shifted_versions.append((s, shifted_data))\n",
    "    \n",
    "# Pick 5 random indices\n",
    "indices = np.random.choice(len(test[0]), size=5, replace=False)\n",
    "\n",
    "for shift_val, shifted_data in shifted_versions:\n",
    "    fig, axes = plt.subplots(5, 2, figsize=(5, 12))\n",
    "    fig.suptitle(f'Original vs Shifted by up to {shift_val} pixels', fontsize=16)\n",
    "\n",
    "    for idx, ax_pair in zip(indices, axes):\n",
    "        # Original\n",
    "        ax_pair[0].imshow(test[0][idx, 0], cmap='gray')\n",
    "        ax_pair[0].set_title('Original')\n",
    "        ax_pair[0].axis('off')\n",
    "\n",
    "        # Shifted\n",
    "        ax_pair[1].imshow(shifted_data[idx, 0], cmap='gray')\n",
    "        ax_pair[1].set_title('Shifted')\n",
    "        ax_pair[1].axis('off')\n",
    "\n",
    "    plt.tight_layout()\n",
    "    plt.show()"
   ]
  },
  {
   "cell_type": "code",
   "execution_count": 27,
   "metadata": {},
   "outputs": [
    {
     "name": "stdout",
     "output_type": "stream",
     "text": [
      "Transformed test shape (10000, 1, 28, 28)\n",
      "\n",
      "Validation set: Avg. loss: 0.0001, Accuracy: 9928/10000 (99%)\n",
      "\n",
      "\n",
      "Validation set: Avg. loss: 0.0001, Accuracy: 9928/10000 (99%)\n",
      "\n",
      "Transformed test shape (10000, 1, 28, 28)\n",
      "\n",
      "Validation set: Avg. loss: 0.0001, Accuracy: 9891/10000 (99%)\n",
      "\n",
      "\n",
      "Validation set: Avg. loss: 0.0001, Accuracy: 9891/10000 (99%)\n",
      "\n",
      "Transformed test shape (10000, 1, 28, 28)\n",
      "\n",
      "Validation set: Avg. loss: 0.0007, Accuracy: 9091/10000 (91%)\n",
      "\n",
      "\n",
      "Validation set: Avg. loss: 0.0007, Accuracy: 9091/10000 (91%)\n",
      "\n",
      "Transformed test shape (10000, 1, 28, 28)\n",
      "\n",
      "Validation set: Avg. loss: 0.0040, Accuracy: 6427/10000 (64%)\n",
      "\n",
      "\n",
      "Validation set: Avg. loss: 0.0040, Accuracy: 6427/10000 (64%)\n",
      "\n",
      "Transformed test shape (10000, 1, 28, 28)\n",
      "\n",
      "Validation set: Avg. loss: 0.0086, Accuracy: 4423/10000 (44%)\n",
      "\n",
      "\n",
      "Validation set: Avg. loss: 0.0086, Accuracy: 4423/10000 (44%)\n",
      "\n",
      "Transformed test shape (10000, 1, 28, 28)\n",
      "\n",
      "Validation set: Avg. loss: 0.0122, Accuracy: 3074/10000 (31%)\n",
      "\n",
      "\n",
      "Validation set: Avg. loss: 0.0122, Accuracy: 3074/10000 (31%)\n",
      "\n"
     ]
    },
    {
     "data": {
      "image/png": "[encoded data removed]",
      "text/plain": [
       "<Figure size 640x480 with 1 Axes>"
      ]
     },
     "metadata": {},
     "output_type": "display_data"
    }
   ],
   "source": [
    "shifts = [0, 2, 4, 6, 8, 10]\n",
    "test_errors = []\n",
    "\n",
    "for s in shifts:\n",
    "    shifted_test = get_mnist_trans(test[0], shift=s)\n",
    "\n",
    "    net.eval()\n",
    "    val_error = net_test(net, (shifted_test, test[1]), batch_size=batch_size, device=device)\n",
    "    test_errors.append(1 - val_error)  # classification rate\n",
    "\n",
    "plt.plot(shifts, test_errors, marker='o')\n",
    "plt.xlabel('Shift Size (pixels)')\n",
    "plt.ylabel('Classification Rate')\n",
    "plt.title('Performance vs. Shift')\n",
    "plt.grid(True)\n",
    "plt.show()"
   ]
  },
  {
   "cell_type": "markdown",
   "metadata": {},
   "source": [
    "To handle shifts while still training on the original training data, we could try smaller convolutional filters so that our model focuses more on local patterns and is less sensitive to global position. We could similarly try using more convolutional layers, since in theory higher-level abstractions should be less sensitive to small shifts."
   ]
  },
  {
   "cell_type": "code",
   "execution_count": 28,
   "metadata": {},
   "outputs": [],
   "source": [
    "class MNIST_Net_smallconv_deep(nn.Module):\n",
    "    def __init__(self, ks=2, p=0.5, minimizer='Adam', device='cuda:0'):\n",
    "        super(MNIST_Net_smallconv_deep, self).__init__()\n",
    "\n",
    "        # Small 3x3 conv filters, more layers\n",
    "        self.conv1 = nn.Conv2d(1, 32, kernel_size=3, padding=1)\n",
    "        self.conv2 = nn.Conv2d(32, 64, kernel_size=3, padding=1)\n",
    "        self.conv3 = nn.Conv2d(64, 64, kernel_size=3, padding=1)\n",
    "        self.conv4 = nn.Conv2d(64, 128, kernel_size=3, padding=1)\n",
    "        \n",
    "        self.drop2 = nn.Dropout2d(p)\n",
    "\n",
    "        ks = int(ks)\n",
    "        self.p1 = nn.MaxPool2d(kernel_size=[ks], stride=2, padding=[int(ks/2)])\n",
    "        self.p2 = nn.MaxPool2d(kernel_size=2, stride=2)\n",
    "\n",
    "        self.first = True\n",
    "        if self.first:\n",
    "            self.forward(torch.zeros((1, 1, 28, 28)))\n",
    "\n",
    "        if minimizer == 'Adam':\n",
    "            self.optimizer = torch.optim.Adam(self.parameters(), lr=step_size)\n",
    "        else:\n",
    "            self.optimizer = torch.optim.SGD(self.parameters(), lr=step_size, momentum=0.9)\n",
    "\n",
    "        self.criterion = nn.CrossEntropyLoss()\n",
    "\n",
    "    def forward(self, x):\n",
    "        x = F.relu(self.conv1(x))\n",
    "        x = F.relu(self.conv2(x))\n",
    "        x = self.p1(x)\n",
    "        x = F.relu(self.conv3(x))\n",
    "        x = F.relu(self.drop2(self.conv4(x)))\n",
    "        x = self.p2(x)\n",
    "\n",
    "        if self.first:\n",
    "            print('After conv/pool layers:', x.shape)\n",
    "            self.first = False\n",
    "            self.inp = x.shape[1] * x.shape[2] * x.shape[3]\n",
    "            print('Flattened dimension for FC:', self.inp)\n",
    "            self.fc1 = nn.Linear(self.inp, 128)\n",
    "            self.fc2 = nn.Linear(128, 10)\n",
    "\n",
    "        x = x.view(-1, self.inp)\n",
    "        x = F.relu(self.fc1(x))\n",
    "        x = F.dropout(x, training=self.training)\n",
    "        x = self.fc2(x)\n",
    "        return x\n",
    "\n",
    "    def get_acc_and_loss(self, data, targ):\n",
    "        output = self.forward(data)\n",
    "        loss = self.criterion(output, targ)\n",
    "        pred = torch.max(output, 1)[1]\n",
    "        correct = torch.eq(pred, targ).sum()\n",
    "        return loss, correct\n",
    "\n",
    "    def run_grad(self, data, targ):\n",
    "        loss, correct = self.get_acc_and_loss(data, targ)\n",
    "        self.optimizer.zero_grad()\n",
    "        loss.backward()\n",
    "        self.optimizer.step()\n",
    "        return loss, correct"
   ]
  },
  {
   "cell_type": "code",
   "execution_count": 29,
   "metadata": {
    "scrolled": true
   },
   "outputs": [
    {
     "name": "stdout",
     "output_type": "stream",
     "text": [
      "cpu\n",
      "Mnist data shape (70000, 784)\n",
      "After conv/pool layers: torch.Size([1, 128, 7, 7])\n",
      "Flattened dimension for FC: 6272\n",
      "model architecture\n",
      "MNIST_Net_smallconv_deep(\n",
      "  (conv1): Conv2d(1, 32, kernel_size=(3, 3), stride=(1, 1), padding=(1, 1))\n",
      "  (conv2): Conv2d(32, 64, kernel_size=(3, 3), stride=(1, 1), padding=(1, 1))\n",
      "  (conv3): Conv2d(64, 64, kernel_size=(3, 3), stride=(1, 1), padding=(1, 1))\n",
      "  (conv4): Conv2d(64, 128, kernel_size=(3, 3), stride=(1, 1), padding=(1, 1))\n",
      "  (drop2): Dropout2d(p=0.0, inplace=False)\n",
      "  (p1): MaxPool2d(kernel_size=[5], stride=2, padding=[2], dilation=1, ceil_mode=False)\n",
      "  (p2): MaxPool2d(kernel_size=2, stride=2, padding=0, dilation=1, ceil_mode=False)\n",
      "  (fc1): Linear(in_features=6272, out_features=128, bias=True)\n",
      "  (fc2): Linear(in_features=128, out_features=10, bias=True)\n",
      "  (criterion): CrossEntropyLoss()\n",
      ")\n"
     ]
    },
    {
     "data": {
      "application/vnd.jupyter.widget-view+json": {
       "model_id": "db35f89767e2419bb10c4dd951e6e707",
       "version_major": 2,
       "version_minor": 0
      },
      "text/plain": [
       "  0%|          | 0/60000 [00:00<?, ?it/s]"
      ]
     },
     "metadata": {},
     "output_type": "display_data"
    },
    {
     "name": "stdout",
     "output_type": "stream",
     "text": [
      "\n",
      "Training set epoch 0: Avg. loss: 0.0011, Accuracy: 48700/60000 (81%)\n",
      "\n",
      "\n",
      "Training set epoch 0: Avg. loss: 0.0000, Accuracy: 48700/60000 (81%)\n",
      "\n"
     ]
    },
    {
     "data": {
      "application/vnd.jupyter.widget-view+json": {
       "model_id": "09b70d7336b14a11a95fc94630af060e",
       "version_major": 2,
       "version_minor": 0
      },
      "text/plain": [
       "  0%|          | 0/60000 [00:00<?, ?it/s]"
      ]
     },
     "metadata": {},
     "output_type": "display_data"
    },
    {
     "name": "stdout",
     "output_type": "stream",
     "text": [
      "\n",
      "Training set epoch 1: Avg. loss: 0.0003, Accuracy: 57798/60000 (96%)\n",
      "\n",
      "\n",
      "Training set epoch 1: Avg. loss: 0.0000, Accuracy: 57798/60000 (96%)\n",
      "\n"
     ]
    },
    {
     "data": {
      "application/vnd.jupyter.widget-view+json": {
       "model_id": "7c80f647bca34fba9321fc1c33ded2bc",
       "version_major": 2,
       "version_minor": 0
      },
      "text/plain": [
       "  0%|          | 0/60000 [00:00<?, ?it/s]"
      ]
     },
     "metadata": {},
     "output_type": "display_data"
    },
    {
     "name": "stdout",
     "output_type": "stream",
     "text": [
      "\n",
      "Training set epoch 2: Avg. loss: 0.0002, Accuracy: 58499/60000 (97%)\n",
      "\n",
      "\n",
      "Training set epoch 2: Avg. loss: 0.0000, Accuracy: 58499/60000 (97%)\n",
      "\n"
     ]
    },
    {
     "data": {
      "application/vnd.jupyter.widget-view+json": {
       "model_id": "23a2f9d3711d46b7a90848b33ec77869",
       "version_major": 2,
       "version_minor": 0
      },
      "text/plain": [
       "  0%|          | 0/60000 [00:00<?, ?it/s]"
      ]
     },
     "metadata": {},
     "output_type": "display_data"
    },
    {
     "name": "stdout",
     "output_type": "stream",
     "text": [
      "\n",
      "Training set epoch 3: Avg. loss: 0.0001, Accuracy: 58795/60000 (98%)\n",
      "\n",
      "\n",
      "Training set epoch 3: Avg. loss: 0.0000, Accuracy: 58795/60000 (98%)\n",
      "\n"
     ]
    },
    {
     "data": {
      "application/vnd.jupyter.widget-view+json": {
       "model_id": "835b3e9e10724a5bb533458a7d9a240d",
       "version_major": 2,
       "version_minor": 0
      },
      "text/plain": [
       "  0%|          | 0/60000 [00:00<?, ?it/s]"
      ]
     },
     "metadata": {},
     "output_type": "display_data"
    },
    {
     "name": "stdout",
     "output_type": "stream",
     "text": [
      "\n",
      "Training set epoch 4: Avg. loss: 0.0001, Accuracy: 58924/60000 (98%)\n",
      "\n",
      "\n",
      "Training set epoch 4: Avg. loss: 0.0000, Accuracy: 58924/60000 (98%)\n",
      "\n"
     ]
    },
    {
     "data": {
      "application/vnd.jupyter.widget-view+json": {
       "model_id": "a3807974cb5c496d8fa24001242c8a88",
       "version_major": 2,
       "version_minor": 0
      },
      "text/plain": [
       "  0%|          | 0/60000 [00:00<?, ?it/s]"
      ]
     },
     "metadata": {},
     "output_type": "display_data"
    },
    {
     "name": "stdout",
     "output_type": "stream",
     "text": [
      "\n",
      "Training set epoch 5: Avg. loss: 0.0001, Accuracy: 59164/60000 (99%)\n",
      "\n",
      "\n",
      "Training set epoch 5: Avg. loss: 0.0000, Accuracy: 59164/60000 (99%)\n",
      "\n"
     ]
    },
    {
     "data": {
      "application/vnd.jupyter.widget-view+json": {
       "model_id": "155a90fb74694284a13765000cf379c0",
       "version_major": 2,
       "version_minor": 0
      },
      "text/plain": [
       "  0%|          | 0/60000 [00:00<?, ?it/s]"
      ]
     },
     "metadata": {},
     "output_type": "display_data"
    },
    {
     "name": "stdout",
     "output_type": "stream",
     "text": [
      "\n",
      "Training set epoch 6: Avg. loss: 0.0001, Accuracy: 59254/60000 (99%)\n",
      "\n",
      "\n",
      "Training set epoch 6: Avg. loss: 0.0000, Accuracy: 59254/60000 (99%)\n",
      "\n"
     ]
    },
    {
     "data": {
      "application/vnd.jupyter.widget-view+json": {
       "model_id": "f09135741c9f49a58afa56155f3bffe7",
       "version_major": 2,
       "version_minor": 0
      },
      "text/plain": [
       "  0%|          | 0/60000 [00:00<?, ?it/s]"
      ]
     },
     "metadata": {},
     "output_type": "display_data"
    },
    {
     "name": "stdout",
     "output_type": "stream",
     "text": [
      "\n",
      "Training set epoch 7: Avg. loss: 0.0001, Accuracy: 59318/60000 (99%)\n",
      "\n",
      "\n",
      "Training set epoch 7: Avg. loss: 0.0000, Accuracy: 59318/60000 (99%)\n",
      "\n"
     ]
    },
    {
     "data": {
      "application/vnd.jupyter.widget-view+json": {
       "model_id": "5f0d8576e15e4eb18e339e6727b19b0d",
       "version_major": 2,
       "version_minor": 0
      },
      "text/plain": [
       "  0%|          | 0/60000 [00:00<?, ?it/s]"
      ]
     },
     "metadata": {},
     "output_type": "display_data"
    },
    {
     "name": "stdout",
     "output_type": "stream",
     "text": [
      "\n",
      "Training set epoch 8: Avg. loss: 0.0001, Accuracy: 59368/60000 (99%)\n",
      "\n",
      "\n",
      "Training set epoch 8: Avg. loss: 0.0000, Accuracy: 59368/60000 (99%)\n",
      "\n"
     ]
    },
    {
     "data": {
      "application/vnd.jupyter.widget-view+json": {
       "model_id": "3f11cca9243d4534bd3af3de066e955f",
       "version_major": 2,
       "version_minor": 0
      },
      "text/plain": [
       "  0%|          | 0/60000 [00:00<?, ?it/s]"
      ]
     },
     "metadata": {},
     "output_type": "display_data"
    },
    {
     "name": "stdout",
     "output_type": "stream",
     "text": [
      "\n",
      "Training set epoch 9: Avg. loss: 0.0001, Accuracy: 59437/60000 (99%)\n",
      "\n",
      "\n",
      "Training set epoch 9: Avg. loss: 0.0000, Accuracy: 59437/60000 (99%)\n",
      "\n"
     ]
    },
    {
     "data": {
      "application/vnd.jupyter.widget-view+json": {
       "model_id": "1c3b10ebe18348c4b693b7ab2bd95fba",
       "version_major": 2,
       "version_minor": 0
      },
      "text/plain": [
       "  0%|          | 0/60000 [00:00<?, ?it/s]"
      ]
     },
     "metadata": {},
     "output_type": "display_data"
    },
    {
     "name": "stdout",
     "output_type": "stream",
     "text": [
      "\n",
      "Training set epoch 10: Avg. loss: 0.0001, Accuracy: 59486/60000 (99%)\n",
      "\n",
      "\n",
      "Training set epoch 10: Avg. loss: 0.0000, Accuracy: 59486/60000 (99%)\n",
      "\n"
     ]
    },
    {
     "data": {
      "application/vnd.jupyter.widget-view+json": {
       "model_id": "19bdef4861ab44608c8fe7e642e489ff",
       "version_major": 2,
       "version_minor": 0
      },
      "text/plain": [
       "  0%|          | 0/60000 [00:00<?, ?it/s]"
      ]
     },
     "metadata": {},
     "output_type": "display_data"
    },
    {
     "name": "stdout",
     "output_type": "stream",
     "text": [
      "\n",
      "Training set epoch 11: Avg. loss: 0.0001, Accuracy: 59524/60000 (99%)\n",
      "\n",
      "\n",
      "Training set epoch 11: Avg. loss: 0.0000, Accuracy: 59524/60000 (99%)\n",
      "\n"
     ]
    },
    {
     "data": {
      "application/vnd.jupyter.widget-view+json": {
       "model_id": "ca2fa5541fb64dcc9c9192130c45c0ea",
       "version_major": 2,
       "version_minor": 0
      },
      "text/plain": [
       "  0%|          | 0/60000 [00:00<?, ?it/s]"
      ]
     },
     "metadata": {},
     "output_type": "display_data"
    },
    {
     "name": "stdout",
     "output_type": "stream",
     "text": [
      "\n",
      "Training set epoch 12: Avg. loss: 0.0001, Accuracy: 59524/60000 (99%)\n",
      "\n",
      "\n",
      "Training set epoch 12: Avg. loss: 0.0000, Accuracy: 59524/60000 (99%)\n",
      "\n",
      "test on original test data\n",
      "\n",
      "Test set: Avg. loss: 0.0001, Accuracy: 9929/10000 (99%)\n",
      "\n",
      "\n",
      "Test set: Avg. loss: 0.0001, Accuracy: 9929/10000 (99%)\n",
      "\n"
     ]
    },
    {
     "data": {
      "text/plain": [
       "0.007099999999999995"
      ]
     },
     "execution_count": 29,
     "metadata": {},
     "output_type": "execute_result"
    }
   ],
   "source": [
    "batch_size=500\n",
    "step_size=.001\n",
    "num_epochs=20\n",
    "numtrain=60000\n",
    "minimizer=\"Adam\"\n",
    "data_set=\"mnist\"\n",
    "model_name=\"model\"\n",
    "dropout_p=0.\n",
    "use_gpu=True\n",
    "\n",
    "# use GPU when possible\n",
    "device = 'cuda:0' if torch.cuda.is_available() and use_gpu else 'cpu'\n",
    "print(device)\n",
    "train,val,test=get_data(data_set=data_set, num_train=numtrain)\n",
    "\n",
    "net = MNIST_Net_smallconv_deep(ks=5,p = dropout_p, minimizer=minimizer)\n",
    "net.to(device)\n",
    "\n",
    "print('model architecture')\n",
    "print(net)\n",
    "\n",
    "\n",
    "#define optimizer\n",
    "train=(train[0][0:numtrain],train[1][0:numtrain])\n",
    "\n",
    "train_errors = []\n",
    "\n",
    "for i in range(num_epochs):\n",
    "    train_error = run_epoch(net, i, train, batch_size, num=numtrain, ttype=\"train\", device=device)\n",
    "\n",
    "    if i > 0 and abs(train_error - train_errors[-1]) < 1e-4:\n",
    "        break\n",
    "    train_errors.append(train_error)\n",
    "\n",
    "print('test on original test data')\n",
    "net_test(net,test,batch_size,ttype=\"test\")"
   ]
  },
  {
   "cell_type": "code",
   "execution_count": 30,
   "metadata": {},
   "outputs": [
    {
     "data": {
      "image/png": "[encoded data removed]",
      "text/plain": [
       "<Figure size 640x480 with 1 Axes>"
      ]
     },
     "metadata": {},
     "output_type": "display_data"
    }
   ],
   "source": [
    "epochs = np.arange(1, len(train_errors)+1)\n",
    "\n",
    "plt.plot(epochs, train_errors, label='Training Error')\n",
    "plt.xlabel('Epoch')\n",
    "plt.ylabel('Error Rate')\n",
    "plt.title('Training Error vs Epoch')\n",
    "plt.legend()\n",
    "plt.grid(True)\n",
    "plt.show()"
   ]
  },
  {
   "cell_type": "code",
   "execution_count": 32,
   "metadata": {},
   "outputs": [
    {
     "name": "stdout",
     "output_type": "stream",
     "text": [
      "Transformed test shape (10000, 1, 28, 28)\n",
      "\n",
      "Validation set: Avg. loss: 0.0001, Accuracy: 9929/10000 (99%)\n",
      "\n",
      "\n",
      "Validation set: Avg. loss: 0.0001, Accuracy: 9929/10000 (99%)\n",
      "\n",
      "Transformed test shape (10000, 1, 28, 28)\n",
      "\n",
      "Validation set: Avg. loss: 0.0001, Accuracy: 9903/10000 (99%)\n",
      "\n",
      "\n",
      "Validation set: Avg. loss: 0.0001, Accuracy: 9903/10000 (99%)\n",
      "\n",
      "Transformed test shape (10000, 1, 28, 28)\n",
      "\n",
      "Validation set: Avg. loss: 0.0006, Accuracy: 9277/10000 (93%)\n",
      "\n",
      "\n",
      "Validation set: Avg. loss: 0.0006, Accuracy: 9277/10000 (93%)\n",
      "\n",
      "Transformed test shape (10000, 1, 28, 28)\n",
      "\n",
      "Validation set: Avg. loss: 0.0041, Accuracy: 6942/10000 (69%)\n",
      "\n",
      "\n",
      "Validation set: Avg. loss: 0.0041, Accuracy: 6942/10000 (69%)\n",
      "\n",
      "Transformed test shape (10000, 1, 28, 28)\n",
      "\n",
      "Validation set: Avg. loss: 0.0100, Accuracy: 4645/10000 (46%)\n",
      "\n",
      "\n",
      "Validation set: Avg. loss: 0.0100, Accuracy: 4645/10000 (46%)\n",
      "\n",
      "Transformed test shape (10000, 1, 28, 28)\n",
      "\n",
      "Validation set: Avg. loss: 0.0151, Accuracy: 3354/10000 (34%)\n",
      "\n",
      "\n",
      "Validation set: Avg. loss: 0.0151, Accuracy: 3354/10000 (34%)\n",
      "\n"
     ]
    },
    {
     "data": {
      "image/png": "[encoded data removed]",
      "text/plain": [
       "<Figure size 640x480 with 1 Axes>"
      ]
     },
     "metadata": {},
     "output_type": "display_data"
    }
   ],
   "source": [
    "shifts = [0, 2, 4, 6, 8, 10]\n",
    "test_errors2 = []\n",
    "\n",
    "for s in shifts:\n",
    "    shifted_test = get_mnist_trans(test[0], shift=s)\n",
    "\n",
    "    net.eval()\n",
    "    val_error = net_test(net, (shifted_test, test[1]), batch_size=batch_size, device=device)\n",
    "    test_errors2.append(1 - val_error)  # classification rate\n",
    "\n",
    "plt.plot(shifts, test_errors2, marker='o')\n",
    "plt.xlabel('Shift Size (pixels)')\n",
    "plt.ylabel('Classification Rate')\n",
    "plt.title('Performance vs. Shift')\n",
    "plt.grid(True)\n",
    "plt.show()"
   ]
  },
  {
   "cell_type": "markdown",
   "metadata": {},
   "source": [
    "We see that over the tested range of shifts, our changes in architecture to the size of the convolutional filters and the number of convolutional layers were successful in improving the performanceon shifted image by about 1-5% across different shift values."
   ]
  },
  {
   "cell_type": "markdown",
   "metadata": {},
   "source": [
    "# 2a)"
   ]
  },
  {
   "cell_type": "code",
   "execution_count": 37,
   "metadata": {},
   "outputs": [
    {
     "data": {
      "image/png": "[encoded data removed]",
      "text/plain": [
       "<Figure size 1500x300 with 5 Axes>"
      ]
     },
     "metadata": {},
     "output_type": "display_data"
    }
   ],
   "source": [
    "train, val, test = get_data('cifar', 0)\n",
    "\n",
    "# Choose 5 random indices\n",
    "indices = np.random.choice(len(train[0]), size=5, replace=False)\n",
    "\n",
    "# Create a figure\n",
    "fig, axes = plt.subplots(1, 5, figsize=(15,3))\n",
    "\n",
    "for i, idx in enumerate(indices):\n",
    "    img = train[0][idx]  # shape (3, 32, 32)\n",
    "\n",
    "    # Move channel dimension to the last position so it becomes (32,32,3)\n",
    "    img = np.transpose(img, (1, 2, 0))\n",
    "\n",
    "    axes[i].imshow(img)\n",
    "    axes[i].axis('off')\n",
    "    axes[i].set_title(f'Label: {train[1][idx]}')\n",
    "\n",
    "plt.tight_layout()\n",
    "plt.show()"
   ]
  },
  {
   "cell_type": "markdown",
   "metadata": {},
   "source": [
    "# 2b)"
   ]
  },
  {
   "cell_type": "code",
   "execution_count": 41,
   "metadata": {},
   "outputs": [],
   "source": [
    "class CIFAR_Net(nn.Module):\n",
    "    def __init__(self, ks=5, p=0.5, minimizer='Adam', device='cuda:0'):\n",
    "        super(CIFAR_Net, self).__init__()\n",
    "        \n",
    "        self.conv1 = nn.Conv2d(3, 32, kernel_size=5)  # changed input channels to 3\n",
    "        self.conv2 = nn.Conv2d(32, 64, kernel_size=5)\n",
    "        self.drop2 = nn.Dropout2d(p)\n",
    "        ks = int(ks)\n",
    "        self.p1 = nn.MaxPool2d(kernel_size=[ks], stride=2, padding=[int(ks/2)])\n",
    "        self.p2 = nn.MaxPool2d(kernel_size=2, stride=2)\n",
    "\n",
    "        self.first = True\n",
    "        if self.first:\n",
    "            self.forward(torch.zeros((1, 3, 32, 32)))  # CIFAR input shape\n",
    "        \n",
    "        if minimizer == 'Adam':\n",
    "            self.optimizer = torch.optim.Adam(self.parameters(), lr=step_size)\n",
    "        else:\n",
    "            self.optimizer = torch.optim.SGD(self.parameters(), lr=step_size, momentum=0.9)\n",
    "\n",
    "        self.criterion = nn.CrossEntropyLoss()\n",
    "\n",
    "    def forward(self, x):\n",
    "        x = F.relu(self.p1(self.conv1(x)))\n",
    "        if self.first:\n",
    "            print('After conv1', x.shape)\n",
    "        x = F.relu(self.p2(self.drop2(self.conv2(x))))\n",
    "        if self.first:\n",
    "            print('After conv2', x.shape)\n",
    "            self.first = False\n",
    "            self.inp = x.shape[1] * x.shape[2] * x.shape[3]\n",
    "            print('Dimension before first fully connected', self.inp)\n",
    "            self.fc1 = nn.Linear(self.inp, 256)\n",
    "            self.fc2 = nn.Linear(256, 10)\n",
    "        \n",
    "        x = x.reshape(-1, self.inp)\n",
    "        x = F.relu(self.fc1(x))\n",
    "        x = F.dropout(x, training=self.training)\n",
    "        x = self.fc2(x)\n",
    "        return x\n",
    "\n",
    "    def get_acc_and_loss(self, data, targ):\n",
    "        output = self.forward(data)\n",
    "        loss = self.criterion(output, targ)\n",
    "        pred = torch.max(output, 1)[1]\n",
    "        correct = torch.eq(pred, targ).sum()\n",
    "        return loss, correct\n",
    "\n",
    "    def run_grad(self, data, targ):\n",
    "        loss, correct = self.get_acc_and_loss(data, targ)\n",
    "        self.optimizer.zero_grad()\n",
    "        loss.backward()\n",
    "        self.optimizer.step()\n",
    "        return loss, correct\n"
   ]
  },
  {
   "cell_type": "code",
   "execution_count": 42,
   "metadata": {
    "scrolled": true
   },
   "outputs": [
    {
     "name": "stdout",
     "output_type": "stream",
     "text": [
      "cpu\n",
      "After conv1 torch.Size([1, 32, 14, 14])\n",
      "After conv2 torch.Size([1, 64, 5, 5])\n",
      "Dimension before first fully connected 1600\n",
      "model architecture\n",
      "CIFAR_Net(\n",
      "  (conv1): Conv2d(3, 32, kernel_size=(5, 5), stride=(1, 1))\n",
      "  (conv2): Conv2d(32, 64, kernel_size=(5, 5), stride=(1, 1))\n",
      "  (drop2): Dropout2d(p=0.0, inplace=False)\n",
      "  (p1): MaxPool2d(kernel_size=[5], stride=2, padding=[2], dilation=1, ceil_mode=False)\n",
      "  (p2): MaxPool2d(kernel_size=2, stride=2, padding=0, dilation=1, ceil_mode=False)\n",
      "  (fc1): Linear(in_features=1600, out_features=256, bias=True)\n",
      "  (fc2): Linear(in_features=256, out_features=10, bias=True)\n",
      "  (criterion): CrossEntropyLoss()\n",
      ")\n"
     ]
    },
    {
     "data": {
      "application/vnd.jupyter.widget-view+json": {
       "model_id": "40894476c5e742dab2bf1da305bc57ac",
       "version_major": 2,
       "version_minor": 0
      },
      "text/plain": [
       "  0%|          | 0/45000 [00:00<?, ?it/s]"
      ]
     },
     "metadata": {},
     "output_type": "display_data"
    },
    {
     "name": "stdout",
     "output_type": "stream",
     "text": [
      "\n",
      "Training set epoch 0: Avg. loss: 0.0037, Accuracy: 14051/45000 (31%)\n",
      "\n",
      "\n",
      "Training set epoch 0: Avg. loss: 0.0000, Accuracy: 14051/45000 (31%)\n",
      "\n",
      "\n",
      "Validation set: Avg. loss: 0.0032, Accuracy: 2064/5000 (41%)\n",
      "\n",
      "\n",
      "Validation set: Avg. loss: 0.0032, Accuracy: 2064/5000 (41%)\n",
      "\n"
     ]
    },
    {
     "data": {
      "application/vnd.jupyter.widget-view+json": {
       "model_id": "0b53f98c11474e3b992e69f3d558eb32",
       "version_major": 2,
       "version_minor": 0
      },
      "text/plain": [
       "  0%|          | 0/45000 [00:00<?, ?it/s]"
      ]
     },
     "metadata": {},
     "output_type": "display_data"
    },
    {
     "name": "stdout",
     "output_type": "stream",
     "text": [
      "\n",
      "Training set epoch 1: Avg. loss: 0.0029, Accuracy: 21247/45000 (47%)\n",
      "\n",
      "\n",
      "Training set epoch 1: Avg. loss: 0.0000, Accuracy: 21247/45000 (47%)\n",
      "\n",
      "\n",
      "Validation set: Avg. loss: 0.0028, Accuracy: 2554/5000 (51%)\n",
      "\n",
      "\n",
      "Validation set: Avg. loss: 0.0028, Accuracy: 2554/5000 (51%)\n",
      "\n"
     ]
    },
    {
     "data": {
      "application/vnd.jupyter.widget-view+json": {
       "model_id": "9d28939b80e947b9801d708ef7c59a6f",
       "version_major": 2,
       "version_minor": 0
      },
      "text/plain": [
       "  0%|          | 0/45000 [00:00<?, ?it/s]"
      ]
     },
     "metadata": {},
     "output_type": "display_data"
    },
    {
     "name": "stdout",
     "output_type": "stream",
     "text": [
      "\n",
      "Training set epoch 2: Avg. loss: 0.0026, Accuracy: 23854/45000 (53%)\n",
      "\n",
      "\n",
      "Training set epoch 2: Avg. loss: 0.0000, Accuracy: 23854/45000 (53%)\n",
      "\n",
      "\n",
      "Validation set: Avg. loss: 0.0025, Accuracy: 2767/5000 (55%)\n",
      "\n",
      "\n",
      "Validation set: Avg. loss: 0.0025, Accuracy: 2767/5000 (55%)\n",
      "\n"
     ]
    },
    {
     "data": {
      "application/vnd.jupyter.widget-view+json": {
       "model_id": "1cd38577f5494041bb2824f3965d2631",
       "version_major": 2,
       "version_minor": 0
      },
      "text/plain": [
       "  0%|          | 0/45000 [00:00<?, ?it/s]"
      ]
     },
     "metadata": {},
     "output_type": "display_data"
    },
    {
     "name": "stdout",
     "output_type": "stream",
     "text": [
      "\n",
      "Training set epoch 3: Avg. loss: 0.0024, Accuracy: 25444/45000 (57%)\n",
      "\n",
      "\n",
      "Training set epoch 3: Avg. loss: 0.0000, Accuracy: 25444/45000 (57%)\n",
      "\n",
      "\n",
      "Validation set: Avg. loss: 0.0024, Accuracy: 2931/5000 (59%)\n",
      "\n",
      "\n",
      "Validation set: Avg. loss: 0.0024, Accuracy: 2931/5000 (59%)\n",
      "\n"
     ]
    },
    {
     "data": {
      "application/vnd.jupyter.widget-view+json": {
       "model_id": "4e0af90669eb4315b1957419b384f7ee",
       "version_major": 2,
       "version_minor": 0
      },
      "text/plain": [
       "  0%|          | 0/45000 [00:00<?, ?it/s]"
      ]
     },
     "metadata": {},
     "output_type": "display_data"
    },
    {
     "name": "stdout",
     "output_type": "stream",
     "text": [
      "\n",
      "Training set epoch 4: Avg. loss: 0.0023, Accuracy: 26820/45000 (60%)\n",
      "\n",
      "\n",
      "Training set epoch 4: Avg. loss: 0.0000, Accuracy: 26820/45000 (60%)\n",
      "\n",
      "\n",
      "Validation set: Avg. loss: 0.0023, Accuracy: 2922/5000 (58%)\n",
      "\n",
      "\n",
      "Validation set: Avg. loss: 0.0023, Accuracy: 2922/5000 (58%)\n",
      "\n"
     ]
    },
    {
     "data": {
      "application/vnd.jupyter.widget-view+json": {
       "model_id": "889b97c9715e496798d83dd539ade77b",
       "version_major": 2,
       "version_minor": 0
      },
      "text/plain": [
       "  0%|          | 0/45000 [00:00<?, ?it/s]"
      ]
     },
     "metadata": {},
     "output_type": "display_data"
    },
    {
     "name": "stdout",
     "output_type": "stream",
     "text": [
      "\n",
      "Training set epoch 5: Avg. loss: 0.0022, Accuracy: 27730/45000 (62%)\n",
      "\n",
      "\n",
      "Training set epoch 5: Avg. loss: 0.0000, Accuracy: 27730/45000 (62%)\n",
      "\n",
      "\n",
      "Validation set: Avg. loss: 0.0022, Accuracy: 3011/5000 (60%)\n",
      "\n",
      "\n",
      "Validation set: Avg. loss: 0.0022, Accuracy: 3011/5000 (60%)\n",
      "\n"
     ]
    },
    {
     "data": {
      "application/vnd.jupyter.widget-view+json": {
       "model_id": "74964e378fad40da89c06466ed2d9aef",
       "version_major": 2,
       "version_minor": 0
      },
      "text/plain": [
       "  0%|          | 0/45000 [00:00<?, ?it/s]"
      ]
     },
     "metadata": {},
     "output_type": "display_data"
    },
    {
     "name": "stdout",
     "output_type": "stream",
     "text": [
      "\n",
      "Training set epoch 6: Avg. loss: 0.0021, Accuracy: 28594/45000 (64%)\n",
      "\n",
      "\n",
      "Training set epoch 6: Avg. loss: 0.0000, Accuracy: 28594/45000 (64%)\n",
      "\n",
      "\n",
      "Validation set: Avg. loss: 0.0021, Accuracy: 3079/5000 (62%)\n",
      "\n",
      "\n",
      "Validation set: Avg. loss: 0.0021, Accuracy: 3079/5000 (62%)\n",
      "\n"
     ]
    },
    {
     "data": {
      "application/vnd.jupyter.widget-view+json": {
       "model_id": "c0efb6540409425ca3f1db792e404c15",
       "version_major": 2,
       "version_minor": 0
      },
      "text/plain": [
       "  0%|          | 0/45000 [00:00<?, ?it/s]"
      ]
     },
     "metadata": {},
     "output_type": "display_data"
    },
    {
     "name": "stdout",
     "output_type": "stream",
     "text": [
      "\n",
      "Training set epoch 7: Avg. loss: 0.0020, Accuracy: 29313/45000 (65%)\n",
      "\n",
      "\n",
      "Training set epoch 7: Avg. loss: 0.0000, Accuracy: 29313/45000 (65%)\n",
      "\n",
      "\n",
      "Validation set: Avg. loss: 0.0021, Accuracy: 3174/5000 (63%)\n",
      "\n",
      "\n",
      "Validation set: Avg. loss: 0.0021, Accuracy: 3174/5000 (63%)\n",
      "\n"
     ]
    },
    {
     "data": {
      "application/vnd.jupyter.widget-view+json": {
       "model_id": "7bcb5d71be9e469e98728be456ff6c22",
       "version_major": 2,
       "version_minor": 0
      },
      "text/plain": [
       "  0%|          | 0/45000 [00:00<?, ?it/s]"
      ]
     },
     "metadata": {},
     "output_type": "display_data"
    },
    {
     "name": "stdout",
     "output_type": "stream",
     "text": [
      "\n",
      "Training set epoch 8: Avg. loss: 0.0019, Accuracy: 29953/45000 (67%)\n",
      "\n",
      "\n",
      "Training set epoch 8: Avg. loss: 0.0000, Accuracy: 29953/45000 (67%)\n",
      "\n",
      "\n",
      "Validation set: Avg. loss: 0.0020, Accuracy: 3237/5000 (65%)\n",
      "\n",
      "\n",
      "Validation set: Avg. loss: 0.0020, Accuracy: 3237/5000 (65%)\n",
      "\n"
     ]
    },
    {
     "data": {
      "application/vnd.jupyter.widget-view+json": {
       "model_id": "5c999bd5d705444b82b4eac99ede81c4",
       "version_major": 2,
       "version_minor": 0
      },
      "text/plain": [
       "  0%|          | 0/45000 [00:00<?, ?it/s]"
      ]
     },
     "metadata": {},
     "output_type": "display_data"
    },
    {
     "name": "stdout",
     "output_type": "stream",
     "text": [
      "\n",
      "Training set epoch 9: Avg. loss: 0.0018, Accuracy: 30504/45000 (68%)\n",
      "\n",
      "\n",
      "Training set epoch 9: Avg. loss: 0.0000, Accuracy: 30504/45000 (68%)\n",
      "\n",
      "\n",
      "Validation set: Avg. loss: 0.0019, Accuracy: 3315/5000 (66%)\n",
      "\n",
      "\n",
      "Validation set: Avg. loss: 0.0019, Accuracy: 3315/5000 (66%)\n",
      "\n"
     ]
    },
    {
     "data": {
      "application/vnd.jupyter.widget-view+json": {
       "model_id": "29b2d54a70f04ddf8bde92650fd2cd80",
       "version_major": 2,
       "version_minor": 0
      },
      "text/plain": [
       "  0%|          | 0/45000 [00:00<?, ?it/s]"
      ]
     },
     "metadata": {},
     "output_type": "display_data"
    },
    {
     "name": "stdout",
     "output_type": "stream",
     "text": [
      "\n",
      "Training set epoch 10: Avg. loss: 0.0018, Accuracy: 31074/45000 (69%)\n",
      "\n",
      "\n",
      "Training set epoch 10: Avg. loss: 0.0000, Accuracy: 31074/45000 (69%)\n",
      "\n",
      "\n",
      "Validation set: Avg. loss: 0.0019, Accuracy: 3369/5000 (67%)\n",
      "\n",
      "\n",
      "Validation set: Avg. loss: 0.0019, Accuracy: 3369/5000 (67%)\n",
      "\n"
     ]
    },
    {
     "data": {
      "application/vnd.jupyter.widget-view+json": {
       "model_id": "8abceca5058f4ed5b2246a3b8b05bdcd",
       "version_major": 2,
       "version_minor": 0
      },
      "text/plain": [
       "  0%|          | 0/45000 [00:00<?, ?it/s]"
      ]
     },
     "metadata": {},
     "output_type": "display_data"
    },
    {
     "name": "stdout",
     "output_type": "stream",
     "text": [
      "\n",
      "Training set epoch 11: Avg. loss: 0.0017, Accuracy: 31514/45000 (70%)\n",
      "\n",
      "\n",
      "Training set epoch 11: Avg. loss: 0.0000, Accuracy: 31514/45000 (70%)\n",
      "\n",
      "\n",
      "Validation set: Avg. loss: 0.0018, Accuracy: 3387/5000 (68%)\n",
      "\n",
      "\n",
      "Validation set: Avg. loss: 0.0018, Accuracy: 3387/5000 (68%)\n",
      "\n"
     ]
    },
    {
     "data": {
      "application/vnd.jupyter.widget-view+json": {
       "model_id": "9351fc2e9b014fe498d951826f9fd3c6",
       "version_major": 2,
       "version_minor": 0
      },
      "text/plain": [
       "  0%|          | 0/45000 [00:00<?, ?it/s]"
      ]
     },
     "metadata": {},
     "output_type": "display_data"
    },
    {
     "name": "stdout",
     "output_type": "stream",
     "text": [
      "\n",
      "Training set epoch 12: Avg. loss: 0.0017, Accuracy: 31935/45000 (71%)\n",
      "\n",
      "\n",
      "Training set epoch 12: Avg. loss: 0.0000, Accuracy: 31935/45000 (71%)\n",
      "\n",
      "\n",
      "Validation set: Avg. loss: 0.0018, Accuracy: 3501/5000 (70%)\n",
      "\n",
      "\n",
      "Validation set: Avg. loss: 0.0018, Accuracy: 3501/5000 (70%)\n",
      "\n"
     ]
    },
    {
     "data": {
      "application/vnd.jupyter.widget-view+json": {
       "model_id": "b959d61f06d64bf6b009ae8c23e363f8",
       "version_major": 2,
       "version_minor": 0
      },
      "text/plain": [
       "  0%|          | 0/45000 [00:00<?, ?it/s]"
      ]
     },
     "metadata": {},
     "output_type": "display_data"
    },
    {
     "name": "stdout",
     "output_type": "stream",
     "text": [
      "\n",
      "Training set epoch 13: Avg. loss: 0.0016, Accuracy: 32234/45000 (72%)\n",
      "\n",
      "\n",
      "Training set epoch 13: Avg. loss: 0.0000, Accuracy: 32234/45000 (72%)\n",
      "\n",
      "\n",
      "Validation set: Avg. loss: 0.0017, Accuracy: 3491/5000 (70%)\n",
      "\n",
      "\n",
      "Validation set: Avg. loss: 0.0017, Accuracy: 3491/5000 (70%)\n",
      "\n"
     ]
    },
    {
     "data": {
      "application/vnd.jupyter.widget-view+json": {
       "model_id": "18e5a2d0b78647e18c728e8ace711172",
       "version_major": 2,
       "version_minor": 0
      },
      "text/plain": [
       "  0%|          | 0/45000 [00:00<?, ?it/s]"
      ]
     },
     "metadata": {},
     "output_type": "display_data"
    },
    {
     "name": "stdout",
     "output_type": "stream",
     "text": [
      "\n",
      "Training set epoch 14: Avg. loss: 0.0016, Accuracy: 32725/45000 (73%)\n",
      "\n",
      "\n",
      "Training set epoch 14: Avg. loss: 0.0000, Accuracy: 32725/45000 (73%)\n",
      "\n",
      "\n",
      "Validation set: Avg. loss: 0.0018, Accuracy: 3489/5000 (70%)\n",
      "\n",
      "\n",
      "Validation set: Avg. loss: 0.0018, Accuracy: 3489/5000 (70%)\n",
      "\n"
     ]
    },
    {
     "data": {
      "application/vnd.jupyter.widget-view+json": {
       "model_id": "952ccf5b5d274c57a35da513d192e751",
       "version_major": 2,
       "version_minor": 0
      },
      "text/plain": [
       "  0%|          | 0/45000 [00:00<?, ?it/s]"
      ]
     },
     "metadata": {},
     "output_type": "display_data"
    },
    {
     "name": "stdout",
     "output_type": "stream",
     "text": [
      "\n",
      "Training set epoch 15: Avg. loss: 0.0015, Accuracy: 33119/45000 (74%)\n",
      "\n",
      "\n",
      "Training set epoch 15: Avg. loss: 0.0000, Accuracy: 33119/45000 (74%)\n",
      "\n",
      "\n",
      "Validation set: Avg. loss: 0.0018, Accuracy: 3489/5000 (70%)\n",
      "\n",
      "\n",
      "Validation set: Avg. loss: 0.0018, Accuracy: 3489/5000 (70%)\n",
      "\n"
     ]
    },
    {
     "data": {
      "application/vnd.jupyter.widget-view+json": {
       "model_id": "d05fa5b121d74513920e91d76fa36ade",
       "version_major": 2,
       "version_minor": 0
      },
      "text/plain": [
       "  0%|          | 0/45000 [00:00<?, ?it/s]"
      ]
     },
     "metadata": {},
     "output_type": "display_data"
    },
    {
     "name": "stdout",
     "output_type": "stream",
     "text": [
      "\n",
      "Training set epoch 16: Avg. loss: 0.0015, Accuracy: 33492/45000 (74%)\n",
      "\n",
      "\n",
      "Training set epoch 16: Avg. loss: 0.0000, Accuracy: 33492/45000 (74%)\n",
      "\n",
      "\n",
      "Validation set: Avg. loss: 0.0017, Accuracy: 3519/5000 (70%)\n",
      "\n",
      "\n",
      "Validation set: Avg. loss: 0.0017, Accuracy: 3519/5000 (70%)\n",
      "\n"
     ]
    },
    {
     "data": {
      "application/vnd.jupyter.widget-view+json": {
       "model_id": "cf1df17a959c4914a536a9c91aea45da",
       "version_major": 2,
       "version_minor": 0
      },
      "text/plain": [
       "  0%|          | 0/45000 [00:00<?, ?it/s]"
      ]
     },
     "metadata": {},
     "output_type": "display_data"
    },
    {
     "name": "stdout",
     "output_type": "stream",
     "text": [
      "\n",
      "Training set epoch 17: Avg. loss: 0.0015, Accuracy: 33600/45000 (75%)\n",
      "\n",
      "\n",
      "Training set epoch 17: Avg. loss: 0.0000, Accuracy: 33600/45000 (75%)\n",
      "\n",
      "\n",
      "Validation set: Avg. loss: 0.0017, Accuracy: 3556/5000 (71%)\n",
      "\n",
      "\n",
      "Validation set: Avg. loss: 0.0017, Accuracy: 3556/5000 (71%)\n",
      "\n"
     ]
    },
    {
     "data": {
      "application/vnd.jupyter.widget-view+json": {
       "model_id": "8f4a0949b0c843cbad14cfcfc135f6f4",
       "version_major": 2,
       "version_minor": 0
      },
      "text/plain": [
       "  0%|          | 0/45000 [00:00<?, ?it/s]"
      ]
     },
     "metadata": {},
     "output_type": "display_data"
    },
    {
     "name": "stdout",
     "output_type": "stream",
     "text": [
      "\n",
      "Training set epoch 18: Avg. loss: 0.0014, Accuracy: 33856/45000 (75%)\n",
      "\n",
      "\n",
      "Training set epoch 18: Avg. loss: 0.0000, Accuracy: 33856/45000 (75%)\n",
      "\n",
      "\n",
      "Validation set: Avg. loss: 0.0017, Accuracy: 3588/5000 (72%)\n",
      "\n",
      "\n",
      "Validation set: Avg. loss: 0.0017, Accuracy: 3588/5000 (72%)\n",
      "\n"
     ]
    },
    {
     "data": {
      "application/vnd.jupyter.widget-view+json": {
       "model_id": "6c7e289fdf314531b8a1ba651f836e3b",
       "version_major": 2,
       "version_minor": 0
      },
      "text/plain": [
       "  0%|          | 0/45000 [00:00<?, ?it/s]"
      ]
     },
     "metadata": {},
     "output_type": "display_data"
    },
    {
     "name": "stdout",
     "output_type": "stream",
     "text": [
      "\n",
      "Training set epoch 19: Avg. loss: 0.0014, Accuracy: 33935/45000 (75%)\n",
      "\n",
      "\n",
      "Training set epoch 19: Avg. loss: 0.0000, Accuracy: 33935/45000 (75%)\n",
      "\n",
      "\n",
      "Validation set: Avg. loss: 0.0017, Accuracy: 3594/5000 (72%)\n",
      "\n",
      "\n",
      "Validation set: Avg. loss: 0.0017, Accuracy: 3594/5000 (72%)\n",
      "\n",
      "test on original test data\n",
      "\n",
      "Test set: Avg. loss: 0.0017, Accuracy: 7062/10000 (71%)\n",
      "\n",
      "\n",
      "Test set: Avg. loss: 0.0017, Accuracy: 7062/10000 (71%)\n",
      "\n"
     ]
    },
    {
     "data": {
      "image/png": "[encoded data removed]",
      "text/plain": [
       "<Figure size 640x480 with 1 Axes>"
      ]
     },
     "metadata": {},
     "output_type": "display_data"
    }
   ],
   "source": [
    "batch_size=500\n",
    "step_size=.001\n",
    "num_epochs=20\n",
    "numtrain=60000\n",
    "minimizer=\"Adam\"\n",
    "data_set=\"cifar\"\n",
    "model_name=\"model\"\n",
    "dropout_p=0.\n",
    "use_gpu=True\n",
    "\n",
    "# use GPU when possible\n",
    "device = 'cuda:0' if torch.cuda.is_available() and use_gpu else 'cpu'\n",
    "print(device)\n",
    "# train,val,test=get_data(data_set=data_set, num_train=numtrain)\n",
    "\n",
    "net = CIFAR_Net(ks=5,p = dropout_p, minimizer=minimizer)\n",
    "net.to(device)\n",
    "\n",
    "print('model architecture')\n",
    "print(net)\n",
    "\n",
    "\n",
    "#define optimizer\n",
    "train=(train[0][0:numtrain],train[1][0:numtrain])\n",
    "\n",
    "train_errors = []\n",
    "val_errors = []\n",
    "\n",
    "for i in range(num_epochs):\n",
    "    train_error = run_epoch(net, i, train, batch_size, num=numtrain, ttype=\"train\", device=device)\n",
    "    val_error = net_test(net, val, batch_size, device=device)\n",
    "\n",
    "    train_errors.append(train_error)\n",
    "    val_errors.append(val_error)\n",
    "\n",
    "print('test on original test data')\n",
    "net_test(net,test,batch_size,ttype=\"test\")\n",
    "    \n",
    "epochs = np.arange(1, num_epochs+1)\n",
    "\n",
    "plt.plot(epochs, train_errors, label='Training Error', marker='o')\n",
    "plt.plot(epochs, val_errors, label='Validation Error', marker='x')\n",
    "plt.xlabel('Epoch')\n",
    "plt.ylabel('Error Rate')\n",
    "plt.title('Training and Validation Error vs Epoch (CIFAR)')\n",
    "plt.legend()\n",
    "plt.grid(True)\n",
    "plt.show()"
   ]
  },
  {
   "cell_type": "code",
   "execution_count": 43,
   "metadata": {},
   "outputs": [
    {
     "data": {
      "image/png": "[encoded data removed]",
      "text/plain": [
       "<Figure size 1500x800 with 32 Axes>"
      ]
     },
     "metadata": {},
     "output_type": "display_data"
    }
   ],
   "source": [
    "filters = net.conv1.weight.data.clone().cpu()  # Shape: (32, 3, 5, 5)\n",
    "\n",
    "# Normalize filters to 0-1 range for display\n",
    "filters_min = filters.min()\n",
    "filters_max = filters.max()\n",
    "filters = (filters - filters_min) / (filters_max - filters_min)\n",
    "\n",
    "# Plot filters\n",
    "fig, axes = plt.subplots(4, 8, figsize=(15, 8))\n",
    "for i, ax in enumerate(axes.flat):\n",
    "    img = filters[i].permute(1, 2, 0)  # (channels, height, width) → (height, width, channels)\n",
    "    ax.imshow(img)\n",
    "    ax.axis('off')\n",
    "plt.suptitle('First Layer Filters (CIFAR Network)', fontsize=16)\n",
    "plt.show()"
   ]
  },
  {
   "cell_type": "markdown",
   "metadata": {},
   "source": [
    "# 2c)"
   ]
  },
  {
   "cell_type": "markdown",
   "metadata": {},
   "source": [
    "To make the network deeper, we add more convolutional layers, more relu activations (to increase non-linearity) and pool after every two convolutional layers."
   ]
  },
  {
   "cell_type": "code",
   "execution_count": 44,
   "metadata": {},
   "outputs": [],
   "source": [
    "class CIFAR_Net_deeper(nn.Module):\n",
    "    def __init__(self, ks=2, p=0.5, minimizer='Adam', device='cuda:0'):\n",
    "        super(CIFAR_Net_deeper, self).__init__()\n",
    "\n",
    "        # Deeper conv stack\n",
    "        self.conv1 = nn.Conv2d(3, 32, kernel_size=3, padding=1)\n",
    "        self.conv2 = nn.Conv2d(32, 64, kernel_size=3, padding=1)\n",
    "        self.pool1 = nn.MaxPool2d(2, 2)\n",
    "\n",
    "        self.conv3 = nn.Conv2d(64, 128, kernel_size=3, padding=1)\n",
    "        self.conv4 = nn.Conv2d(128, 128, kernel_size=3, padding=1)\n",
    "        self.pool2 = nn.MaxPool2d(2, 2)\n",
    "\n",
    "        self.conv5 = nn.Conv2d(128, 256, kernel_size=3, padding=1)\n",
    "        \n",
    "        self.drop2 = nn.Dropout2d(p)\n",
    "\n",
    "        self.first = True\n",
    "        if self.first:\n",
    "            self.forward(torch.zeros((1, 3, 32, 32)))\n",
    "\n",
    "        if minimizer == 'Adam':\n",
    "            self.optimizer = torch.optim.Adam(self.parameters(), lr=step_size)\n",
    "        else:\n",
    "            self.optimizer = torch.optim.SGD(self.parameters(), lr=step_size, momentum=0.9)\n",
    "\n",
    "        self.criterion = nn.CrossEntropyLoss()\n",
    "\n",
    "    def forward(self, x):\n",
    "        x = F.relu(self.conv1(x))\n",
    "        x = F.relu(self.conv2(x))\n",
    "        x = self.pool1(x)\n",
    "\n",
    "        x = F.relu(self.conv3(x))\n",
    "        x = F.relu(self.conv4(x))\n",
    "        x = self.pool2(x)\n",
    "\n",
    "        x = F.relu(self.drop2(self.conv5(x)))\n",
    "\n",
    "        if self.first:\n",
    "            print('After conv layers:', x.shape)\n",
    "            self.first = False\n",
    "            self.inp = x.shape[1] * x.shape[2] * x.shape[3]\n",
    "            print('Flattened dimension for FC:', self.inp)\n",
    "            self.fc1 = nn.Linear(self.inp, 256)\n",
    "            self.fc2 = nn.Linear(256, 10)\n",
    "\n",
    "        x = x.reshape(-1, self.inp)\n",
    "        x = F.relu(self.fc1(x))\n",
    "        x = F.dropout(x, training=self.training)\n",
    "        x = self.fc2(x)\n",
    "        return x\n",
    "\n",
    "    def get_acc_and_loss(self, data, targ):\n",
    "        output = self.forward(data)\n",
    "        loss = self.criterion(output, targ)\n",
    "        pred = torch.max(output, 1)[1]\n",
    "        correct = torch.eq(pred, targ).sum()\n",
    "        return loss, correct\n",
    "\n",
    "    def run_grad(self, data, targ):\n",
    "        loss, correct = self.get_acc_and_loss(data, targ)\n",
    "        self.optimizer.zero_grad()\n",
    "        loss.backward()\n",
    "        self.optimizer.step()\n",
    "        return loss, correct\n"
   ]
  },
  {
   "cell_type": "code",
   "execution_count": 45,
   "metadata": {
    "scrolled": true
   },
   "outputs": [
    {
     "name": "stdout",
     "output_type": "stream",
     "text": [
      "cpu\n",
      "After conv layers: torch.Size([1, 256, 8, 8])\n",
      "Flattened dimension for FC: 16384\n",
      "model architecture\n",
      "CIFAR_Net_deeper(\n",
      "  (conv1): Conv2d(3, 32, kernel_size=(3, 3), stride=(1, 1), padding=(1, 1))\n",
      "  (conv2): Conv2d(32, 64, kernel_size=(3, 3), stride=(1, 1), padding=(1, 1))\n",
      "  (pool1): MaxPool2d(kernel_size=2, stride=2, padding=0, dilation=1, ceil_mode=False)\n",
      "  (conv3): Conv2d(64, 128, kernel_size=(3, 3), stride=(1, 1), padding=(1, 1))\n",
      "  (conv4): Conv2d(128, 128, kernel_size=(3, 3), stride=(1, 1), padding=(1, 1))\n",
      "  (pool2): MaxPool2d(kernel_size=2, stride=2, padding=0, dilation=1, ceil_mode=False)\n",
      "  (conv5): Conv2d(128, 256, kernel_size=(3, 3), stride=(1, 1), padding=(1, 1))\n",
      "  (drop2): Dropout2d(p=0.0, inplace=False)\n",
      "  (fc1): Linear(in_features=16384, out_features=256, bias=True)\n",
      "  (fc2): Linear(in_features=256, out_features=10, bias=True)\n",
      "  (criterion): CrossEntropyLoss()\n",
      ")\n"
     ]
    },
    {
     "data": {
      "application/vnd.jupyter.widget-view+json": {
       "model_id": "e398638b37724739a29af8160b2b0a7a",
       "version_major": 2,
       "version_minor": 0
      },
      "text/plain": [
       "  0%|          | 0/45000 [00:00<?, ?it/s]"
      ]
     },
     "metadata": {},
     "output_type": "display_data"
    },
    {
     "name": "stdout",
     "output_type": "stream",
     "text": [
      "\n",
      "Training set epoch 0: Avg. loss: 0.0039, Accuracy: 12820/45000 (28%)\n",
      "\n",
      "\n",
      "Training set epoch 0: Avg. loss: 0.0000, Accuracy: 12820/45000 (28%)\n",
      "\n",
      "\n",
      "Validation set: Avg. loss: 0.0031, Accuracy: 2188/5000 (44%)\n",
      "\n",
      "\n",
      "Validation set: Avg. loss: 0.0031, Accuracy: 2188/5000 (44%)\n",
      "\n"
     ]
    },
    {
     "data": {
      "application/vnd.jupyter.widget-view+json": {
       "model_id": "086661138e3a40bba7c819575ec71a84",
       "version_major": 2,
       "version_minor": 0
      },
      "text/plain": [
       "  0%|          | 0/45000 [00:00<?, ?it/s]"
      ]
     },
     "metadata": {},
     "output_type": "display_data"
    },
    {
     "name": "stdout",
     "output_type": "stream",
     "text": [
      "\n",
      "Training set epoch 1: Avg. loss: 0.0029, Accuracy: 21455/45000 (48%)\n",
      "\n",
      "\n",
      "Training set epoch 1: Avg. loss: 0.0000, Accuracy: 21455/45000 (48%)\n",
      "\n",
      "\n",
      "Validation set: Avg. loss: 0.0025, Accuracy: 2717/5000 (54%)\n",
      "\n",
      "\n",
      "Validation set: Avg. loss: 0.0025, Accuracy: 2717/5000 (54%)\n",
      "\n"
     ]
    },
    {
     "data": {
      "application/vnd.jupyter.widget-view+json": {
       "model_id": "0bdb2ae9279a46c6b6a78e65698442dc",
       "version_major": 2,
       "version_minor": 0
      },
      "text/plain": [
       "  0%|          | 0/45000 [00:00<?, ?it/s]"
      ]
     },
     "metadata": {},
     "output_type": "display_data"
    },
    {
     "name": "stdout",
     "output_type": "stream",
     "text": [
      "\n",
      "Training set epoch 2: Avg. loss: 0.0023, Accuracy: 26035/45000 (58%)\n",
      "\n",
      "\n",
      "Training set epoch 2: Avg. loss: 0.0000, Accuracy: 26035/45000 (58%)\n",
      "\n",
      "\n",
      "Validation set: Avg. loss: 0.0021, Accuracy: 3098/5000 (62%)\n",
      "\n",
      "\n",
      "Validation set: Avg. loss: 0.0021, Accuracy: 3098/5000 (62%)\n",
      "\n"
     ]
    },
    {
     "data": {
      "application/vnd.jupyter.widget-view+json": {
       "model_id": "de38f6f1b2c343748ebf864ca5e2c7f1",
       "version_major": 2,
       "version_minor": 0
      },
      "text/plain": [
       "  0%|          | 0/45000 [00:00<?, ?it/s]"
      ]
     },
     "metadata": {},
     "output_type": "display_data"
    },
    {
     "name": "stdout",
     "output_type": "stream",
     "text": [
      "\n",
      "Training set epoch 3: Avg. loss: 0.0020, Accuracy: 29312/45000 (65%)\n",
      "\n",
      "\n",
      "Training set epoch 3: Avg. loss: 0.0000, Accuracy: 29312/45000 (65%)\n",
      "\n",
      "\n",
      "Validation set: Avg. loss: 0.0019, Accuracy: 3286/5000 (66%)\n",
      "\n",
      "\n",
      "Validation set: Avg. loss: 0.0019, Accuracy: 3286/5000 (66%)\n",
      "\n"
     ]
    },
    {
     "data": {
      "application/vnd.jupyter.widget-view+json": {
       "model_id": "e3b0b0d1a75f4f9eb06ce3ee35f4b1bb",
       "version_major": 2,
       "version_minor": 0
      },
      "text/plain": [
       "  0%|          | 0/45000 [00:00<?, ?it/s]"
      ]
     },
     "metadata": {},
     "output_type": "display_data"
    },
    {
     "name": "stdout",
     "output_type": "stream",
     "text": [
      "\n",
      "Training set epoch 4: Avg. loss: 0.0017, Accuracy: 31619/45000 (70%)\n",
      "\n",
      "\n",
      "Training set epoch 4: Avg. loss: 0.0000, Accuracy: 31619/45000 (70%)\n",
      "\n",
      "\n",
      "Validation set: Avg. loss: 0.0017, Accuracy: 3502/5000 (70%)\n",
      "\n",
      "\n",
      "Validation set: Avg. loss: 0.0017, Accuracy: 3502/5000 (70%)\n",
      "\n"
     ]
    },
    {
     "data": {
      "application/vnd.jupyter.widget-view+json": {
       "model_id": "2ef57abb454a4c429a5563f7a84dd67f",
       "version_major": 2,
       "version_minor": 0
      },
      "text/plain": [
       "  0%|          | 0/45000 [00:00<?, ?it/s]"
      ]
     },
     "metadata": {},
     "output_type": "display_data"
    },
    {
     "name": "stdout",
     "output_type": "stream",
     "text": [
      "\n",
      "Training set epoch 5: Avg. loss: 0.0015, Accuracy: 33441/45000 (74%)\n",
      "\n",
      "\n",
      "Training set epoch 5: Avg. loss: 0.0000, Accuracy: 33441/45000 (74%)\n",
      "\n",
      "\n",
      "Validation set: Avg. loss: 0.0018, Accuracy: 3460/5000 (69%)\n",
      "\n",
      "\n",
      "Validation set: Avg. loss: 0.0018, Accuracy: 3460/5000 (69%)\n",
      "\n"
     ]
    },
    {
     "data": {
      "application/vnd.jupyter.widget-view+json": {
       "model_id": "8c0912da860d4130b030cd7962d83552",
       "version_major": 2,
       "version_minor": 0
      },
      "text/plain": [
       "  0%|          | 0/45000 [00:00<?, ?it/s]"
      ]
     },
     "metadata": {},
     "output_type": "display_data"
    },
    {
     "name": "stdout",
     "output_type": "stream",
     "text": [
      "\n",
      "Training set epoch 6: Avg. loss: 0.0013, Accuracy: 34721/45000 (77%)\n",
      "\n",
      "\n",
      "Training set epoch 6: Avg. loss: 0.0000, Accuracy: 34721/45000 (77%)\n",
      "\n",
      "\n",
      "Validation set: Avg. loss: 0.0018, Accuracy: 3521/5000 (70%)\n",
      "\n",
      "\n",
      "Validation set: Avg. loss: 0.0018, Accuracy: 3521/5000 (70%)\n",
      "\n"
     ]
    },
    {
     "data": {
      "application/vnd.jupyter.widget-view+json": {
       "model_id": "896cbfff72a04fed8df221eb675a12e9",
       "version_major": 2,
       "version_minor": 0
      },
      "text/plain": [
       "  0%|          | 0/45000 [00:00<?, ?it/s]"
      ]
     },
     "metadata": {},
     "output_type": "display_data"
    },
    {
     "name": "stdout",
     "output_type": "stream",
     "text": [
      "\n",
      "Training set epoch 7: Avg. loss: 0.0012, Accuracy: 35890/45000 (80%)\n",
      "\n",
      "\n",
      "Training set epoch 7: Avg. loss: 0.0000, Accuracy: 35890/45000 (80%)\n",
      "\n",
      "\n",
      "Validation set: Avg. loss: 0.0017, Accuracy: 3623/5000 (72%)\n",
      "\n",
      "\n",
      "Validation set: Avg. loss: 0.0017, Accuracy: 3623/5000 (72%)\n",
      "\n"
     ]
    },
    {
     "data": {
      "application/vnd.jupyter.widget-view+json": {
       "model_id": "3b7f205917824498ae539a49c79cc7c0",
       "version_major": 2,
       "version_minor": 0
      },
      "text/plain": [
       "  0%|          | 0/45000 [00:00<?, ?it/s]"
      ]
     },
     "metadata": {},
     "output_type": "display_data"
    },
    {
     "name": "stdout",
     "output_type": "stream",
     "text": [
      "\n",
      "Training set epoch 8: Avg. loss: 0.0010, Accuracy: 37139/45000 (83%)\n",
      "\n",
      "\n",
      "Training set epoch 8: Avg. loss: 0.0000, Accuracy: 37139/45000 (83%)\n",
      "\n",
      "\n",
      "Validation set: Avg. loss: 0.0019, Accuracy: 3530/5000 (71%)\n",
      "\n",
      "\n",
      "Validation set: Avg. loss: 0.0019, Accuracy: 3530/5000 (71%)\n",
      "\n"
     ]
    },
    {
     "data": {
      "application/vnd.jupyter.widget-view+json": {
       "model_id": "07e36fcdc1684bdfb12aad437d2ad3af",
       "version_major": 2,
       "version_minor": 0
      },
      "text/plain": [
       "  0%|          | 0/45000 [00:00<?, ?it/s]"
      ]
     },
     "metadata": {},
     "output_type": "display_data"
    },
    {
     "name": "stdout",
     "output_type": "stream",
     "text": [
      "\n",
      "Training set epoch 9: Avg. loss: 0.0008, Accuracy: 38451/45000 (85%)\n",
      "\n",
      "\n",
      "Training set epoch 9: Avg. loss: 0.0000, Accuracy: 38451/45000 (85%)\n",
      "\n",
      "\n",
      "Validation set: Avg. loss: 0.0020, Accuracy: 3527/5000 (71%)\n",
      "\n",
      "\n",
      "Validation set: Avg. loss: 0.0020, Accuracy: 3527/5000 (71%)\n",
      "\n"
     ]
    },
    {
     "data": {
      "application/vnd.jupyter.widget-view+json": {
       "model_id": "f9324bdae7664902b9eeaa92af21f1b9",
       "version_major": 2,
       "version_minor": 0
      },
      "text/plain": [
       "  0%|          | 0/45000 [00:00<?, ?it/s]"
      ]
     },
     "metadata": {},
     "output_type": "display_data"
    },
    {
     "name": "stdout",
     "output_type": "stream",
     "text": [
      "\n",
      "Training set epoch 10: Avg. loss: 0.0007, Accuracy: 39187/45000 (87%)\n",
      "\n",
      "\n",
      "Training set epoch 10: Avg. loss: 0.0000, Accuracy: 39187/45000 (87%)\n",
      "\n",
      "\n",
      "Validation set: Avg. loss: 0.0021, Accuracy: 3555/5000 (71%)\n",
      "\n",
      "\n",
      "Validation set: Avg. loss: 0.0021, Accuracy: 3555/5000 (71%)\n",
      "\n"
     ]
    },
    {
     "data": {
      "application/vnd.jupyter.widget-view+json": {
       "model_id": "81fc850c1138452fa60fbf997839bae4",
       "version_major": 2,
       "version_minor": 0
      },
      "text/plain": [
       "  0%|          | 0/45000 [00:00<?, ?it/s]"
      ]
     },
     "metadata": {},
     "output_type": "display_data"
    },
    {
     "name": "stdout",
     "output_type": "stream",
     "text": [
      "\n",
      "Training set epoch 11: Avg. loss: 0.0007, Accuracy: 39805/45000 (88%)\n",
      "\n",
      "\n",
      "Training set epoch 11: Avg. loss: 0.0000, Accuracy: 39805/45000 (88%)\n",
      "\n",
      "\n",
      "Validation set: Avg. loss: 0.0023, Accuracy: 3595/5000 (72%)\n",
      "\n",
      "\n",
      "Validation set: Avg. loss: 0.0023, Accuracy: 3595/5000 (72%)\n",
      "\n"
     ]
    },
    {
     "data": {
      "application/vnd.jupyter.widget-view+json": {
       "model_id": "aad448d5d88d45c29e167a9d8a0fab0e",
       "version_major": 2,
       "version_minor": 0
      },
      "text/plain": [
       "  0%|          | 0/45000 [00:00<?, ?it/s]"
      ]
     },
     "metadata": {},
     "output_type": "display_data"
    },
    {
     "name": "stdout",
     "output_type": "stream",
     "text": [
      "\n",
      "Training set epoch 12: Avg. loss: 0.0006, Accuracy: 40192/45000 (89%)\n",
      "\n",
      "\n",
      "Training set epoch 12: Avg. loss: 0.0000, Accuracy: 40192/45000 (89%)\n",
      "\n",
      "\n",
      "Validation set: Avg. loss: 0.0023, Accuracy: 3584/5000 (72%)\n",
      "\n",
      "\n",
      "Validation set: Avg. loss: 0.0023, Accuracy: 3584/5000 (72%)\n",
      "\n"
     ]
    },
    {
     "data": {
      "application/vnd.jupyter.widget-view+json": {
       "model_id": "05e1985cacb649298ee83fa68dc0e749",
       "version_major": 2,
       "version_minor": 0
      },
      "text/plain": [
       "  0%|          | 0/45000 [00:00<?, ?it/s]"
      ]
     },
     "metadata": {},
     "output_type": "display_data"
    },
    {
     "name": "stdout",
     "output_type": "stream",
     "text": [
      "\n",
      "Training set epoch 13: Avg. loss: 0.0005, Accuracy: 41073/45000 (91%)\n",
      "\n",
      "\n",
      "Training set epoch 13: Avg. loss: 0.0000, Accuracy: 41073/45000 (91%)\n",
      "\n",
      "\n",
      "Validation set: Avg. loss: 0.0025, Accuracy: 3546/5000 (71%)\n",
      "\n",
      "\n",
      "Validation set: Avg. loss: 0.0025, Accuracy: 3546/5000 (71%)\n",
      "\n"
     ]
    },
    {
     "data": {
      "application/vnd.jupyter.widget-view+json": {
       "model_id": "33c080cffaa54814bed86873e585cda3",
       "version_major": 2,
       "version_minor": 0
      },
      "text/plain": [
       "  0%|          | 0/45000 [00:00<?, ?it/s]"
      ]
     },
     "metadata": {},
     "output_type": "display_data"
    },
    {
     "name": "stdout",
     "output_type": "stream",
     "text": [
      "\n",
      "Training set epoch 14: Avg. loss: 0.0004, Accuracy: 41795/45000 (93%)\n",
      "\n",
      "\n",
      "Training set epoch 14: Avg. loss: 0.0000, Accuracy: 41795/45000 (93%)\n",
      "\n",
      "\n",
      "Validation set: Avg. loss: 0.0024, Accuracy: 3634/5000 (73%)\n",
      "\n",
      "\n",
      "Validation set: Avg. loss: 0.0024, Accuracy: 3634/5000 (73%)\n",
      "\n"
     ]
    },
    {
     "data": {
      "application/vnd.jupyter.widget-view+json": {
       "model_id": "9799fd018176426782f295c30a8baa67",
       "version_major": 2,
       "version_minor": 0
      },
      "text/plain": [
       "  0%|          | 0/45000 [00:00<?, ?it/s]"
      ]
     },
     "metadata": {},
     "output_type": "display_data"
    },
    {
     "name": "stdout",
     "output_type": "stream",
     "text": [
      "\n",
      "Training set epoch 15: Avg. loss: 0.0003, Accuracy: 42369/45000 (94%)\n",
      "\n",
      "\n",
      "Training set epoch 15: Avg. loss: 0.0000, Accuracy: 42369/45000 (94%)\n",
      "\n",
      "\n",
      "Validation set: Avg. loss: 0.0026, Accuracy: 3571/5000 (71%)\n",
      "\n",
      "\n",
      "Validation set: Avg. loss: 0.0026, Accuracy: 3571/5000 (71%)\n",
      "\n"
     ]
    },
    {
     "data": {
      "application/vnd.jupyter.widget-view+json": {
       "model_id": "7027630450a84cfda8f9112b34d7e965",
       "version_major": 2,
       "version_minor": 0
      },
      "text/plain": [
       "  0%|          | 0/45000 [00:00<?, ?it/s]"
      ]
     },
     "metadata": {},
     "output_type": "display_data"
    },
    {
     "name": "stdout",
     "output_type": "stream",
     "text": [
      "\n",
      "Training set epoch 16: Avg. loss: 0.0003, Accuracy: 42858/45000 (95%)\n",
      "\n",
      "\n",
      "Training set epoch 16: Avg. loss: 0.0000, Accuracy: 42858/45000 (95%)\n",
      "\n",
      "\n",
      "Validation set: Avg. loss: 0.0028, Accuracy: 3537/5000 (71%)\n",
      "\n",
      "\n",
      "Validation set: Avg. loss: 0.0028, Accuracy: 3537/5000 (71%)\n",
      "\n"
     ]
    },
    {
     "data": {
      "application/vnd.jupyter.widget-view+json": {
       "model_id": "34e697d2d3bb49188a58a21c6198d9aa",
       "version_major": 2,
       "version_minor": 0
      },
      "text/plain": [
       "  0%|          | 0/45000 [00:00<?, ?it/s]"
      ]
     },
     "metadata": {},
     "output_type": "display_data"
    },
    {
     "name": "stdout",
     "output_type": "stream",
     "text": [
      "\n",
      "Training set epoch 17: Avg. loss: 0.0003, Accuracy: 42999/45000 (96%)\n",
      "\n",
      "\n",
      "Training set epoch 17: Avg. loss: 0.0000, Accuracy: 42999/45000 (96%)\n",
      "\n",
      "\n",
      "Validation set: Avg. loss: 0.0030, Accuracy: 3531/5000 (71%)\n",
      "\n",
      "\n",
      "Validation set: Avg. loss: 0.0030, Accuracy: 3531/5000 (71%)\n",
      "\n"
     ]
    },
    {
     "data": {
      "application/vnd.jupyter.widget-view+json": {
       "model_id": "904d62f0c18c4741a08c5deab7acfcb4",
       "version_major": 2,
       "version_minor": 0
      },
      "text/plain": [
       "  0%|          | 0/45000 [00:00<?, ?it/s]"
      ]
     },
     "metadata": {},
     "output_type": "display_data"
    },
    {
     "name": "stdout",
     "output_type": "stream",
     "text": [
      "\n",
      "Training set epoch 18: Avg. loss: 0.0002, Accuracy: 43472/45000 (97%)\n",
      "\n",
      "\n",
      "Training set epoch 18: Avg. loss: 0.0000, Accuracy: 43472/45000 (97%)\n",
      "\n",
      "\n",
      "Validation set: Avg. loss: 0.0031, Accuracy: 3586/5000 (72%)\n",
      "\n",
      "\n",
      "Validation set: Avg. loss: 0.0031, Accuracy: 3586/5000 (72%)\n",
      "\n"
     ]
    },
    {
     "data": {
      "application/vnd.jupyter.widget-view+json": {
       "model_id": "dbeeb8ff83e34336b897b514c6a9c0f4",
       "version_major": 2,
       "version_minor": 0
      },
      "text/plain": [
       "  0%|          | 0/45000 [00:00<?, ?it/s]"
      ]
     },
     "metadata": {},
     "output_type": "display_data"
    },
    {
     "name": "stdout",
     "output_type": "stream",
     "text": [
      "\n",
      "Training set epoch 19: Avg. loss: 0.0001, Accuracy: 43919/45000 (98%)\n",
      "\n",
      "\n",
      "Training set epoch 19: Avg. loss: 0.0000, Accuracy: 43919/45000 (98%)\n",
      "\n",
      "\n",
      "Validation set: Avg. loss: 0.0034, Accuracy: 3535/5000 (71%)\n",
      "\n",
      "\n",
      "Validation set: Avg. loss: 0.0034, Accuracy: 3535/5000 (71%)\n",
      "\n",
      "test on original test data\n",
      "\n",
      "Test set: Avg. loss: 0.0036, Accuracy: 6937/10000 (69%)\n",
      "\n",
      "\n",
      "Test set: Avg. loss: 0.0036, Accuracy: 6937/10000 (69%)\n",
      "\n"
     ]
    },
    {
     "data": {
      "image/png": "[encoded data removed]",
      "text/plain": [
       "<Figure size 640x480 with 1 Axes>"
      ]
     },
     "metadata": {},
     "output_type": "display_data"
    }
   ],
   "source": [
    "batch_size=500\n",
    "step_size=.001\n",
    "num_epochs=20\n",
    "numtrain=60000\n",
    "minimizer=\"Adam\"\n",
    "data_set=\"cifar\"\n",
    "model_name=\"model\"\n",
    "dropout_p=0.\n",
    "use_gpu=True\n",
    "\n",
    "# use GPU when possible\n",
    "device = 'cuda:0' if torch.cuda.is_available() and use_gpu else 'cpu'\n",
    "print(device)\n",
    "# train,val,test=get_data(data_set=data_set, num_train=numtrain)\n",
    "\n",
    "net = CIFAR_Net_deeper(ks=5,p = dropout_p, minimizer=minimizer)\n",
    "net.to(device)\n",
    "\n",
    "print('model architecture')\n",
    "print(net)\n",
    "\n",
    "\n",
    "#define optimizer\n",
    "train=(train[0][0:numtrain],train[1][0:numtrain])\n",
    "\n",
    "train_errors = []\n",
    "val_errors = []\n",
    "\n",
    "for i in range(num_epochs):\n",
    "    train_error = run_epoch(net, i, train, batch_size, num=numtrain, ttype=\"train\", device=device)\n",
    "    val_error = net_test(net, val, batch_size, device=device)\n",
    "\n",
    "    train_errors.append(train_error)\n",
    "    val_errors.append(val_error)\n",
    "\n",
    "print('test on original test data')\n",
    "net_test(net,test,batch_size,ttype=\"test\")\n",
    "    \n",
    "epochs = np.arange(1, num_epochs+1)\n",
    "\n",
    "plt.plot(epochs, train_errors, label='Training Error', marker='o')\n",
    "plt.plot(epochs, val_errors, label='Validation Error', marker='x')\n",
    "plt.xlabel('Epoch')\n",
    "plt.ylabel('Error Rate')\n",
    "plt.title('Training and Validation Error vs Epoch (CIFAR)')\n",
    "plt.legend()\n",
    "plt.grid(True)\n",
    "plt.show()"
   ]
  },
  {
   "cell_type": "markdown",
   "metadata": {},
   "source": [
    "We observe that while training loss continues to decrease as we train, validation loss plateaus at about the same level as with the original model. This is reflected by the performance on the test set as well -- it is similar to that of the original model."
   ]
  },
  {
   "cell_type": "markdown",
   "metadata": {},
   "source": [
    "# 2d)"
   ]
  },
  {
   "cell_type": "code",
   "execution_count": 48,
   "metadata": {},
   "outputs": [
    {
     "name": "stdout",
     "output_type": "stream",
     "text": [
      "Collecting scikit-image\n",
      "  Downloading scikit_image-0.25.2-cp311-cp311-win_amd64.whl.metadata (14 kB)\n",
      "Requirement already satisfied: numpy>=1.24 in c:\\users\\almch\\appdata\\local\\programs\\python\\python311\\lib\\site-packages (from scikit-image) (1.26.4)\n",
      "Requirement already satisfied: scipy>=1.11.4 in c:\\users\\almch\\appdata\\local\\programs\\python\\python311\\lib\\site-packages (from scikit-image) (1.11.4)\n",
      "Requirement already satisfied: networkx>=3.0 in c:\\users\\almch\\appdata\\local\\programs\\python\\python311\\lib\\site-packages (from scikit-image) (3.1)\n",
      "Requirement already satisfied: pillow>=10.1 in c:\\users\\almch\\appdata\\local\\programs\\python\\python311\\lib\\site-packages (from scikit-image) (10.2.0)\n",
      "Collecting imageio!=2.35.0,>=2.33 (from scikit-image)\n",
      "  Downloading imageio-2.37.0-py3-none-any.whl.metadata (5.2 kB)\n",
      "Collecting tifffile>=2022.8.12 (from scikit-image)\n",
      "  Downloading tifffile-2025.3.30-py3-none-any.whl.metadata (32 kB)\n",
      "Requirement already satisfied: packaging>=21 in c:\\users\\almch\\appdata\\local\\programs\\python\\python311\\lib\\site-packages (from scikit-image) (24.2)\n",
      "Collecting lazy-loader>=0.4 (from scikit-image)\n",
      "  Downloading lazy_loader-0.4-py3-none-any.whl.metadata (7.6 kB)\n",
      "Downloading scikit_image-0.25.2-cp311-cp311-win_amd64.whl (12.8 MB)\n",
      "   ---------------------------------------- 0.0/12.8 MB ? eta -:--:--\n",
      "   ------------------------------- -------- 10.0/12.8 MB 51.6 MB/s eta 0:00:01\n",
      "   ---------------------------------------- 12.8/12.8 MB 47.1 MB/s eta 0:00:00\n",
      "Downloading imageio-2.37.0-py3-none-any.whl (315 kB)\n",
      "Downloading lazy_loader-0.4-py3-none-any.whl (12 kB)\n",
      "Downloading tifffile-2025.3.30-py3-none-any.whl (226 kB)\n",
      "Installing collected packages: tifffile, lazy-loader, imageio, scikit-image\n",
      "Successfully installed imageio-2.37.0 lazy-loader-0.4 scikit-image-0.25.2 tifffile-2025.3.30\n"
     ]
    },
    {
     "name": "stderr",
     "output_type": "stream",
     "text": [
      "\n",
      "[notice] A new release of pip is available: 25.0 -> 25.1\n",
      "[notice] To update, run: python.exe -m pip install --upgrade pip\n"
     ]
    }
   ],
   "source": [
    "!pip install scikit-image"
   ]
  },
  {
   "cell_type": "code",
   "execution_count": 49,
   "metadata": {},
   "outputs": [],
   "source": [
    "from skimage.color import rgb2hsv, hsv2rgb\n",
    "import numpy as np\n",
    "\n",
    "def modify_saturation(test_data):\n",
    "    # test_data: shape (num_images, 3, 32, 32)\n",
    "    modified_images = []\n",
    "\n",
    "    for img in test_data:\n",
    "        # img has shape (3, 32, 32), convert to (32, 32, 3)\n",
    "        img = np.transpose(img, (1, 2, 0))\n",
    "        \n",
    "        hsv_img = rgb2hsv(img)\n",
    "        \n",
    "        # Random factor between 0.75 and 1.25\n",
    "        factor = np.random.uniform(0.75, 1.25)\n",
    "        \n",
    "        hsv_img[:, :, 1] *= factor  # modify the saturation channel\n",
    "        hsv_img[:, :, 1] = np.clip(hsv_img[:, :, 1], 0, 1)  # ensure it stays in [0,1]\n",
    "        \n",
    "        modified_rgb = hsv2rgb(hsv_img)\n",
    "        \n",
    "        # Clip to [0,1] after transformation\n",
    "        modified_rgb = np.clip(modified_rgb, 0, 1)\n",
    "        \n",
    "        # Transpose back to (3, 32, 32)\n",
    "        modified_rgb = np.transpose(modified_rgb, (2, 0, 1))\n",
    "        \n",
    "        modified_images.append(modified_rgb)\n",
    "    \n",
    "    modified_images = np.stack(modified_images, axis=0).astype(np.float32)\n",
    "    return modified_images\n"
   ]
  },
  {
   "cell_type": "code",
   "execution_count": 50,
   "metadata": {},
   "outputs": [
    {
     "data": {
      "image/png": "[encoded data removed]",
      "text/plain": [
       "<Figure size 1500x300 with 5 Axes>"
      ]
     },
     "metadata": {},
     "output_type": "display_data"
    }
   ],
   "source": [
    "modified_test_data = modify_saturation(test[0])\n",
    "\n",
    "# Pick 5 random examples\n",
    "indices = np.random.choice(len(modified_test_data), size=5, replace=False)\n",
    "\n",
    "fig, axes = plt.subplots(1, 5, figsize=(15,3))\n",
    "for i, idx in enumerate(indices):\n",
    "    img = np.transpose(modified_test_data[idx], (1, 2, 0))\n",
    "    axes[i].imshow(img)\n",
    "    axes[i].axis('off')\n",
    "plt.suptitle('CIFAR Test Images with Randomized Saturation')\n",
    "plt.show()"
   ]
  },
  {
   "cell_type": "code",
   "execution_count": 51,
   "metadata": {},
   "outputs": [
    {
     "name": "stdout",
     "output_type": "stream",
     "text": [
      "Testing on saturation modified test set:\n",
      "\n",
      "Test set: Avg. loss: 0.0036, Accuracy: 6928/10000 (69%)\n",
      "\n",
      "\n",
      "Test set: Avg. loss: 0.0036, Accuracy: 6928/10000 (69%)\n",
      "\n"
     ]
    },
    {
     "data": {
      "text/plain": [
       "0.30720000000000003"
      ]
     },
     "execution_count": 51,
     "metadata": {},
     "output_type": "execute_result"
    }
   ],
   "source": [
    "modified_test = (modified_test_data, test[1])\n",
    "\n",
    "# Evaluate\n",
    "print('Testing on saturation modified test set:')\n",
    "net_test(net, modified_test, batch_size=batch_size, ttype=\"test\", device=device)"
   ]
  },
  {
   "cell_type": "markdown",
   "metadata": {},
   "source": [
    "We indeed see that the model achieves similar performance and appears to be relatively robust to the color changes we've imposed"
   ]
  },
  {
   "cell_type": "code",
   "execution_count": null,
   "metadata": {},
   "outputs": [],
   "source": []
  },
  {
   "cell_type": "code",
   "execution_count": null,
   "metadata": {},
   "outputs": [],
   "source": []
  },
  {
   "cell_type": "markdown",
   "metadata": {
    "id": "_h8eVowP6Rpv"
   },
   "source": [
    "# Reload the model that was saved and continue training"
   ]
  },
  {
   "cell_type": "code",
   "execution_count": 12,
   "metadata": {
    "id": "I0p33S8b6Rpw"
   },
   "outputs": [
    {
     "name": "stdout",
     "output_type": "stream",
     "text": [
      "After conv1 torch.Size([1, 32, 12, 12])\n",
      "After conv2 torch.Size([1, 64, 4, 4])\n",
      "Dimension before first fully connected 1024\n"
     ]
    },
    {
     "ename": "FileNotFoundError",
     "evalue": "[Errno 2] No such file or directory: 'datamnist/MNIST_data.npy'",
     "output_type": "error",
     "traceback": [
      "\u001b[1;31m---------------------------------------------------------------------------\u001b[0m",
      "\u001b[1;31mFileNotFoundError\u001b[0m                         Traceback (most recent call last)",
      "Cell \u001b[1;32mIn[12], line 17\u001b[0m\n\u001b[0;32m     14\u001b[0m net \u001b[38;5;241m=\u001b[39m MNIST_Net(ks\u001b[38;5;241m=\u001b[39m\u001b[38;5;241m5\u001b[39m,p \u001b[38;5;241m=\u001b[39m dropout_p, minimizer\u001b[38;5;241m=\u001b[39mminimizer)\n\u001b[0;32m     15\u001b[0m net\u001b[38;5;241m.\u001b[39mto(device)\n\u001b[1;32m---> 17\u001b[0m train,val,test\u001b[38;5;241m=\u001b[39m\u001b[43mget_data\u001b[49m\u001b[43m(\u001b[49m\u001b[43mdata_set\u001b[49m\u001b[38;5;241;43m=\u001b[39;49m\u001b[43mdata_set\u001b[49m\u001b[43m)\u001b[49m\n\u001b[0;32m     19\u001b[0m state_dict \u001b[38;5;241m=\u001b[39m torch\u001b[38;5;241m.\u001b[39mload(predir\u001b[38;5;241m+\u001b[39mmodel_name, map_location \u001b[38;5;241m=\u001b[39m device)\n\u001b[0;32m     20\u001b[0m net\u001b[38;5;241m.\u001b[39mload_state_dict(state_dict)\n",
      "Cell \u001b[1;32mIn[6], line 3\u001b[0m, in \u001b[0;36mget_data\u001b[1;34m(data_set)\u001b[0m\n\u001b[0;32m      1\u001b[0m \u001b[38;5;28;01mdef\u001b[39;00m \u001b[38;5;21mget_data\u001b[39m(data_set):\n\u001b[0;32m      2\u001b[0m     \u001b[38;5;28;01mif\u001b[39;00m (data_set\u001b[38;5;241m==\u001b[39m\u001b[38;5;124m\"\u001b[39m\u001b[38;5;124mmnist\u001b[39m\u001b[38;5;124m\"\u001b[39m):\n\u001b[1;32m----> 3\u001b[0m         \u001b[38;5;28;01mreturn\u001b[39;00m(\u001b[43mget_mnist\u001b[49m\u001b[43m(\u001b[49m\u001b[43m)\u001b[49m)\n\u001b[0;32m      4\u001b[0m     \u001b[38;5;28;01mif\u001b[39;00m (data_set\u001b[38;5;241m==\u001b[39m\u001b[38;5;124m\"\u001b[39m\u001b[38;5;124mcifar\u001b[39m\u001b[38;5;124m\"\u001b[39m):\n\u001b[0;32m      5\u001b[0m         \u001b[38;5;28;01mreturn\u001b[39;00m(get_cifar())\n",
      "Cell \u001b[1;32mIn[3], line 4\u001b[0m, in \u001b[0;36mget_mnist\u001b[1;34m()\u001b[0m\n\u001b[0;32m      1\u001b[0m \u001b[38;5;28;01mdef\u001b[39;00m \u001b[38;5;21mget_mnist\u001b[39m():\n\u001b[1;32m----> 4\u001b[0m     data\u001b[38;5;241m=\u001b[39mnp\u001b[38;5;241m.\u001b[39mfloat64(\u001b[43mnp\u001b[49m\u001b[38;5;241;43m.\u001b[39;49m\u001b[43mload\u001b[49m\u001b[43m(\u001b[49m\u001b[43mdatadir\u001b[49m\u001b[38;5;241;43m+\u001b[39;49m\u001b[38;5;124;43m'\u001b[39;49m\u001b[38;5;124;43mmnist/MNIST_data.npy\u001b[39;49m\u001b[38;5;124;43m'\u001b[39;49m\u001b[43m)\u001b[49m)\n\u001b[0;32m      5\u001b[0m     labels\u001b[38;5;241m=\u001b[39mnp\u001b[38;5;241m.\u001b[39mfloat32(np\u001b[38;5;241m.\u001b[39mload(datadir\u001b[38;5;241m+\u001b[39m\u001b[38;5;124m'\u001b[39m\u001b[38;5;124mmnist/MNIST_labels.npy\u001b[39m\u001b[38;5;124m'\u001b[39m))\n\u001b[0;32m      6\u001b[0m     \u001b[38;5;28mprint\u001b[39m(\u001b[38;5;124m'\u001b[39m\u001b[38;5;124mMnist data shape\u001b[39m\u001b[38;5;124m'\u001b[39m,data\u001b[38;5;241m.\u001b[39mshape)\n",
      "File \u001b[1;32m~\\AppData\\Local\\Programs\\Python\\Python311\\Lib\\site-packages\\numpy\\lib\\npyio.py:427\u001b[0m, in \u001b[0;36mload\u001b[1;34m(file, mmap_mode, allow_pickle, fix_imports, encoding, max_header_size)\u001b[0m\n\u001b[0;32m    425\u001b[0m     own_fid \u001b[38;5;241m=\u001b[39m \u001b[38;5;28;01mFalse\u001b[39;00m\n\u001b[0;32m    426\u001b[0m \u001b[38;5;28;01melse\u001b[39;00m:\n\u001b[1;32m--> 427\u001b[0m     fid \u001b[38;5;241m=\u001b[39m stack\u001b[38;5;241m.\u001b[39menter_context(\u001b[38;5;28;43mopen\u001b[39;49m\u001b[43m(\u001b[49m\u001b[43mos_fspath\u001b[49m\u001b[43m(\u001b[49m\u001b[43mfile\u001b[49m\u001b[43m)\u001b[49m\u001b[43m,\u001b[49m\u001b[43m \u001b[49m\u001b[38;5;124;43m\"\u001b[39;49m\u001b[38;5;124;43mrb\u001b[39;49m\u001b[38;5;124;43m\"\u001b[39;49m\u001b[43m)\u001b[49m)\n\u001b[0;32m    428\u001b[0m     own_fid \u001b[38;5;241m=\u001b[39m \u001b[38;5;28;01mTrue\u001b[39;00m\n\u001b[0;32m    430\u001b[0m \u001b[38;5;66;03m# Code to distinguish from NumPy binary files and pickles.\u001b[39;00m\n",
      "\u001b[1;31mFileNotFoundError\u001b[0m: [Errno 2] No such file or directory: 'datamnist/MNIST_data.npy'"
     ]
    }
   ],
   "source": [
    "batch_size=500\n",
    "step_size=.001\n",
    "num_epochs=2\n",
    "minimizer=\"Adam\"\n",
    "data_set=\"mnist\"\n",
    "model_name=\"model\"\n",
    "new_model_name = 'model'\n",
    "dropout_p =0.\n",
    "use_gpu=True\n",
    "\n",
    "# use GPU when possible\n",
    "device = 'cuda:0' if torch.cuda.is_available() and use_gpu else 'cpu'\n",
    "\n",
    "net = MNIST_Net(ks=5,p = dropout_p, minimizer=minimizer)\n",
    "net.to(device)\n",
    "\n",
    "train,val,test=get_data(data_set=data_set)\n",
    "\n",
    "state_dict = torch.load(predir+model_name, map_location = device)\n",
    "net.load_state_dict(state_dict)\n",
    "\n",
    "for i in range(num_epochs):\n",
    "   run_epoch(net,i,train,batch_size, num=numtrain, ttype=\"train\")\n",
    "\n",
    "torch.save(net.state_dict(), predir+new_model_name)"
   ]
  },
  {
   "cell_type": "code",
   "execution_count": null,
   "metadata": {},
   "outputs": [],
   "source": []
  }
 ],
 "metadata": {
  "accelerator": "GPU",
  "colab": {
   "gpuType": "A100",
   "machine_shape": "hm",
   "provenance": []
  },
  "kernelspec": {
   "display_name": "Python 3 (ipykernel)",
   "language": "python",
   "name": "python3"
  },
  "language_info": {
   "codemirror_mode": {
    "name": "ipython",
    "version": 3
   },
   "file_extension": ".py",
   "mimetype": "text/x-python",
   "name": "python",
   "nbconvert_exporter": "python",
   "pygments_lexer": "ipython3",
   "version": "3.11.2"
  }
 },
 "nbformat": 4,
 "nbformat_minor": 1
}
