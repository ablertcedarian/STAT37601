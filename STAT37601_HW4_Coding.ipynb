{
 "cells": [
  {
   "cell_type": "code",
   "execution_count": 9,
   "id": "2c6d3756",
   "metadata": {},
   "outputs": [],
   "source": [
    "import numpy as np\n",
    "from sklearn.model_selection import train_test_split\n",
    "import matplotlib.pyplot as plt"
   ]
  },
  {
   "cell_type": "code",
   "execution_count": 10,
   "id": "424b62cf",
   "metadata": {},
   "outputs": [],
   "source": [
    "mnist_data = np.load('data/MNIST_data.npy')\n",
    "mnist_labels = np.load('data/MNIST_labels.npy')\n",
    "\n",
    "# Normalize as in hw3\n",
    "mnist_data = mnist_data / 255"
   ]
  },
  {
   "cell_type": "markdown",
   "id": "2be44efd",
   "metadata": {},
   "source": [
    "# Bayes' Rule with Bernoulli Mixtures"
   ]
  },
  {
   "cell_type": "code",
   "execution_count": 13,
   "id": "dd699e51",
   "metadata": {},
   "outputs": [
    {
     "name": "stdout",
     "output_type": "stream",
     "text": [
      "Training set size: (42000, 784)\n",
      "Development set size: (14000, 784)\n",
      "Test set size: (14000, 784)\n"
     ]
    }
   ],
   "source": [
    "# Binarize as in hw3 \n",
    "mnist_data_bin = (mnist_data >= 0.5).astype(float)\n",
    "\n",
    "# Split the data\n",
    "X_train, X_temp, y_train, y_temp = train_test_split(mnist_data_bin, mnist_labels, test_size=0.4, random_state=42, stratify=mnist_labels)\n",
    "X_dev, X_test, y_dev, y_test = train_test_split(X_temp, y_temp, test_size=0.5, random_state=42, stratify=y_temp)\n",
    "print(f\"Training set size: {X_train.shape}\")\n",
    "print(f\"Development set size: {X_dev.shape}\")\n",
    "print(f\"Test set size: {X_test.shape}\")"
   ]
  },
  {
   "cell_type": "code",
   "execution_count": 16,
   "id": "9b9a5d3d",
   "metadata": {},
   "outputs": [],
   "source": [
    "# EM implementation from HW3\n",
    "def em_bernoulli_mixture(X, M, max_iter=100, tol=1e-4):\n",
    "    \"\"\"\n",
    "    EM for a mixture of Bernoulli distributions.\n",
    "\n",
    "    Parameters:\n",
    "        X       : (N, d) binarized data matrix (assumed to be float32).\n",
    "        M       : Number of mixture components.\n",
    "        max_iter: Maximum number of iterations.\n",
    "        tol     : Tolerance for convergence (change in log-likelihood).\n",
    "\n",
    "    Returns:\n",
    "        pi              : (M,) mixing weights.\n",
    "        p               : (M, d) matrix of per-pixel probabilities.\n",
    "        responsibilities: (N, M) matrix with responsibility values.\n",
    "        log_likelihoods : List of log-likelihood values per iteration.\n",
    "    \"\"\"\n",
    "    N, d = X.shape\n",
    "    # Initialize responsibilities randomly (float32)\n",
    "    w = np.random.rand(N, M).astype(np.float32)\n",
    "    w = w / w.sum(axis=1, keepdims=True)\n",
    "\n",
    "    log_likelihoods = []\n",
    "\n",
    "    for iteration in range(max_iter):\n",
    "        # M-Step: Update mixing weights and component parameters.\n",
    "        pi = w.sum(axis=0) / N  # shape (M,)\n",
    "        # Update p with Laplace smoothing.\n",
    "        p = (w.T.dot(X) + 1.0) / (w.sum(axis=0)[:, None] + 2.0)  # shape (M, d)\n",
    "\n",
    "        # E-Step: Compute log probabilities.\n",
    "        log_prob = X.dot(np.log(p.T + 1e-10)) + (1 - X).dot(np.log((1 - p).T + 1e-10))\n",
    "        log_prob += np.log(pi + 1e-10)  # shape (N, M)\n",
    "\n",
    "        # Stabilize the computation\n",
    "        log_prob_max = np.max(log_prob, axis=1, keepdims=True)\n",
    "        log_prob_stable = np.exp(log_prob - log_prob_max)\n",
    "        sum_prob = log_prob_stable.sum(axis=1, keepdims=True)\n",
    "        w = log_prob_stable / sum_prob  # Updated responsibilities\n",
    "\n",
    "        # Compute current log likelihood\n",
    "        current_log_likelihood = np.sum(np.log(sum_prob) + log_prob_max.ravel())\n",
    "        log_likelihoods.append(current_log_likelihood)\n",
    "\n",
    "        if iteration % 10 == 0:\n",
    "            print(f\"Iteration {iteration}: log-likelihood = {current_log_likelihood:.2f}\")\n",
    "        if iteration > 0 and abs(log_likelihoods[-1] - log_likelihoods[-2]) < tol:\n",
    "            print(f\"Converged at iteration {iteration}.\")\n",
    "            break\n",
    "\n",
    "    return pi, p, w, log_likelihoods"
   ]
  },
  {
   "cell_type": "code",
   "execution_count": 17,
   "id": "cac13716",
   "metadata": {},
   "outputs": [],
   "source": [
    "# A Class to help clean things up \n",
    "class BernoulliMixtureModel:\n",
    "    def __init__(self, n_components):\n",
    "        self.n_components = n_components\n",
    "        self.weights = None\n",
    "        self.means = None\n",
    "\n",
    "    def fit(self, X):\n",
    "        if self.n_components == 1:\n",
    "            self.weights = np.array([1.0])\n",
    "            self.means = np.mean(X, axis=0, keepdims=True)\n",
    "        else:\n",
    "            self.weights, self.means, _, _ = em_bernoulli_mixture(X, self.n_components)\n",
    "\n",
    "    def predict_proba(self, X):\n",
    "        if self.n_components == 1:\n",
    "            log_likelihoods = np.sum(X * np.log(self.means + 1e-9) + (1 - X) * np.log(1 - self.means + 1e-9), axis=1)\n",
    "            return np.exp(log_likelihoods)\n",
    "        else:\n",
    "            log_likelihoods = np.array([\n",
    "                np.sum(X * np.log(self.means[i] + 1e-9) + (1 - X) * np.log(1 - self.means[i] + 1e-9), axis=1)\n",
    "                for i in range(self.n_components)\n",
    "            ]).T\n",
    "            return np.sum(self.weights * np.exp(log_likelihoods), axis=1)"
   ]
  },
  {
   "cell_type": "code",
   "execution_count": 18,
   "id": "e9b12c57",
   "metadata": {},
   "outputs": [
    {
     "name": "stdout",
     "output_type": "stream",
     "text": [
      "\n",
      "Training models for M = 1\n",
      "Development set accuracy for M = 1: 0.8413\n",
      "\n",
      "Training models for M = 5\n",
      "Iteration 0: log-likelihood = -3405593797.12\n",
      "Iteration 10: log-likelihood = -2766818570.95\n",
      "Iteration 20: log-likelihood = -2760211501.35\n",
      "Iteration 30: log-likelihood = -2757402109.74\n",
      "Iteration 40: log-likelihood = -2751869109.22\n",
      "Iteration 50: log-likelihood = -2748775854.25\n",
      "Iteration 60: log-likelihood = -2748326864.75\n",
      "Iteration 70: log-likelihood = -2748078998.09\n",
      "Iteration 80: log-likelihood = -2747737138.33\n",
      "Iteration 90: log-likelihood = -2746985625.47\n",
      "Iteration 0: log-likelihood = -2123074049.91\n",
      "Iteration 10: log-likelihood = -1368448652.76\n",
      "Iteration 20: log-likelihood = -1360362419.44\n",
      "Iteration 30: log-likelihood = -1358543239.67\n",
      "Iteration 40: log-likelihood = -1358494103.02\n",
      "Iteration 50: log-likelihood = -1358494753.64\n",
      "Iteration 60: log-likelihood = -1358494847.57\n",
      "Iteration 70: log-likelihood = -1358494853.59\n",
      "Iteration 80: log-likelihood = -1358494853.93\n",
      "Iteration 90: log-likelihood = -1358494853.94\n",
      "Converged at iteration 95.\n",
      "Iteration 0: log-likelihood = -3543739250.62\n",
      "Iteration 10: log-likelihood = -3081012277.65\n",
      "Iteration 20: log-likelihood = -3078026375.52\n",
      "Iteration 30: log-likelihood = -3077758854.34\n",
      "Iteration 40: log-likelihood = -3077716176.96\n",
      "Iteration 50: log-likelihood = -3077699565.08\n",
      "Iteration 60: log-likelihood = -3077698362.57\n",
      "Iteration 70: log-likelihood = -3077697781.74\n",
      "Iteration 80: log-likelihood = -3077697611.70\n",
      "Iteration 90: log-likelihood = -3077697544.27\n",
      "Iteration 0: log-likelihood = -3386344601.70\n",
      "Iteration 10: log-likelihood = -2913496814.75\n",
      "Iteration 20: log-likelihood = -2913158719.21\n",
      "Iteration 30: log-likelihood = -2913089563.56\n",
      "Iteration 40: log-likelihood = -2913064882.86\n",
      "Iteration 50: log-likelihood = -2913059637.27\n",
      "Iteration 60: log-likelihood = -2913056678.05\n",
      "Iteration 70: log-likelihood = -2913047887.67\n",
      "Iteration 80: log-likelihood = -2912994753.37\n",
      "Iteration 90: log-likelihood = -2912863007.77\n",
      "Iteration 0: log-likelihood = -2860463534.49\n",
      "Iteration 10: log-likelihood = -2410327146.52\n",
      "Iteration 20: log-likelihood = -2404315524.78\n",
      "Iteration 30: log-likelihood = -2403792114.85\n",
      "Iteration 40: log-likelihood = -2403713480.23\n",
      "Iteration 50: log-likelihood = -2403707492.27\n",
      "Iteration 60: log-likelihood = -2403706458.36\n",
      "Iteration 70: log-likelihood = -2403705307.88\n",
      "Iteration 80: log-likelihood = -2403676885.54\n",
      "Iteration 90: log-likelihood = -2403672465.85\n",
      "Iteration 0: log-likelihood = -2764187909.33\n",
      "Iteration 10: log-likelihood = -2256430279.66\n",
      "Iteration 20: log-likelihood = -2255531112.36\n",
      "Iteration 30: log-likelihood = -2255265063.95\n",
      "Iteration 40: log-likelihood = -2255241130.96\n",
      "Iteration 50: log-likelihood = -2255239854.42\n",
      "Iteration 60: log-likelihood = -2255239780.89\n",
      "Iteration 70: log-likelihood = -2255239764.61\n",
      "Iteration 80: log-likelihood = -2255239760.39\n",
      "Iteration 90: log-likelihood = -2255239759.26\n",
      "Iteration 0: log-likelihood = -2997831712.07\n",
      "Iteration 10: log-likelihood = -2413471770.85\n",
      "Iteration 20: log-likelihood = -2397931244.06\n",
      "Iteration 30: log-likelihood = -2396192648.02\n",
      "Iteration 40: log-likelihood = -2395568936.83\n",
      "Iteration 50: log-likelihood = -2394143106.37\n",
      "Iteration 60: log-likelihood = -2393711235.83\n",
      "Iteration 70: log-likelihood = -2393490626.40\n",
      "Iteration 80: log-likelihood = -2393377219.36\n",
      "Iteration 90: log-likelihood = -2393366230.30\n",
      "Iteration 0: log-likelihood = -2970973298.72\n",
      "Iteration 10: log-likelihood = -2418297635.91\n",
      "Iteration 20: log-likelihood = -2406443081.56\n",
      "Iteration 30: log-likelihood = -2398666164.02\n",
      "Iteration 40: log-likelihood = -2397954374.68\n",
      "Iteration 50: log-likelihood = -2397860640.22\n",
      "Iteration 60: log-likelihood = -2397856447.28\n",
      "Iteration 70: log-likelihood = -2397852290.72\n",
      "Iteration 80: log-likelihood = -2397846112.86\n",
      "Iteration 90: log-likelihood = -2397841442.91\n",
      "Iteration 0: log-likelihood = -3141104231.68\n",
      "Iteration 10: log-likelihood = -2718648378.27\n",
      "Iteration 20: log-likelihood = -2716454948.18\n",
      "Iteration 30: log-likelihood = -2715308620.12\n",
      "Iteration 40: log-likelihood = -2714934067.80\n",
      "Iteration 50: log-likelihood = -2714777209.85\n",
      "Iteration 60: log-likelihood = -2714330486.48\n",
      "Iteration 70: log-likelihood = -2714177687.89\n",
      "Iteration 80: log-likelihood = -2714188606.87\n",
      "Iteration 90: log-likelihood = -2714193018.25\n",
      "Iteration 0: log-likelihood = -2804647976.32\n",
      "Iteration 10: log-likelihood = -2258285931.91\n",
      "Iteration 20: log-likelihood = -2256571710.73\n",
      "Iteration 30: log-likelihood = -2256436938.87\n",
      "Iteration 40: log-likelihood = -2256296653.29\n",
      "Iteration 50: log-likelihood = -2256278536.76\n",
      "Iteration 60: log-likelihood = -2256272706.77\n",
      "Iteration 70: log-likelihood = -2256270863.18\n",
      "Iteration 80: log-likelihood = -2256270320.16\n",
      "Iteration 90: log-likelihood = -2256270156.65\n",
      "Development set accuracy for M = 5: 0.9089\n",
      "\n",
      "Training models for M = 10\n",
      "Iteration 0: log-likelihood = -3412079780.57\n",
      "Iteration 10: log-likelihood = -2566468169.47\n",
      "Iteration 20: log-likelihood = -2544336722.25\n",
      "Iteration 30: log-likelihood = -2539640068.22\n",
      "Iteration 40: log-likelihood = -2538927625.89\n",
      "Iteration 50: log-likelihood = -2538831983.46\n",
      "Iteration 60: log-likelihood = -2538746313.84\n",
      "Iteration 70: log-likelihood = -2538501922.79\n",
      "Iteration 80: log-likelihood = -2538474639.49\n",
      "Iteration 90: log-likelihood = -2538473745.39\n",
      "Iteration 0: log-likelihood = -2132738234.07\n",
      "Iteration 10: log-likelihood = -1220502428.73\n",
      "Iteration 20: log-likelihood = -1215238462.17\n",
      "Iteration 30: log-likelihood = -1214124325.63\n",
      "Iteration 40: log-likelihood = -1214167250.15\n",
      "Iteration 50: log-likelihood = -1214152824.69\n",
      "Iteration 60: log-likelihood = -1214044448.71\n",
      "Iteration 70: log-likelihood = -1213583257.60\n",
      "Iteration 80: log-likelihood = -1212565508.85\n",
      "Iteration 90: log-likelihood = -1212382131.73\n",
      "Iteration 0: log-likelihood = -3549380857.17\n",
      "Iteration 10: log-likelihood = -2919045825.67\n",
      "Iteration 20: log-likelihood = -2913871144.14\n",
      "Iteration 30: log-likelihood = -2912753796.46\n",
      "Iteration 40: log-likelihood = -2909371970.09\n",
      "Iteration 50: log-likelihood = -2908569232.86\n",
      "Iteration 60: log-likelihood = -2907942763.61\n",
      "Iteration 70: log-likelihood = -2907529915.20\n",
      "Iteration 80: log-likelihood = -2907240763.76\n",
      "Iteration 90: log-likelihood = -2907072482.69\n",
      "Iteration 0: log-likelihood = -3392252791.58\n",
      "Iteration 10: log-likelihood = -2752719384.58\n",
      "Iteration 20: log-likelihood = -2745744501.02\n",
      "Iteration 30: log-likelihood = -2742612833.07\n",
      "Iteration 40: log-likelihood = -2740822937.53\n",
      "Iteration 50: log-likelihood = -2740113075.58\n",
      "Iteration 60: log-likelihood = -2739784133.98\n",
      "Iteration 70: log-likelihood = -2739560905.63\n",
      "Iteration 80: log-likelihood = -2739493931.49\n",
      "Iteration 90: log-likelihood = -2739482456.76\n",
      "Iteration 0: log-likelihood = -2866495790.06\n",
      "Iteration 10: log-likelihood = -2261552112.18\n",
      "Iteration 20: log-likelihood = -2255512103.43\n",
      "Iteration 30: log-likelihood = -2254671540.30\n",
      "Iteration 40: log-likelihood = -2254482945.65\n",
      "Iteration 50: log-likelihood = -2252955128.34\n",
      "Iteration 60: log-likelihood = -2251710049.17\n",
      "Iteration 70: log-likelihood = -2251018577.40\n",
      "Iteration 80: log-likelihood = -2250363253.19\n",
      "Iteration 90: log-likelihood = -2249955338.46\n",
      "Iteration 0: log-likelihood = -2769740906.37\n",
      "Iteration 10: log-likelihood = -2145654854.29\n",
      "Iteration 20: log-likelihood = -2137521294.45\n",
      "Iteration 30: log-likelihood = -2130689914.10\n",
      "Iteration 40: log-likelihood = -2127331835.90\n",
      "Iteration 50: log-likelihood = -2126153875.46\n",
      "Iteration 60: log-likelihood = -2125350049.17\n",
      "Iteration 70: log-likelihood = -2124684262.21\n",
      "Iteration 80: log-likelihood = -2124073379.83\n",
      "Iteration 90: log-likelihood = -2123905181.05\n",
      "Iteration 0: log-likelihood = -3003646717.64\n",
      "Iteration 10: log-likelihood = -2262774243.89\n",
      "Iteration 20: log-likelihood = -2259169637.29\n",
      "Iteration 30: log-likelihood = -2243880567.74\n",
      "Iteration 40: log-likelihood = -2238342845.53\n",
      "Iteration 50: log-likelihood = -2237149857.71\n",
      "Iteration 60: log-likelihood = -2236643433.59\n",
      "Iteration 70: log-likelihood = -2235736340.13\n",
      "Iteration 80: log-likelihood = -2235357204.95\n",
      "Iteration 90: log-likelihood = -2235106635.07\n",
      "Iteration 0: log-likelihood = -2977680850.43\n",
      "Iteration 10: log-likelihood = -2232629913.67\n",
      "Iteration 20: log-likelihood = -2221896245.75\n",
      "Iteration 30: log-likelihood = -2218014861.39\n",
      "Iteration 40: log-likelihood = -2215537839.92\n"
     ]
    },
    {
     "name": "stdout",
     "output_type": "stream",
     "text": [
      "Iteration 50: log-likelihood = -2213351819.33\n",
      "Iteration 60: log-likelihood = -2212417143.65\n",
      "Iteration 70: log-likelihood = -2212325686.65\n",
      "Iteration 80: log-likelihood = -2212284728.79\n",
      "Iteration 90: log-likelihood = -2212258614.25\n",
      "Iteration 0: log-likelihood = -3148476528.52\n",
      "Iteration 10: log-likelihood = -2600483140.27\n",
      "Iteration 20: log-likelihood = -2591930814.47\n",
      "Iteration 30: log-likelihood = -2586381734.50\n",
      "Iteration 40: log-likelihood = -2583357231.41\n",
      "Iteration 50: log-likelihood = -2581818332.86\n",
      "Iteration 60: log-likelihood = -2581541692.42\n",
      "Iteration 70: log-likelihood = -2581256483.84\n",
      "Iteration 80: log-likelihood = -2581075783.21\n",
      "Iteration 90: log-likelihood = -2580838189.39\n",
      "Iteration 0: log-likelihood = -2811358169.17\n",
      "Iteration 10: log-likelihood = -2143211812.30\n",
      "Iteration 20: log-likelihood = -2117089533.49\n",
      "Iteration 30: log-likelihood = -2113935508.13\n",
      "Iteration 40: log-likelihood = -2112673805.97\n",
      "Iteration 50: log-likelihood = -2112467884.35\n",
      "Iteration 60: log-likelihood = -2112408282.69\n",
      "Iteration 70: log-likelihood = -2112284627.04\n",
      "Iteration 80: log-likelihood = -2112019931.18\n",
      "Iteration 90: log-likelihood = -2111909532.17\n",
      "Development set accuracy for M = 10: 0.9306\n",
      "\n",
      "Training models for M = 20\n",
      "Iteration 0: log-likelihood = -3428358222.96\n",
      "Iteration 10: log-likelihood = -2418219006.78\n",
      "Iteration 20: log-likelihood = -2410319468.16\n",
      "Iteration 30: log-likelihood = -2405909788.49\n",
      "Iteration 40: log-likelihood = -2404139997.33\n",
      "Iteration 50: log-likelihood = -2403674646.04\n",
      "Iteration 60: log-likelihood = -2403492554.77\n",
      "Iteration 70: log-likelihood = -2403381241.64\n",
      "Iteration 80: log-likelihood = -2403347132.59\n",
      "Iteration 90: log-likelihood = -2403339403.41\n",
      "Iteration 0: log-likelihood = -2156819048.97\n",
      "Iteration 10: log-likelihood = -1244766004.98\n",
      "Iteration 20: log-likelihood = -1229311104.15\n",
      "Iteration 30: log-likelihood = -1226898534.80\n",
      "Iteration 40: log-likelihood = -1226571032.13\n",
      "Iteration 50: log-likelihood = -1226581225.81\n",
      "Iteration 60: log-likelihood = -1226590398.52\n",
      "Iteration 70: log-likelihood = -1226593776.47\n",
      "Iteration 80: log-likelihood = -1226594899.44\n",
      "Iteration 90: log-likelihood = -1226595260.07\n",
      "Iteration 0: log-likelihood = -3562316948.84\n",
      "Iteration 10: log-likelihood = -2794321896.09\n",
      "Iteration 20: log-likelihood = -2787019406.91\n",
      "Iteration 30: log-likelihood = -2783866042.35\n",
      "Iteration 40: log-likelihood = -2781253712.05\n",
      "Iteration 50: log-likelihood = -2778617348.03\n",
      "Iteration 60: log-likelihood = -2777330385.43\n",
      "Iteration 70: log-likelihood = -2776127512.95\n",
      "Iteration 80: log-likelihood = -2774731450.08\n",
      "Iteration 90: log-likelihood = -2773738360.54\n",
      "Iteration 0: log-likelihood = -3407137647.54\n",
      "Iteration 10: log-likelihood = -2638138037.80\n",
      "Iteration 20: log-likelihood = -2628347328.12\n",
      "Iteration 30: log-likelihood = -2622798109.24\n",
      "Iteration 40: log-likelihood = -2620178252.57\n",
      "Iteration 50: log-likelihood = -2618748253.88\n",
      "Iteration 60: log-likelihood = -2617255011.14\n",
      "Iteration 70: log-likelihood = -2616882867.11\n",
      "Iteration 80: log-likelihood = -2616435053.46\n",
      "Iteration 90: log-likelihood = -2616182507.38\n",
      "Iteration 0: log-likelihood = -2880518978.37\n",
      "Iteration 10: log-likelihood = -2158845764.03\n",
      "Iteration 20: log-likelihood = -2149882685.74\n",
      "Iteration 30: log-likelihood = -2146154883.48\n",
      "Iteration 40: log-likelihood = -2145394711.55\n",
      "Iteration 50: log-likelihood = -2144322791.15\n",
      "Iteration 60: log-likelihood = -2143711390.60\n",
      "Iteration 70: log-likelihood = -2143313466.96\n",
      "Iteration 80: log-likelihood = -2143154526.93\n",
      "Iteration 90: log-likelihood = -2143105542.05\n",
      "Iteration 0: log-likelihood = -2782046579.46\n",
      "Iteration 10: log-likelihood = -2069527122.33\n",
      "Iteration 20: log-likelihood = -2062579571.90\n",
      "Iteration 30: log-likelihood = -2059262960.23\n",
      "Iteration 40: log-likelihood = -2057985536.79\n",
      "Iteration 50: log-likelihood = -2057243954.40\n",
      "Iteration 60: log-likelihood = -2057064151.64\n",
      "Iteration 70: log-likelihood = -2057044690.95\n",
      "Iteration 80: log-likelihood = -2057029798.51\n",
      "Iteration 90: log-likelihood = -2057011280.47\n",
      "Iteration 0: log-likelihood = -3019192625.03\n",
      "Iteration 10: log-likelihood = -2171162083.69\n",
      "Iteration 20: log-likelihood = -2164555832.55\n",
      "Iteration 30: log-likelihood = -2163711872.61\n",
      "Iteration 40: log-likelihood = -2162871790.67\n",
      "Iteration 50: log-likelihood = -2162740588.93\n",
      "Iteration 60: log-likelihood = -2162530935.17\n",
      "Iteration 70: log-likelihood = -2162454411.22\n",
      "Iteration 80: log-likelihood = -2162435798.53\n",
      "Iteration 90: log-likelihood = -2162402112.11\n",
      "Iteration 0: log-likelihood = -2993696657.05\n",
      "Iteration 10: log-likelihood = -2121483653.06\n",
      "Iteration 20: log-likelihood = -2101642752.00\n",
      "Iteration 30: log-likelihood = -2097681679.50\n",
      "Iteration 40: log-likelihood = -2096918739.64\n",
      "Iteration 50: log-likelihood = -2096430637.20\n",
      "Iteration 60: log-likelihood = -2095541162.62\n",
      "Iteration 70: log-likelihood = -2095122328.93\n",
      "Iteration 80: log-likelihood = -2094995893.25\n",
      "Iteration 90: log-likelihood = -2094970228.11\n",
      "Iteration 0: log-likelihood = -3163454677.51\n",
      "Iteration 10: log-likelihood = -2498864583.97\n",
      "Iteration 20: log-likelihood = -2493129945.66\n",
      "Iteration 30: log-likelihood = -2490576685.73\n",
      "Iteration 40: log-likelihood = -2488894981.87\n",
      "Iteration 50: log-likelihood = -2488125496.96\n",
      "Iteration 60: log-likelihood = -2486859017.34\n",
      "Iteration 70: log-likelihood = -2485938230.38\n",
      "Iteration 80: log-likelihood = -2484761324.45\n",
      "Iteration 90: log-likelihood = -2484508877.39\n",
      "Iteration 0: log-likelihood = -2827433440.05\n",
      "Iteration 10: log-likelihood = -2035364030.56\n",
      "Iteration 20: log-likelihood = -2022777332.00\n",
      "Iteration 30: log-likelihood = -2020071115.27\n",
      "Iteration 40: log-likelihood = -2018056898.19\n",
      "Iteration 50: log-likelihood = -2016368451.85\n",
      "Iteration 60: log-likelihood = -2015820335.08\n",
      "Iteration 70: log-likelihood = -2015108715.50\n",
      "Iteration 80: log-likelihood = -2014985920.67\n",
      "Iteration 90: log-likelihood = -2014861070.72\n",
      "Development set accuracy for M = 20: 0.9405\n",
      "\n",
      "Optimal number of components (M) chosen based on the development set: 20\n",
      "\n",
      "Retraining models with M = 20 on combined training and development sets\n",
      "Iteration 0: log-likelihood = -6086449925.93\n",
      "Iteration 10: log-likelihood = -4304555675.43\n",
      "Iteration 20: log-likelihood = -4280843878.72\n",
      "Iteration 30: log-likelihood = -4274372416.07\n",
      "Iteration 40: log-likelihood = -4270451778.19\n",
      "Iteration 50: log-likelihood = -4267937387.19\n",
      "Iteration 60: log-likelihood = -4266109097.87\n",
      "Iteration 70: log-likelihood = -4265648467.61\n",
      "Iteration 80: log-likelihood = -4264212204.37\n",
      "Iteration 90: log-likelihood = -4263108176.77\n",
      "Iteration 0: log-likelihood = -3825604145.41\n",
      "Iteration 10: log-likelihood = -2080325149.74\n",
      "Iteration 20: log-likelihood = -2067141458.05\n",
      "Iteration 30: log-likelihood = -2062350102.19\n",
      "Iteration 40: log-likelihood = -2061082206.21\n",
      "Iteration 50: log-likelihood = -2060946363.33\n",
      "Iteration 60: log-likelihood = -2060785862.04\n",
      "Iteration 70: log-likelihood = -2060541542.19\n",
      "Iteration 80: log-likelihood = -2060066782.93\n",
      "Iteration 90: log-likelihood = -2059551624.05\n",
      "Iteration 0: log-likelihood = -6334102795.43\n",
      "Iteration 10: log-likelihood = -4977319273.97\n",
      "Iteration 20: log-likelihood = -4940886389.55\n",
      "Iteration 30: log-likelihood = -4933306579.45\n",
      "Iteration 40: log-likelihood = -4927580565.59\n",
      "Iteration 50: log-likelihood = -4923918832.18\n",
      "Iteration 60: log-likelihood = -4922640018.14\n",
      "Iteration 70: log-likelihood = -4921711585.76\n",
      "Iteration 80: log-likelihood = -4920763805.65\n",
      "Iteration 90: log-likelihood = -4919903544.88\n",
      "Iteration 0: log-likelihood = -6040085712.70\n",
      "Iteration 10: log-likelihood = -4679443197.24\n",
      "Iteration 20: log-likelihood = -4667578856.80\n",
      "Iteration 30: log-likelihood = -4662025316.90\n",
      "Iteration 40: log-likelihood = -4659270695.81\n",
      "Iteration 50: log-likelihood = -4656594199.15\n",
      "Iteration 60: log-likelihood = -4655817177.51\n",
      "Iteration 70: log-likelihood = -4655518922.63\n",
      "Iteration 80: log-likelihood = -4655365434.78\n",
      "Iteration 90: log-likelihood = -4655081776.99\n",
      "Iteration 0: log-likelihood = -5101345993.77\n",
      "Iteration 10: log-likelihood = -3811670219.43\n",
      "Iteration 20: log-likelihood = -3793903177.25\n",
      "Iteration 30: log-likelihood = -3787725524.79\n",
      "Iteration 40: log-likelihood = -3783594594.76\n",
      "Iteration 50: log-likelihood = -3781102880.39\n",
      "Iteration 60: log-likelihood = -3779956734.70\n",
      "Iteration 70: log-likelihood = -3779785037.65\n"
     ]
    },
    {
     "name": "stdout",
     "output_type": "stream",
     "text": [
      "Iteration 80: log-likelihood = -3779685691.85\n",
      "Iteration 90: log-likelihood = -3779583634.75\n",
      "Iteration 0: log-likelihood = -4936711709.20\n",
      "Iteration 10: log-likelihood = -3672371517.91\n",
      "Iteration 20: log-likelihood = -3643991358.99\n",
      "Iteration 30: log-likelihood = -3635546865.64\n",
      "Iteration 40: log-likelihood = -3632222869.51\n",
      "Iteration 50: log-likelihood = -3631103508.38\n",
      "Iteration 60: log-likelihood = -3629299493.28\n",
      "Iteration 70: log-likelihood = -3628762249.44\n",
      "Iteration 80: log-likelihood = -3628520980.28\n",
      "Iteration 90: log-likelihood = -3628377104.42\n",
      "Iteration 0: log-likelihood = -5346759863.61\n",
      "Iteration 10: log-likelihood = -3805162022.54\n",
      "Iteration 20: log-likelihood = -3794424270.07\n",
      "Iteration 30: log-likelihood = -3786428503.64\n",
      "Iteration 40: log-likelihood = -3783354803.01\n",
      "Iteration 50: log-likelihood = -3780442339.68\n",
      "Iteration 60: log-likelihood = -3777637698.78\n",
      "Iteration 70: log-likelihood = -3776388556.32\n",
      "Iteration 80: log-likelihood = -3775849473.18\n",
      "Iteration 90: log-likelihood = -3775360982.20\n",
      "Iteration 0: log-likelihood = -5310762633.75\n",
      "Iteration 10: log-likelihood = -3777475680.71\n",
      "Iteration 20: log-likelihood = -3760837016.63\n",
      "Iteration 30: log-likelihood = -3747093367.27\n",
      "Iteration 40: log-likelihood = -3745253269.66\n",
      "Iteration 50: log-likelihood = -3744244979.98\n",
      "Iteration 60: log-likelihood = -3742332543.14\n",
      "Iteration 70: log-likelihood = -3741909665.12\n",
      "Iteration 80: log-likelihood = -3741343920.35\n",
      "Iteration 90: log-likelihood = -3740792388.86\n",
      "Iteration 0: log-likelihood = -5600497090.15\n",
      "Iteration 10: log-likelihood = -4451000218.38\n",
      "Iteration 20: log-likelihood = -4435076898.56\n",
      "Iteration 30: log-likelihood = -4425831842.14\n",
      "Iteration 40: log-likelihood = -4423873730.66\n",
      "Iteration 50: log-likelihood = -4422284064.41\n",
      "Iteration 60: log-likelihood = -4420789874.00\n",
      "Iteration 70: log-likelihood = -4420532696.68\n",
      "Iteration 80: log-likelihood = -4420624620.11\n",
      "Iteration 90: log-likelihood = -4420621891.56\n",
      "Iteration 0: log-likelihood = -5007496162.88\n",
      "Iteration 10: log-likelihood = -3634010286.49\n",
      "Iteration 20: log-likelihood = -3610827039.50\n",
      "Iteration 30: log-likelihood = -3605464166.24\n",
      "Iteration 40: log-likelihood = -3602541090.95\n",
      "Iteration 50: log-likelihood = -3600229345.15\n",
      "Iteration 60: log-likelihood = -3599720450.49\n",
      "Iteration 70: log-likelihood = -3599601088.47\n",
      "Iteration 80: log-likelihood = -3599571345.19\n",
      "Iteration 90: log-likelihood = -3599569841.39\n",
      "\n",
      "Test set accuracy with optimal M = 20: 0.9441\n"
     ]
    }
   ],
   "source": [
    "def classify_bayes(X, models):\n",
    "    num_classes = 10\n",
    "    predictions = []\n",
    "    for x in X:\n",
    "        posteriors = []\n",
    "        for c in range(num_classes):\n",
    "            likelihood = models[c].predict_proba(x.reshape(1, -1))[0]\n",
    "            prior = 1/num_classes\n",
    "            posterior = likelihood * prior\n",
    "            posteriors.append(posterior)\n",
    "        predicted_class = np.argmax(posteriors)\n",
    "        predictions.append(predicted_class)\n",
    "    return np.array(predictions)\n",
    "\n",
    "M_values = [1, 5, 10, 20]\n",
    "dev_accuracies = {}\n",
    "\n",
    "for m in M_values:\n",
    "    print(f\"\\nTraining models for M = {m}\")\n",
    "    class_models = {}\n",
    "    for c in range(10):\n",
    "        X_train_c = X_train[y_train == c]\n",
    "        model = BernoulliMixtureModel(n_components=m)\n",
    "        model.fit(X_train_c)\n",
    "        class_models[c] = model\n",
    "\n",
    "    y_pred_dev = classify_bayes(X_dev, class_models)\n",
    "    accuracy = np.mean(y_pred_dev == y_dev)\n",
    "    dev_accuracies[m] = accuracy\n",
    "    print(f\"Development set accuracy for M = {m}: {accuracy:.4f}\")\n",
    "\n",
    "# Choose the optimal M\n",
    "optimal_M = max(dev_accuracies, key=dev_accuracies.get)\n",
    "print(f\"\\nOptimal number of components (M) chosen based on the development set: {optimal_M}\")\n",
    "\n",
    "# Retrain with the optimal M on the combined training and development sets\n",
    "print(f\"\\nRetraining models with M = {optimal_M} on combined training and development sets\")\n",
    "X_train_full = np.vstack((X_train, X_dev))\n",
    "y_train_full = np.hstack((y_train, y_dev))\n",
    "optimal_class_models = {}\n",
    "for c in range(10):\n",
    "    X_train_full_c = X_train_full[y_train_full == c]\n",
    "    model = BernoulliMixtureModel(n_components=optimal_M)\n",
    "    model.fit(X_train_full_c)\n",
    "    optimal_class_models[c] = model\n",
    "\n",
    "# Evaluate on the test set\n",
    "y_pred_test = classify_bayes(X_test, optimal_class_models)\n",
    "test_accuracy = np.mean(y_pred_test == y_test)\n",
    "print(f\"\\nTest set accuracy with optimal M = {optimal_M}: {test_accuracy:.4f}\")"
   ]
  },
  {
   "cell_type": "markdown",
   "id": "28ae7d81",
   "metadata": {},
   "source": [
    "# Logistic Regression"
   ]
  },
  {
   "cell_type": "code",
   "execution_count": 20,
   "id": "f2497cd5",
   "metadata": {},
   "outputs": [
    {
     "name": "stdout",
     "output_type": "stream",
     "text": [
      "\n",
      "Tuning the regularization parameter C using the development set:\n"
     ]
    },
    {
     "name": "stderr",
     "output_type": "stream",
     "text": [
      "C:\\Users\\almch\\AppData\\Local\\Programs\\Python\\Python311\\Lib\\site-packages\\sklearn\\linear_model\\_logistic.py:1247: FutureWarning: 'multi_class' was deprecated in version 1.5 and will be removed in 1.7. From then on, it will always use 'multinomial'. Leave it to its default value to avoid this warning.\n",
      "  warnings.warn(\n"
     ]
    },
    {
     "name": "stdout",
     "output_type": "stream",
     "text": [
      "C = 0.001: Development set accuracy = 0.8866\n"
     ]
    },
    {
     "name": "stderr",
     "output_type": "stream",
     "text": [
      "C:\\Users\\almch\\AppData\\Local\\Programs\\Python\\Python311\\Lib\\site-packages\\sklearn\\linear_model\\_logistic.py:1247: FutureWarning: 'multi_class' was deprecated in version 1.5 and will be removed in 1.7. From then on, it will always use 'multinomial'. Leave it to its default value to avoid this warning.\n",
      "  warnings.warn(\n"
     ]
    },
    {
     "name": "stdout",
     "output_type": "stream",
     "text": [
      "C = 0.01: Development set accuracy = 0.9089\n"
     ]
    },
    {
     "name": "stderr",
     "output_type": "stream",
     "text": [
      "C:\\Users\\almch\\AppData\\Local\\Programs\\Python\\Python311\\Lib\\site-packages\\sklearn\\linear_model\\_logistic.py:1247: FutureWarning: 'multi_class' was deprecated in version 1.5 and will be removed in 1.7. From then on, it will always use 'multinomial'. Leave it to its default value to avoid this warning.\n",
      "  warnings.warn(\n"
     ]
    },
    {
     "name": "stdout",
     "output_type": "stream",
     "text": [
      "C = 0.1: Development set accuracy = 0.9143\n"
     ]
    },
    {
     "name": "stderr",
     "output_type": "stream",
     "text": [
      "C:\\Users\\almch\\AppData\\Local\\Programs\\Python\\Python311\\Lib\\site-packages\\sklearn\\linear_model\\_logistic.py:1247: FutureWarning: 'multi_class' was deprecated in version 1.5 and will be removed in 1.7. From then on, it will always use 'multinomial'. Leave it to its default value to avoid this warning.\n",
      "  warnings.warn(\n"
     ]
    },
    {
     "name": "stdout",
     "output_type": "stream",
     "text": [
      "C = 1: Development set accuracy = 0.9106\n"
     ]
    },
    {
     "name": "stderr",
     "output_type": "stream",
     "text": [
      "C:\\Users\\almch\\AppData\\Local\\Programs\\Python\\Python311\\Lib\\site-packages\\sklearn\\linear_model\\_logistic.py:1247: FutureWarning: 'multi_class' was deprecated in version 1.5 and will be removed in 1.7. From then on, it will always use 'multinomial'. Leave it to its default value to avoid this warning.\n",
      "  warnings.warn(\n"
     ]
    },
    {
     "name": "stdout",
     "output_type": "stream",
     "text": [
      "C = 10: Development set accuracy = 0.9062\n"
     ]
    },
    {
     "name": "stderr",
     "output_type": "stream",
     "text": [
      "C:\\Users\\almch\\AppData\\Local\\Programs\\Python\\Python311\\Lib\\site-packages\\sklearn\\linear_model\\_logistic.py:1247: FutureWarning: 'multi_class' was deprecated in version 1.5 and will be removed in 1.7. From then on, it will always use 'multinomial'. Leave it to its default value to avoid this warning.\n",
      "  warnings.warn(\n"
     ]
    },
    {
     "name": "stdout",
     "output_type": "stream",
     "text": [
      "C = 100: Development set accuracy = 0.9026\n"
     ]
    },
    {
     "name": "stderr",
     "output_type": "stream",
     "text": [
      "C:\\Users\\almch\\AppData\\Local\\Programs\\Python\\Python311\\Lib\\site-packages\\sklearn\\linear_model\\_logistic.py:1247: FutureWarning: 'multi_class' was deprecated in version 1.5 and will be removed in 1.7. From then on, it will always use 'multinomial'. Leave it to its default value to avoid this warning.\n",
      "  warnings.warn(\n"
     ]
    },
    {
     "name": "stdout",
     "output_type": "stream",
     "text": [
      "C = 1000: Development set accuracy = 0.9018\n",
      "\n",
      "Optimal C chosen based on the development set: 0.1\n"
     ]
    },
    {
     "name": "stderr",
     "output_type": "stream",
     "text": [
      "C:\\Users\\almch\\AppData\\Local\\Programs\\Python\\Python311\\Lib\\site-packages\\sklearn\\linear_model\\_logistic.py:1247: FutureWarning: 'multi_class' was deprecated in version 1.5 and will be removed in 1.7. From then on, it will always use 'multinomial'. Leave it to its default value to avoid this warning.\n",
      "  warnings.warn(\n"
     ]
    },
    {
     "name": "stdout",
     "output_type": "stream",
     "text": [
      "\n",
      "Test set accuracy with optimal C = 0.1: 0.9141\n",
      "Test set error rate with optimal C = 0.1: 0.0859\n"
     ]
    }
   ],
   "source": [
    "from sklearn.linear_model import LogisticRegression\n",
    "from sklearn.metrics import accuracy_score\n",
    "# Define a range of C values to try (inverse of regularization strength)\n",
    "C_values = [0.001, 0.01, 0.1, 1, 10, 100, 1000]\n",
    "dev_accuracies = {}\n",
    "\n",
    "print(\"\\nTuning the regularization parameter C using the development set:\")\n",
    "for C in C_values:\n",
    "    lg = LogisticRegression(fit_intercept=True, C=C, penalty='l2',\n",
    "                            multi_class='multinomial', solver='lbfgs', max_iter=1000, random_state=42)\n",
    "    lg.fit(X_train, y_train)\n",
    "    y_pred_dev = lg.predict(X_dev)\n",
    "    accuracy = accuracy_score(y_dev, y_pred_dev)\n",
    "    dev_accuracies[C] = accuracy\n",
    "    print(f\"C = {C}: Development set accuracy = {accuracy:.4f}\")\n",
    "\n",
    "# Find the optimal C\n",
    "optimal_C = max(dev_accuracies, key=dev_accuracies.get)\n",
    "print(f\"\\nOptimal C chosen based on the development set: {optimal_C}\")\n",
    "\n",
    "# Retrain with the optimal C on the combined training and development sets\n",
    "X_train_full = np.vstack((X_train, X_dev))\n",
    "y_train_full = np.hstack((y_train, y_dev))\n",
    "\n",
    "optimal_lg = LogisticRegression(fit_intercept=True, C=optimal_C, penalty='l2',\n",
    "                                multi_class='multinomial', solver='lbfgs', max_iter=1000, random_state=42)\n",
    "optimal_lg.fit(X_train_full, y_train_full)\n",
    "\n",
    "# Evaluate on the test set\n",
    "y_pred_test = optimal_lg.predict(X_test)\n",
    "test_accuracy = accuracy_score(y_test, y_pred_test)\n",
    "test_error_rate = 1 - test_accuracy\n",
    "\n",
    "print(f\"\\nTest set accuracy with optimal C = {optimal_C}: {test_accuracy:.4f}\")\n",
    "print(f\"Test set error rate with optimal C = {optimal_C}: {test_error_rate:.4f}\")"
   ]
  },
  {
   "cell_type": "code",
   "execution_count": 21,
   "id": "c1bfe609",
   "metadata": {},
   "outputs": [],
   "source": [
    "# Frm\n",
    "def custom_pca(X, num_components=2):\n",
    "    \"\"\"\n",
    "    Perform PCA on data X and return the projection onto the first num_components principal components.\n",
    "    \n",
    "    Parameters:\n",
    "    - X: numpy array of shape (m, d) where m is the number of samples and d is the number of features.\n",
    "    - num_components: number of principal components to project onto.\n",
    "    \n",
    "    Returns:\n",
    "    - transformed_data: the projection of X onto the top num_components principal components.\n",
    "    - eigenvalues: eigenvalues of the covariance matrix sorted in descending order.\n",
    "    - eigenvectors: corresponding eigenvectors sorted accordingly.\n",
    "    \"\"\"\n",
    "    # Mean-center the data (subtract the mean of each column)\n",
    "    X_centered = X - np.mean(X, axis=0)\n",
    "    \n",
    "    # Compute the covariance matrix.\n",
    "    # Using np.cov with rowvar=False means each column represents a variable.\n",
    "    cov_matrix = np.cov(X_centered, rowvar=False)\n",
    "    \n",
    "    # Compute eigenvalues and eigenvectors.\n",
    "    # Using 'eigh' because the covariance matrix is symmetric.\n",
    "    eigenvalues, eigenvectors = np.linalg.eigh(cov_matrix)\n",
    "    \n",
    "    # Sort the eigenvalues and eigenvectors in descending order.\n",
    "    sorted_idx = np.argsort(eigenvalues)[::-1]\n",
    "    eigenvalues = eigenvalues[sorted_idx]\n",
    "    eigenvectors = eigenvectors[:, sorted_idx]\n",
    "    \n",
    "    # Project the centered data onto the first num_components eigenvectors.\n",
    "    components = eigenvectors[:, :num_components]\n",
    "    transformed_data = np.dot(X_centered, components)\n",
    "    \n",
    "    return transformed_data, eigenvalues, eigenvectors"
   ]
  },
  {
   "cell_type": "code",
   "execution_count": 23,
   "id": "aa97037d",
   "metadata": {},
   "outputs": [
    {
     "name": "stdout",
     "output_type": "stream",
     "text": [
      "\n",
      "Tuning k (number of PCs) and C using the development set:\n"
     ]
    },
    {
     "name": "stderr",
     "output_type": "stream",
     "text": [
      "C:\\Users\\almch\\AppData\\Local\\Programs\\Python\\Python311\\Lib\\site-packages\\sklearn\\linear_model\\_logistic.py:1247: FutureWarning: 'multi_class' was deprecated in version 1.5 and will be removed in 1.7. From then on, it will always use 'multinomial'. Leave it to its default value to avoid this warning.\n",
      "  warnings.warn(\n"
     ]
    },
    {
     "name": "stdout",
     "output_type": "stream",
     "text": [
      "k = 10, C = 0.001: Development set accuracy = 0.7815\n"
     ]
    },
    {
     "name": "stderr",
     "output_type": "stream",
     "text": [
      "C:\\Users\\almch\\AppData\\Local\\Programs\\Python\\Python311\\Lib\\site-packages\\sklearn\\linear_model\\_logistic.py:1247: FutureWarning: 'multi_class' was deprecated in version 1.5 and will be removed in 1.7. From then on, it will always use 'multinomial'. Leave it to its default value to avoid this warning.\n",
      "  warnings.warn(\n"
     ]
    },
    {
     "name": "stdout",
     "output_type": "stream",
     "text": [
      "k = 10, C = 0.01: Development set accuracy = 0.7925\n"
     ]
    },
    {
     "name": "stderr",
     "output_type": "stream",
     "text": [
      "C:\\Users\\almch\\AppData\\Local\\Programs\\Python\\Python311\\Lib\\site-packages\\sklearn\\linear_model\\_logistic.py:1247: FutureWarning: 'multi_class' was deprecated in version 1.5 and will be removed in 1.7. From then on, it will always use 'multinomial'. Leave it to its default value to avoid this warning.\n",
      "  warnings.warn(\n"
     ]
    },
    {
     "name": "stdout",
     "output_type": "stream",
     "text": [
      "k = 10, C = 0.1: Development set accuracy = 0.7946\n"
     ]
    },
    {
     "name": "stderr",
     "output_type": "stream",
     "text": [
      "C:\\Users\\almch\\AppData\\Local\\Programs\\Python\\Python311\\Lib\\site-packages\\sklearn\\linear_model\\_logistic.py:1247: FutureWarning: 'multi_class' was deprecated in version 1.5 and will be removed in 1.7. From then on, it will always use 'multinomial'. Leave it to its default value to avoid this warning.\n",
      "  warnings.warn(\n"
     ]
    },
    {
     "name": "stdout",
     "output_type": "stream",
     "text": [
      "k = 10, C = 1: Development set accuracy = 0.7954\n"
     ]
    },
    {
     "name": "stderr",
     "output_type": "stream",
     "text": [
      "C:\\Users\\almch\\AppData\\Local\\Programs\\Python\\Python311\\Lib\\site-packages\\sklearn\\linear_model\\_logistic.py:1247: FutureWarning: 'multi_class' was deprecated in version 1.5 and will be removed in 1.7. From then on, it will always use 'multinomial'. Leave it to its default value to avoid this warning.\n",
      "  warnings.warn(\n"
     ]
    },
    {
     "name": "stdout",
     "output_type": "stream",
     "text": [
      "k = 10, C = 10: Development set accuracy = 0.7952\n"
     ]
    },
    {
     "name": "stderr",
     "output_type": "stream",
     "text": [
      "C:\\Users\\almch\\AppData\\Local\\Programs\\Python\\Python311\\Lib\\site-packages\\sklearn\\linear_model\\_logistic.py:1247: FutureWarning: 'multi_class' was deprecated in version 1.5 and will be removed in 1.7. From then on, it will always use 'multinomial'. Leave it to its default value to avoid this warning.\n",
      "  warnings.warn(\n"
     ]
    },
    {
     "name": "stdout",
     "output_type": "stream",
     "text": [
      "k = 10, C = 100: Development set accuracy = 0.7954\n"
     ]
    },
    {
     "name": "stderr",
     "output_type": "stream",
     "text": [
      "C:\\Users\\almch\\AppData\\Local\\Programs\\Python\\Python311\\Lib\\site-packages\\sklearn\\linear_model\\_logistic.py:1247: FutureWarning: 'multi_class' was deprecated in version 1.5 and will be removed in 1.7. From then on, it will always use 'multinomial'. Leave it to its default value to avoid this warning.\n",
      "  warnings.warn(\n"
     ]
    },
    {
     "name": "stdout",
     "output_type": "stream",
     "text": [
      "k = 20, C = 0.001: Development set accuracy = 0.8476\n"
     ]
    },
    {
     "name": "stderr",
     "output_type": "stream",
     "text": [
      "C:\\Users\\almch\\AppData\\Local\\Programs\\Python\\Python311\\Lib\\site-packages\\sklearn\\linear_model\\_logistic.py:1247: FutureWarning: 'multi_class' was deprecated in version 1.5 and will be removed in 1.7. From then on, it will always use 'multinomial'. Leave it to its default value to avoid this warning.\n",
      "  warnings.warn(\n"
     ]
    },
    {
     "name": "stdout",
     "output_type": "stream",
     "text": [
      "k = 20, C = 0.01: Development set accuracy = 0.8672\n"
     ]
    },
    {
     "name": "stderr",
     "output_type": "stream",
     "text": [
      "C:\\Users\\almch\\AppData\\Local\\Programs\\Python\\Python311\\Lib\\site-packages\\sklearn\\linear_model\\_logistic.py:1247: FutureWarning: 'multi_class' was deprecated in version 1.5 and will be removed in 1.7. From then on, it will always use 'multinomial'. Leave it to its default value to avoid this warning.\n",
      "  warnings.warn(\n"
     ]
    },
    {
     "name": "stdout",
     "output_type": "stream",
     "text": [
      "k = 20, C = 0.1: Development set accuracy = 0.8696\n"
     ]
    },
    {
     "name": "stderr",
     "output_type": "stream",
     "text": [
      "C:\\Users\\almch\\AppData\\Local\\Programs\\Python\\Python311\\Lib\\site-packages\\sklearn\\linear_model\\_logistic.py:1247: FutureWarning: 'multi_class' was deprecated in version 1.5 and will be removed in 1.7. From then on, it will always use 'multinomial'. Leave it to its default value to avoid this warning.\n",
      "  warnings.warn(\n"
     ]
    },
    {
     "name": "stdout",
     "output_type": "stream",
     "text": [
      "k = 20, C = 1: Development set accuracy = 0.8701\n"
     ]
    },
    {
     "name": "stderr",
     "output_type": "stream",
     "text": [
      "C:\\Users\\almch\\AppData\\Local\\Programs\\Python\\Python311\\Lib\\site-packages\\sklearn\\linear_model\\_logistic.py:1247: FutureWarning: 'multi_class' was deprecated in version 1.5 and will be removed in 1.7. From then on, it will always use 'multinomial'. Leave it to its default value to avoid this warning.\n",
      "  warnings.warn(\n"
     ]
    },
    {
     "name": "stdout",
     "output_type": "stream",
     "text": [
      "k = 20, C = 10: Development set accuracy = 0.8706\n"
     ]
    },
    {
     "name": "stderr",
     "output_type": "stream",
     "text": [
      "C:\\Users\\almch\\AppData\\Local\\Programs\\Python\\Python311\\Lib\\site-packages\\sklearn\\linear_model\\_logistic.py:1247: FutureWarning: 'multi_class' was deprecated in version 1.5 and will be removed in 1.7. From then on, it will always use 'multinomial'. Leave it to its default value to avoid this warning.\n",
      "  warnings.warn(\n"
     ]
    },
    {
     "name": "stdout",
     "output_type": "stream",
     "text": [
      "k = 20, C = 100: Development set accuracy = 0.8702\n"
     ]
    },
    {
     "name": "stderr",
     "output_type": "stream",
     "text": [
      "C:\\Users\\almch\\AppData\\Local\\Programs\\Python\\Python311\\Lib\\site-packages\\sklearn\\linear_model\\_logistic.py:1247: FutureWarning: 'multi_class' was deprecated in version 1.5 and will be removed in 1.7. From then on, it will always use 'multinomial'. Leave it to its default value to avoid this warning.\n",
      "  warnings.warn(\n"
     ]
    },
    {
     "name": "stdout",
     "output_type": "stream",
     "text": [
      "k = 50, C = 0.001: Development set accuracy = 0.8804\n"
     ]
    },
    {
     "name": "stderr",
     "output_type": "stream",
     "text": [
      "C:\\Users\\almch\\AppData\\Local\\Programs\\Python\\Python311\\Lib\\site-packages\\sklearn\\linear_model\\_logistic.py:1247: FutureWarning: 'multi_class' was deprecated in version 1.5 and will be removed in 1.7. From then on, it will always use 'multinomial'. Leave it to its default value to avoid this warning.\n",
      "  warnings.warn(\n"
     ]
    },
    {
     "name": "stdout",
     "output_type": "stream",
     "text": [
      "k = 50, C = 0.01: Development set accuracy = 0.8978\n"
     ]
    },
    {
     "name": "stderr",
     "output_type": "stream",
     "text": [
      "C:\\Users\\almch\\AppData\\Local\\Programs\\Python\\Python311\\Lib\\site-packages\\sklearn\\linear_model\\_logistic.py:1247: FutureWarning: 'multi_class' was deprecated in version 1.5 and will be removed in 1.7. From then on, it will always use 'multinomial'. Leave it to its default value to avoid this warning.\n",
      "  warnings.warn(\n"
     ]
    },
    {
     "name": "stdout",
     "output_type": "stream",
     "text": [
      "k = 50, C = 0.1: Development set accuracy = 0.9017\n"
     ]
    },
    {
     "name": "stderr",
     "output_type": "stream",
     "text": [
      "C:\\Users\\almch\\AppData\\Local\\Programs\\Python\\Python311\\Lib\\site-packages\\sklearn\\linear_model\\_logistic.py:1247: FutureWarning: 'multi_class' was deprecated in version 1.5 and will be removed in 1.7. From then on, it will always use 'multinomial'. Leave it to its default value to avoid this warning.\n",
      "  warnings.warn(\n"
     ]
    },
    {
     "name": "stdout",
     "output_type": "stream",
     "text": [
      "k = 50, C = 1: Development set accuracy = 0.9019\n"
     ]
    },
    {
     "name": "stderr",
     "output_type": "stream",
     "text": [
      "C:\\Users\\almch\\AppData\\Local\\Programs\\Python\\Python311\\Lib\\site-packages\\sklearn\\linear_model\\_logistic.py:1247: FutureWarning: 'multi_class' was deprecated in version 1.5 and will be removed in 1.7. From then on, it will always use 'multinomial'. Leave it to its default value to avoid this warning.\n",
      "  warnings.warn(\n"
     ]
    },
    {
     "name": "stdout",
     "output_type": "stream",
     "text": [
      "k = 50, C = 10: Development set accuracy = 0.9024\n"
     ]
    },
    {
     "name": "stderr",
     "output_type": "stream",
     "text": [
      "C:\\Users\\almch\\AppData\\Local\\Programs\\Python\\Python311\\Lib\\site-packages\\sklearn\\linear_model\\_logistic.py:1247: FutureWarning: 'multi_class' was deprecated in version 1.5 and will be removed in 1.7. From then on, it will always use 'multinomial'. Leave it to its default value to avoid this warning.\n",
      "  warnings.warn(\n"
     ]
    },
    {
     "name": "stdout",
     "output_type": "stream",
     "text": [
      "k = 50, C = 100: Development set accuracy = 0.9021\n"
     ]
    },
    {
     "name": "stderr",
     "output_type": "stream",
     "text": [
      "C:\\Users\\almch\\AppData\\Local\\Programs\\Python\\Python311\\Lib\\site-packages\\sklearn\\linear_model\\_logistic.py:1247: FutureWarning: 'multi_class' was deprecated in version 1.5 and will be removed in 1.7. From then on, it will always use 'multinomial'. Leave it to its default value to avoid this warning.\n",
      "  warnings.warn(\n"
     ]
    },
    {
     "name": "stdout",
     "output_type": "stream",
     "text": [
      "k = 100, C = 0.001: Development set accuracy = 0.8856\n"
     ]
    },
    {
     "name": "stderr",
     "output_type": "stream",
     "text": [
      "C:\\Users\\almch\\AppData\\Local\\Programs\\Python\\Python311\\Lib\\site-packages\\sklearn\\linear_model\\_logistic.py:1247: FutureWarning: 'multi_class' was deprecated in version 1.5 and will be removed in 1.7. From then on, it will always use 'multinomial'. Leave it to its default value to avoid this warning.\n",
      "  warnings.warn(\n"
     ]
    },
    {
     "name": "stdout",
     "output_type": "stream",
     "text": [
      "k = 100, C = 0.01: Development set accuracy = 0.9063\n"
     ]
    },
    {
     "name": "stderr",
     "output_type": "stream",
     "text": [
      "C:\\Users\\almch\\AppData\\Local\\Programs\\Python\\Python311\\Lib\\site-packages\\sklearn\\linear_model\\_logistic.py:1247: FutureWarning: 'multi_class' was deprecated in version 1.5 and will be removed in 1.7. From then on, it will always use 'multinomial'. Leave it to its default value to avoid this warning.\n",
      "  warnings.warn(\n"
     ]
    },
    {
     "name": "stdout",
     "output_type": "stream",
     "text": [
      "k = 100, C = 0.1: Development set accuracy = 0.9118\n"
     ]
    },
    {
     "name": "stderr",
     "output_type": "stream",
     "text": [
      "C:\\Users\\almch\\AppData\\Local\\Programs\\Python\\Python311\\Lib\\site-packages\\sklearn\\linear_model\\_logistic.py:1247: FutureWarning: 'multi_class' was deprecated in version 1.5 and will be removed in 1.7. From then on, it will always use 'multinomial'. Leave it to its default value to avoid this warning.\n",
      "  warnings.warn(\n"
     ]
    },
    {
     "name": "stdout",
     "output_type": "stream",
     "text": [
      "k = 100, C = 1: Development set accuracy = 0.9121\n"
     ]
    },
    {
     "name": "stderr",
     "output_type": "stream",
     "text": [
      "C:\\Users\\almch\\AppData\\Local\\Programs\\Python\\Python311\\Lib\\site-packages\\sklearn\\linear_model\\_logistic.py:1247: FutureWarning: 'multi_class' was deprecated in version 1.5 and will be removed in 1.7. From then on, it will always use 'multinomial'. Leave it to its default value to avoid this warning.\n",
      "  warnings.warn(\n"
     ]
    },
    {
     "name": "stdout",
     "output_type": "stream",
     "text": [
      "k = 100, C = 10: Development set accuracy = 0.9120\n"
     ]
    },
    {
     "name": "stderr",
     "output_type": "stream",
     "text": [
      "C:\\Users\\almch\\AppData\\Local\\Programs\\Python\\Python311\\Lib\\site-packages\\sklearn\\linear_model\\_logistic.py:1247: FutureWarning: 'multi_class' was deprecated in version 1.5 and will be removed in 1.7. From then on, it will always use 'multinomial'. Leave it to its default value to avoid this warning.\n",
      "  warnings.warn(\n"
     ]
    },
    {
     "name": "stdout",
     "output_type": "stream",
     "text": [
      "k = 100, C = 100: Development set accuracy = 0.9119\n"
     ]
    },
    {
     "name": "stderr",
     "output_type": "stream",
     "text": [
      "C:\\Users\\almch\\AppData\\Local\\Programs\\Python\\Python311\\Lib\\site-packages\\sklearn\\linear_model\\_logistic.py:1247: FutureWarning: 'multi_class' was deprecated in version 1.5 and will be removed in 1.7. From then on, it will always use 'multinomial'. Leave it to its default value to avoid this warning.\n",
      "  warnings.warn(\n"
     ]
    },
    {
     "name": "stdout",
     "output_type": "stream",
     "text": [
      "k = 200, C = 0.001: Development set accuracy = 0.8862\n"
     ]
    },
    {
     "name": "stderr",
     "output_type": "stream",
     "text": [
      "C:\\Users\\almch\\AppData\\Local\\Programs\\Python\\Python311\\Lib\\site-packages\\sklearn\\linear_model\\_logistic.py:1247: FutureWarning: 'multi_class' was deprecated in version 1.5 and will be removed in 1.7. From then on, it will always use 'multinomial'. Leave it to its default value to avoid this warning.\n",
      "  warnings.warn(\n"
     ]
    },
    {
     "name": "stdout",
     "output_type": "stream",
     "text": [
      "k = 200, C = 0.01: Development set accuracy = 0.9075\n"
     ]
    },
    {
     "name": "stderr",
     "output_type": "stream",
     "text": [
      "C:\\Users\\almch\\AppData\\Local\\Programs\\Python\\Python311\\Lib\\site-packages\\sklearn\\linear_model\\_logistic.py:1247: FutureWarning: 'multi_class' was deprecated in version 1.5 and will be removed in 1.7. From then on, it will always use 'multinomial'. Leave it to its default value to avoid this warning.\n",
      "  warnings.warn(\n"
     ]
    },
    {
     "name": "stdout",
     "output_type": "stream",
     "text": [
      "k = 200, C = 0.1: Development set accuracy = 0.9144\n"
     ]
    },
    {
     "name": "stderr",
     "output_type": "stream",
     "text": [
      "C:\\Users\\almch\\AppData\\Local\\Programs\\Python\\Python311\\Lib\\site-packages\\sklearn\\linear_model\\_logistic.py:1247: FutureWarning: 'multi_class' was deprecated in version 1.5 and will be removed in 1.7. From then on, it will always use 'multinomial'. Leave it to its default value to avoid this warning.\n",
      "  warnings.warn(\n"
     ]
    },
    {
     "name": "stdout",
     "output_type": "stream",
     "text": [
      "k = 200, C = 1: Development set accuracy = 0.9138\n"
     ]
    },
    {
     "name": "stderr",
     "output_type": "stream",
     "text": [
      "C:\\Users\\almch\\AppData\\Local\\Programs\\Python\\Python311\\Lib\\site-packages\\sklearn\\linear_model\\_logistic.py:1247: FutureWarning: 'multi_class' was deprecated in version 1.5 and will be removed in 1.7. From then on, it will always use 'multinomial'. Leave it to its default value to avoid this warning.\n",
      "  warnings.warn(\n"
     ]
    },
    {
     "name": "stdout",
     "output_type": "stream",
     "text": [
      "k = 200, C = 10: Development set accuracy = 0.9129\n"
     ]
    },
    {
     "name": "stderr",
     "output_type": "stream",
     "text": [
      "C:\\Users\\almch\\AppData\\Local\\Programs\\Python\\Python311\\Lib\\site-packages\\sklearn\\linear_model\\_logistic.py:1247: FutureWarning: 'multi_class' was deprecated in version 1.5 and will be removed in 1.7. From then on, it will always use 'multinomial'. Leave it to its default value to avoid this warning.\n",
      "  warnings.warn(\n"
     ]
    },
    {
     "name": "stdout",
     "output_type": "stream",
     "text": [
      "k = 200, C = 100: Development set accuracy = 0.9125\n",
      "\n",
      "Optimal number of principal components (k): 200\n",
      "Optimal C for logistic regression with PCA: 0.1\n"
     ]
    },
    {
     "name": "stderr",
     "output_type": "stream",
     "text": [
      "C:\\Users\\almch\\AppData\\Local\\Programs\\Python\\Python311\\Lib\\site-packages\\sklearn\\linear_model\\_logistic.py:1247: FutureWarning: 'multi_class' was deprecated in version 1.5 and will be removed in 1.7. From then on, it will always use 'multinomial'. Leave it to its default value to avoid this warning.\n",
      "  warnings.warn(\n"
     ]
    },
    {
     "name": "stdout",
     "output_type": "stream",
     "text": [
      "\n",
      "Test set accuracy with PCA (k=200, C=0.1): 0.9109\n",
      "Test set error rate with PCA (k=200, C=0.1): 0.0891\n",
      "\n",
      "--- Results with Multinomial Logistic Regression on Raw Features ---\n",
      "\n",
      "Tuning the regularization parameter C (raw features) using the development set:\n"
     ]
    },
    {
     "name": "stderr",
     "output_type": "stream",
     "text": [
      "C:\\Users\\almch\\AppData\\Local\\Programs\\Python\\Python311\\Lib\\site-packages\\sklearn\\linear_model\\_logistic.py:1247: FutureWarning: 'multi_class' was deprecated in version 1.5 and will be removed in 1.7. From then on, it will always use 'multinomial'. Leave it to its default value to avoid this warning.\n",
      "  warnings.warn(\n"
     ]
    },
    {
     "name": "stdout",
     "output_type": "stream",
     "text": [
      "C = 0.001: Development set accuracy = 0.8866\n"
     ]
    },
    {
     "name": "stderr",
     "output_type": "stream",
     "text": [
      "C:\\Users\\almch\\AppData\\Local\\Programs\\Python\\Python311\\Lib\\site-packages\\sklearn\\linear_model\\_logistic.py:1247: FutureWarning: 'multi_class' was deprecated in version 1.5 and will be removed in 1.7. From then on, it will always use 'multinomial'. Leave it to its default value to avoid this warning.\n",
      "  warnings.warn(\n"
     ]
    },
    {
     "name": "stdout",
     "output_type": "stream",
     "text": [
      "C = 0.01: Development set accuracy = 0.9089\n"
     ]
    },
    {
     "name": "stderr",
     "output_type": "stream",
     "text": [
      "C:\\Users\\almch\\AppData\\Local\\Programs\\Python\\Python311\\Lib\\site-packages\\sklearn\\linear_model\\_logistic.py:1247: FutureWarning: 'multi_class' was deprecated in version 1.5 and will be removed in 1.7. From then on, it will always use 'multinomial'. Leave it to its default value to avoid this warning.\n",
      "  warnings.warn(\n"
     ]
    },
    {
     "name": "stdout",
     "output_type": "stream",
     "text": [
      "C = 0.1: Development set accuracy = 0.9143\n"
     ]
    },
    {
     "name": "stderr",
     "output_type": "stream",
     "text": [
      "C:\\Users\\almch\\AppData\\Local\\Programs\\Python\\Python311\\Lib\\site-packages\\sklearn\\linear_model\\_logistic.py:1247: FutureWarning: 'multi_class' was deprecated in version 1.5 and will be removed in 1.7. From then on, it will always use 'multinomial'. Leave it to its default value to avoid this warning.\n",
      "  warnings.warn(\n"
     ]
    },
    {
     "name": "stdout",
     "output_type": "stream",
     "text": [
      "C = 1: Development set accuracy = 0.9106\n"
     ]
    },
    {
     "name": "stderr",
     "output_type": "stream",
     "text": [
      "C:\\Users\\almch\\AppData\\Local\\Programs\\Python\\Python311\\Lib\\site-packages\\sklearn\\linear_model\\_logistic.py:1247: FutureWarning: 'multi_class' was deprecated in version 1.5 and will be removed in 1.7. From then on, it will always use 'multinomial'. Leave it to its default value to avoid this warning.\n",
      "  warnings.warn(\n"
     ]
    },
    {
     "name": "stdout",
     "output_type": "stream",
     "text": [
      "C = 10: Development set accuracy = 0.9062\n"
     ]
    },
    {
     "name": "stderr",
     "output_type": "stream",
     "text": [
      "C:\\Users\\almch\\AppData\\Local\\Programs\\Python\\Python311\\Lib\\site-packages\\sklearn\\linear_model\\_logistic.py:1247: FutureWarning: 'multi_class' was deprecated in version 1.5 and will be removed in 1.7. From then on, it will always use 'multinomial'. Leave it to its default value to avoid this warning.\n",
      "  warnings.warn(\n"
     ]
    },
    {
     "name": "stdout",
     "output_type": "stream",
     "text": [
      "C = 100: Development set accuracy = 0.9026\n"
     ]
    },
    {
     "name": "stderr",
     "output_type": "stream",
     "text": [
      "C:\\Users\\almch\\AppData\\Local\\Programs\\Python\\Python311\\Lib\\site-packages\\sklearn\\linear_model\\_logistic.py:1247: FutureWarning: 'multi_class' was deprecated in version 1.5 and will be removed in 1.7. From then on, it will always use 'multinomial'. Leave it to its default value to avoid this warning.\n",
      "  warnings.warn(\n"
     ]
    },
    {
     "name": "stdout",
     "output_type": "stream",
     "text": [
      "C = 1000: Development set accuracy = 0.9018\n",
      "\n",
      "Optimal C (raw features) chosen based on the development set: 0.1\n"
     ]
    },
    {
     "name": "stderr",
     "output_type": "stream",
     "text": [
      "C:\\Users\\almch\\AppData\\Local\\Programs\\Python\\Python311\\Lib\\site-packages\\sklearn\\linear_model\\_logistic.py:1247: FutureWarning: 'multi_class' was deprecated in version 1.5 and will be removed in 1.7. From then on, it will always use 'multinomial'. Leave it to its default value to avoid this warning.\n",
      "  warnings.warn(\n"
     ]
    },
    {
     "name": "stdout",
     "output_type": "stream",
     "text": [
      "\n",
      "Test set accuracy with raw features (optimal C = 0.1): 0.9141\n",
      "Test set error rate with raw features (optimal C = 0.1): 0.0859\n"
     ]
    }
   ],
   "source": [
    "# Define ranges for k (number of principal components) and C (regularization strength)\n",
    "k_values = [10, 20, 50, 100, 200]\n",
    "C_values = [0.001, 0.01, 0.1, 1, 10, 100]\n",
    "\n",
    "best_accuracy_dev = 0\n",
    "optimal_k = None\n",
    "optimal_C_pca = None\n",
    "\n",
    "print(\"\\nTuning k (number of PCs) and C using the development set:\")\n",
    "for k in k_values:\n",
    "    # Perform PCA on the training data\n",
    "    X_train_pca, _, _ = custom_pca(X_train, num_components=k)\n",
    "    # Project the development data onto the same principal components\n",
    "    X_dev_centered = X_dev - np.mean(X_train, axis=0) # Use training mean\n",
    "    _, _, eigenvectors_train = custom_pca(X_train, num_components=X_train.shape[1])\n",
    "    components_k = eigenvectors_train[:, :k]\n",
    "    X_dev_pca = np.dot(X_dev_centered, components_k)\n",
    "\n",
    "    for C in C_values:\n",
    "        lg_pca = LogisticRegression(fit_intercept=True, C=C, penalty='l2',\n",
    "                                    multi_class='multinomial', solver='lbfgs', max_iter=1000, random_state=42)\n",
    "        lg_pca.fit(X_train_pca, y_train)\n",
    "        y_pred_dev_pca = lg_pca.predict(X_dev_pca)\n",
    "        accuracy_dev_pca = accuracy_score(y_dev, y_pred_dev_pca)\n",
    "\n",
    "        print(f\"k = {k}, C = {C}: Development set accuracy = {accuracy_dev_pca:.4f}\")\n",
    "\n",
    "        if accuracy_dev_pca > best_accuracy_dev:\n",
    "            best_accuracy_dev = accuracy_dev_pca\n",
    "            optimal_k = k\n",
    "            optimal_C_pca = C\n",
    "\n",
    "print(f\"\\nOptimal number of principal components (k): {optimal_k}\")\n",
    "print(f\"Optimal C for logistic regression with PCA: {optimal_C_pca}\")\n",
    "\n",
    "# Retrain with the optimal k and C on the combined training and development sets\n",
    "X_train_full = np.vstack((X_train, X_dev))\n",
    "y_train_full = np.hstack((y_train, y_dev))\n",
    "\n",
    "# Perform PCA on the full training data\n",
    "X_train_full_pca, _, eigenvectors_full = custom_pca(X_train_full, num_components=optimal_k)\n",
    "\n",
    "# Project the test data onto the same principal components\n",
    "X_test_centered = X_test - np.mean(X_train_full, axis=0) # Use full training mean\n",
    "X_test_pca = np.dot(X_test_centered, eigenvectors_full[:, :optimal_k])\n",
    "\n",
    "# Train the logistic regression model with the optimal C\n",
    "optimal_lg_pca = LogisticRegression(fit_intercept=True, C=optimal_C_pca, penalty='l2',\n",
    "                                    multi_class='multinomial', solver='lbfgs', max_iter=1000, random_state=42)\n",
    "optimal_lg_pca.fit(X_train_full_pca, y_train_full)\n",
    "\n",
    "# Evaluate on the test set\n",
    "y_pred_test_pca = optimal_lg_pca.predict(X_test_pca)\n",
    "test_accuracy_pca = accuracy_score(y_test, y_pred_test_pca)\n",
    "test_error_rate_pca = 1 - test_accuracy_pca\n",
    "\n",
    "print(f\"\\nTest set accuracy with PCA (k={optimal_k}, C={optimal_C_pca}): {test_accuracy_pca:.4f}\")\n",
    "print(f\"Test set error rate with PCA (k={optimal_k}, C={optimal_C_pca}): {test_error_rate_pca:.4f}\")\n",
    "\n",
    "# --- Compare with multinomial logistic regression on raw features ---\n",
    "print(\"\\n--- Results with Multinomial Logistic Regression on Raw Features ---\")\n",
    "\n",
    "# We'll reuse the results from the previous step\n",
    "C_values_raw = [0.001, 0.01, 0.1, 1, 10, 100, 1000]\n",
    "dev_accuracies_raw = {}\n",
    "\n",
    "print(\"\\nTuning the regularization parameter C (raw features) using the development set:\")\n",
    "for C in C_values_raw:\n",
    "    lg_raw = LogisticRegression(fit_intercept=True, C=C, penalty='l2',\n",
    "                            multi_class='multinomial', solver='lbfgs', max_iter=1000, random_state=42)\n",
    "    lg_raw.fit(X_train, y_train)\n",
    "    y_pred_dev_raw = lg_raw.predict(X_dev)\n",
    "    accuracy_dev_raw = accuracy_score(y_dev, y_pred_dev_raw)\n",
    "    dev_accuracies_raw[C] = accuracy_dev_raw\n",
    "    print(f\"C = {C}: Development set accuracy = {accuracy_dev_raw:.4f}\")\n",
    "\n",
    "optimal_C_raw = max(dev_accuracies_raw, key=dev_accuracies_raw.get)\n",
    "print(f\"\\nOptimal C (raw features) chosen based on the development set: {optimal_C_raw}\")\n",
    "\n",
    "optimal_lg_raw = LogisticRegression(fit_intercept=True, C=optimal_C_raw, penalty='l2',\n",
    "                                multi_class='multinomial', solver='lbfgs', max_iter=1000, random_state=42)\n",
    "optimal_lg_raw.fit(X_train_full, y_train_full)\n",
    "\n",
    "y_pred_test_raw = optimal_lg_raw.predict(X_test)\n",
    "test_accuracy_raw = accuracy_score(y_test, y_pred_test_raw)\n",
    "test_error_rate_raw = 1 - test_accuracy_raw\n",
    "\n",
    "print(f\"\\nTest set accuracy with raw features (optimal C = {optimal_C_raw}): {test_accuracy_raw:.4f}\")\n",
    "print(f\"Test set error rate with raw features (optimal C = {optimal_C_raw}): {test_error_rate_raw:.4f}\")\n"
   ]
  },
  {
   "cell_type": "markdown",
   "id": "23070fe0",
   "metadata": {},
   "source": [
    "We see an error rate with PCA of 0.0891 while multinomial logistic regression using raw features has a slightly lower error rate of 0.0859. We found the optimal number of principal components to be 200 with an optimal C of 0.1 and in this case, reducing the dimensionality with PCA led to a higher error rate compared to using all raw features, which suggestes that some important information for distinguishing between the digit classes might have been lost during the dimensionality reduction process."
   ]
  },
  {
   "cell_type": "markdown",
   "id": "ff0d55ce",
   "metadata": {},
   "source": [
    "# Stochastic Gradient Descent"
   ]
  },
  {
   "cell_type": "code",
   "execution_count": 26,
   "id": "eabf1861",
   "metadata": {},
   "outputs": [],
   "source": [
    "from scipy.special import softmax, logsumexp\n",
    "import time\n",
    "\n",
    "def multinomial_logistic_regression_sgd(X, y, learning_rate=0.01, lambda_reg=0.0,\n",
    "                                        n_epochs=10, batch_size=32, random_state=None,\n",
    "                                        X_val=None, y_val=None):\n",
    "    \"\"\"\n",
    "    Trains a multinomial logistic regression classifier using stochastic gradient descent.\n",
    "\n",
    "    Args:\n",
    "        X (np.array): Training data features (N, D).\n",
    "        y (np.array): Training data labels (N,).\n",
    "        learning_rate (float): Learning rate for SGD.\n",
    "        lambda_reg (float): L2 regularization parameter.\n",
    "        n_epochs (int): Number of training epochs.\n",
    "        batch_size (int): Size of mini-batches.\n",
    "        random_state (int, optional): Random seed for shuffling. Defaults to None.\n",
    "        X_val (np.array, optional): Validation data features (N_val, D). Defaults to None.\n",
    "        y_val (np.array, optional): Validation data labels (N_val,). Defaults to None.\n",
    "\n",
    "    Returns:\n",
    "        tuple: (theta, training_losses, validation_losses, training_errors, validation_errors)\n",
    "               theta: Trained model parameters (C, D), where C is the number of classes.\n",
    "               training_losses: List of negative log-likelihood on the training set per epoch.\n",
    "               validation_losses: List of negative log-likelihood on the validation set per epoch.\n",
    "               training_errors: List of error rates on the training set per epoch.\n",
    "               validation_errors: List of error rates on the validation set per epoch.\n",
    "    \"\"\"\n",
    "    n_samples, n_features = X.shape\n",
    "    n_classes = len(np.unique(y))\n",
    "    theta = np.zeros((n_classes, n_features))  # Initialize weights to zero\n",
    "    rng = np.random.RandomState(random_state)\n",
    "\n",
    "    training_losses = []\n",
    "    validation_losses = []\n",
    "    training_errors = []\n",
    "    validation_errors = []\n",
    "\n",
    "    for epoch in range(n_epochs):\n",
    "        # Shuffle the training data\n",
    "        permutation = rng.permutation(n_samples)\n",
    "        X_shuffled = X[permutation]\n",
    "        y_shuffled = y[permutation]\n",
    "\n",
    "        for i in range(0, n_samples, batch_size):\n",
    "            X_batch = X_shuffled[i:i + batch_size]\n",
    "            y_batch = y_shuffled[i:i + batch_size]\n",
    "\n",
    "            # Compute scores\n",
    "            scores = X_batch @ theta.T  # (batch_size, n_classes)\n",
    "\n",
    "            # Compute probabilities using softmax\n",
    "            probabilities = softmax(scores, axis=1)  # (batch_size, n_classes)\n",
    "\n",
    "            # One-hot encode the labels\n",
    "            y_one_hot = np.eye(n_classes)[y_batch]  # (batch_size, n_classes)\n",
    "\n",
    "            # Compute the gradient of the negative log-likelihood\n",
    "            gradient = - (X_batch.T @ (y_one_hot - probabilities)) / len(y_batch)  # (n_features, n_classes)\n",
    "\n",
    "            # Add L2 regularization term to the gradient\n",
    "            gradient += (lambda_reg / len(y_batch)) * theta.T\n",
    "\n",
    "            # Update the weights\n",
    "            theta -= learning_rate * gradient.T  # (n_classes, n_features)\n",
    "\n",
    "        # Evaluate after each epoch\n",
    "        train_loss = negative_log_likelihood(X, y, theta, lambda_reg)\n",
    "        training_losses.append(train_loss)\n",
    "        train_error = error_rate(X, y, theta)\n",
    "        training_errors.append(train_error)\n",
    "\n",
    "        if X_val is not None and y_val is not None:\n",
    "            val_loss = negative_log_likelihood(X_val, y_val, theta, lambda_reg)\n",
    "            validation_losses.append(val_loss)\n",
    "            val_error = error_rate(X_val, y_val, theta)\n",
    "            validation_errors.append(val_error)\n",
    "            print(f\"Epoch {epoch + 1}/{n_epochs}, Training Loss: {train_loss:.4f}, Validation Loss: {val_loss:.4f}, Training Error: {train_error:.4f}, Validation Error: {val_error:.4f}\")\n",
    "            # Early stopping: Check if validation loss has stopped decreasing\n",
    "            if len(validation_losses) > 2 and validation_losses[-1] >= validation_losses[-2] and validation_losses[-2] >= validation_losses[-3]:\n",
    "                print(\"Validation loss stopped decreasing. Early stopping.\")\n",
    "                break\n",
    "        else:\n",
    "            print(f\"Epoch {epoch + 1}/{n_epochs}, Training Loss: {train_loss:.4f}, Training Error: {train_error:.4f}\")\n",
    "\n",
    "    return theta, training_losses, validation_losses, training_errors, validation_errors\n",
    "\n",
    "def predict(X, theta):\n",
    "    \"\"\"Predicts the class labels for data X given the model parameters theta.\"\"\"\n",
    "    scores = X @ theta.T\n",
    "    probabilities = softmax(scores, axis=1)\n",
    "    return np.argmax(probabilities, axis=1)\n",
    "\n",
    "def negative_log_likelihood(X, y, theta, lambda_reg):\n",
    "    \"\"\"Computes the negative log-likelihood with L2 regularization.\"\"\"\n",
    "    n_samples = X.shape[0]\n",
    "    scores = X @ theta.T\n",
    "    log_probs = scores - logsumexp(scores, axis=1, keepdims=True)\n",
    "    nll = -np.sum(log_probs[np.arange(n_samples), y]) / n_samples\n",
    "    l2_reg = (lambda_reg / (2 * n_samples)) * np.sum(theta ** 2)\n",
    "    return nll + l2_reg\n",
    "\n",
    "def error_rate(X, y, theta):\n",
    "    \"\"\"Computes the error rate of the model on the given data.\"\"\"\n",
    "    predictions = predict(X, theta)\n",
    "    return np.mean(predictions != y)"
   ]
  },
  {
   "cell_type": "code",
   "execution_count": 28,
   "id": "92c4db8e",
   "metadata": {
    "scrolled": false
   },
   "outputs": [
    {
     "name": "stdout",
     "output_type": "stream",
     "text": [
      "\n",
      "Tuning lambda using the development set:\n",
      "\n",
      "Training with lambda = 0\n",
      "Epoch 1/20, Training Loss: 0.6953, Validation Loss: 0.7013, Training Error: 0.1507, Validation Error: 0.1525\n",
      "Epoch 2/20, Training Loss: 0.5472, Validation Loss: 0.5539, Training Error: 0.1323, Validation Error: 0.1347\n",
      "Epoch 3/20, Training Loss: 0.4868, Validation Loss: 0.4940, Training Error: 0.1232, Validation Error: 0.1259\n",
      "Epoch 4/20, Training Loss: 0.4525, Validation Loss: 0.4601, Training Error: 0.1186, Validation Error: 0.1206\n",
      "Epoch 5/20, Training Loss: 0.4297, Validation Loss: 0.4381, Training Error: 0.1139, Validation Error: 0.1161\n",
      "Epoch 6/20, Training Loss: 0.4129, Validation Loss: 0.4217, Training Error: 0.1098, Validation Error: 0.1132\n",
      "Epoch 7/20, Training Loss: 0.4002, Validation Loss: 0.4095, Training Error: 0.1067, Validation Error: 0.1094\n",
      "Epoch 8/20, Training Loss: 0.3901, Validation Loss: 0.3997, Training Error: 0.1055, Validation Error: 0.1096\n",
      "Epoch 9/20, Training Loss: 0.3816, Validation Loss: 0.3919, Training Error: 0.1032, Validation Error: 0.1074\n",
      "Epoch 10/20, Training Loss: 0.3745, Validation Loss: 0.3853, Training Error: 0.1015, Validation Error: 0.1053\n",
      "Epoch 11/20, Training Loss: 0.3685, Validation Loss: 0.3797, Training Error: 0.1003, Validation Error: 0.1039\n",
      "Epoch 12/20, Training Loss: 0.3631, Validation Loss: 0.3748, Training Error: 0.0997, Validation Error: 0.1034\n",
      "Epoch 13/20, Training Loss: 0.3585, Validation Loss: 0.3706, Training Error: 0.0986, Validation Error: 0.1029\n",
      "Epoch 14/20, Training Loss: 0.3545, Validation Loss: 0.3671, Training Error: 0.0976, Validation Error: 0.1011\n",
      "Epoch 15/20, Training Loss: 0.3506, Validation Loss: 0.3636, Training Error: 0.0967, Validation Error: 0.1006\n",
      "Epoch 16/20, Training Loss: 0.3472, Validation Loss: 0.3605, Training Error: 0.0960, Validation Error: 0.1000\n",
      "Epoch 17/20, Training Loss: 0.3442, Validation Loss: 0.3578, Training Error: 0.0954, Validation Error: 0.0997\n",
      "Epoch 18/20, Training Loss: 0.3414, Validation Loss: 0.3556, Training Error: 0.0948, Validation Error: 0.0986\n",
      "Epoch 19/20, Training Loss: 0.3386, Validation Loss: 0.3531, Training Error: 0.0938, Validation Error: 0.0974\n",
      "Epoch 20/20, Training Loss: 0.3364, Validation Loss: 0.3513, Training Error: 0.0934, Validation Error: 0.0970\n",
      "\n",
      "Training with lambda = 10\n",
      "Epoch 1/20, Training Loss: 0.9333, Validation Loss: 0.9403, Training Error: 0.1629, Validation Error: 0.1640\n",
      "Epoch 2/20, Training Loss: 0.8871, Validation Loss: 0.8945, Training Error: 0.1537, Validation Error: 0.1549\n",
      "Epoch 3/20, Training Loss: 0.8803, Validation Loss: 0.8878, Training Error: 0.1511, Validation Error: 0.1531\n",
      "Epoch 4/20, Training Loss: 0.8783, Validation Loss: 0.8859, Training Error: 0.1496, Validation Error: 0.1495\n",
      "Epoch 5/20, Training Loss: 0.8785, Validation Loss: 0.8860, Training Error: 0.1500, Validation Error: 0.1520\n",
      "Epoch 6/20, Training Loss: 0.8786, Validation Loss: 0.8862, Training Error: 0.1491, Validation Error: 0.1510\n",
      "Validation loss stopped decreasing. Early stopping.\n",
      "\n",
      "Training with lambda = 100\n",
      "Epoch 1/20, Training Loss: 1.7954, Validation Loss: 1.7991, Training Error: 0.2444, Validation Error: 0.2441\n",
      "Epoch 2/20, Training Loss: 1.7999, Validation Loss: 1.8034, Training Error: 0.2594, Validation Error: 0.2586\n",
      "Epoch 3/20, Training Loss: 1.7982, Validation Loss: 1.8018, Training Error: 0.2336, Validation Error: 0.2316\n",
      "Epoch 4/20, Training Loss: 1.7979, Validation Loss: 1.8016, Training Error: 0.2233, Validation Error: 0.2222\n",
      "Epoch 5/20, Training Loss: 1.7971, Validation Loss: 1.8005, Training Error: 0.2477, Validation Error: 0.2449\n",
      "Epoch 6/20, Training Loss: 1.7994, Validation Loss: 1.8031, Training Error: 0.2300, Validation Error: 0.2302\n",
      "Epoch 7/20, Training Loss: 1.7946, Validation Loss: 1.7981, Training Error: 0.2345, Validation Error: 0.2348\n",
      "Epoch 8/20, Training Loss: 1.7957, Validation Loss: 1.7993, Training Error: 0.2566, Validation Error: 0.2591\n",
      "Epoch 9/20, Training Loss: 1.7995, Validation Loss: 1.8030, Training Error: 0.2345, Validation Error: 0.2344\n",
      "Validation loss stopped decreasing. Early stopping.\n",
      "\n",
      "Best lambda found on the development set: 0\n"
     ]
    },
    {
     "data": {
      "image/png": "[encoded data removed]",
      "text/plain": [
       "<Figure size 1200x500 with 2 Axes>"
      ]
     },
     "metadata": {},
     "output_type": "display_data"
    },
    {
     "name": "stdout",
     "output_type": "stream",
     "text": [
      "\n",
      "Retraining with the best lambda on combined training and development data:\n",
      "Epoch 1/50, Training Loss: 0.6269, Training Error: 0.1442\n",
      "Epoch 2/50, Training Loss: 0.5044, Training Error: 0.1279\n",
      "Epoch 3/50, Training Loss: 0.4543, Training Error: 0.1183\n",
      "Epoch 4/50, Training Loss: 0.4253, Training Error: 0.1129\n",
      "Epoch 5/50, Training Loss: 0.4060, Training Error: 0.1091\n",
      "Epoch 6/50, Training Loss: 0.3921, Training Error: 0.1062\n",
      "Epoch 7/50, Training Loss: 0.3812, Training Error: 0.1039\n",
      "Epoch 8/50, Training Loss: 0.3728, Training Error: 0.1020\n",
      "Epoch 9/50, Training Loss: 0.3659, Training Error: 0.1011\n",
      "Epoch 10/50, Training Loss: 0.3599, Training Error: 0.0995\n",
      "Epoch 11/50, Training Loss: 0.3546, Training Error: 0.0979\n",
      "Epoch 12/50, Training Loss: 0.3499, Training Error: 0.0972\n",
      "Epoch 13/50, Training Loss: 0.3461, Training Error: 0.0961\n",
      "Epoch 14/50, Training Loss: 0.3425, Training Error: 0.0951\n",
      "Epoch 15/50, Training Loss: 0.3393, Training Error: 0.0941\n",
      "Epoch 16/50, Training Loss: 0.3364, Training Error: 0.0938\n",
      "Epoch 17/50, Training Loss: 0.3338, Training Error: 0.0929\n",
      "Epoch 18/50, Training Loss: 0.3314, Training Error: 0.0924\n",
      "Epoch 19/50, Training Loss: 0.3293, Training Error: 0.0915\n",
      "Epoch 20/50, Training Loss: 0.3273, Training Error: 0.0914\n",
      "Epoch 21/50, Training Loss: 0.3253, Training Error: 0.0905\n",
      "Epoch 22/50, Training Loss: 0.3237, Training Error: 0.0900\n",
      "Epoch 23/50, Training Loss: 0.3218, Training Error: 0.0894\n",
      "Epoch 24/50, Training Loss: 0.3202, Training Error: 0.0892\n",
      "Epoch 25/50, Training Loss: 0.3188, Training Error: 0.0886\n",
      "Epoch 26/50, Training Loss: 0.3175, Training Error: 0.0884\n",
      "Epoch 27/50, Training Loss: 0.3162, Training Error: 0.0882\n",
      "Epoch 28/50, Training Loss: 0.3148, Training Error: 0.0877\n",
      "Epoch 29/50, Training Loss: 0.3137, Training Error: 0.0873\n",
      "Epoch 30/50, Training Loss: 0.3125, Training Error: 0.0871\n",
      "Epoch 31/50, Training Loss: 0.3116, Training Error: 0.0866\n",
      "Epoch 32/50, Training Loss: 0.3105, Training Error: 0.0862\n",
      "Epoch 33/50, Training Loss: 0.3097, Training Error: 0.0863\n",
      "Epoch 34/50, Training Loss: 0.3086, Training Error: 0.0859\n",
      "Epoch 35/50, Training Loss: 0.3077, Training Error: 0.0855\n",
      "Epoch 36/50, Training Loss: 0.3069, Training Error: 0.0849\n",
      "Epoch 37/50, Training Loss: 0.3059, Training Error: 0.0847\n",
      "Epoch 38/50, Training Loss: 0.3053, Training Error: 0.0842\n",
      "Epoch 39/50, Training Loss: 0.3045, Training Error: 0.0844\n",
      "Epoch 40/50, Training Loss: 0.3037, Training Error: 0.0840\n",
      "Epoch 41/50, Training Loss: 0.3029, Training Error: 0.0837\n",
      "Epoch 42/50, Training Loss: 0.3024, Training Error: 0.0836\n",
      "Epoch 43/50, Training Loss: 0.3017, Training Error: 0.0837\n",
      "Epoch 44/50, Training Loss: 0.3011, Training Error: 0.0834\n",
      "Epoch 45/50, Training Loss: 0.3002, Training Error: 0.0830\n",
      "Epoch 46/50, Training Loss: 0.2997, Training Error: 0.0828\n",
      "Epoch 47/50, Training Loss: 0.2991, Training Error: 0.0828\n",
      "Epoch 48/50, Training Loss: 0.2985, Training Error: 0.0825\n",
      "Epoch 49/50, Training Loss: 0.2979, Training Error: 0.0821\n",
      "Epoch 50/50, Training Loss: 0.2974, Training Error: 0.0820\n",
      "\n",
      "Test set error rate with SGD (lambda=0): 0.0923\n",
      "Training time for the final SGD model: 50.63 seconds\n",
      "\n",
      "--- Comparison with sklearn's Logistic Regression ---\n"
     ]
    },
    {
     "name": "stderr",
     "output_type": "stream",
     "text": [
      "C:\\Users\\almch\\AppData\\Local\\Programs\\Python\\Python311\\Lib\\site-packages\\sklearn\\linear_model\\_logistic.py:1208: UserWarning: Setting penalty=None will ignore the C and l1_ratio parameters\n",
      "  warnings.warn(\n",
      "C:\\Users\\almch\\AppData\\Local\\Programs\\Python\\Python311\\Lib\\site-packages\\sklearn\\linear_model\\_logistic.py:1247: FutureWarning: 'multi_class' was deprecated in version 1.5 and will be removed in 1.7. From then on, it will always use 'multinomial'. Leave it to its default value to avoid this warning.\n",
      "  warnings.warn(\n"
     ]
    },
    {
     "name": "stdout",
     "output_type": "stream",
     "text": [
      "Test set error rate with sklearn's Logistic Regression (C=10000000000.0): 0.0898\n",
      "Training time for sklearn's Logistic Regression: 131.27 seconds\n"
     ]
    }
   ],
   "source": [
    "lambda_values = [0, 10, 100]\n",
    "best_lambda = None\n",
    "best_val_error = float('inf')\n",
    "tuning_results = {}\n",
    "\n",
    "print(\"\\nTuning lambda using the development set:\")\n",
    "for lambda_reg in lambda_values:\n",
    "    print(f\"\\nTraining with lambda = {lambda_reg}\")\n",
    "    start_time = time.time()\n",
    "    theta_sgd, train_losses, val_losses, train_errors, val_errors = multinomial_logistic_regression_sgd(\n",
    "        X_train, y_train, learning_rate=0.01, lambda_reg=lambda_reg, n_epochs=20,\n",
    "        batch_size=64, random_state=42, X_val=X_dev, y_val=y_dev\n",
    "    )\n",
    "    end_time = time.time()\n",
    "    tuning_results[lambda_reg] = {\n",
    "        'theta': theta_sgd,\n",
    "        'train_losses': train_losses,\n",
    "        'val_losses': val_losses,\n",
    "        'train_errors': train_errors,\n",
    "        'val_errors': val_errors,\n",
    "        'training_time': end_time - start_time\n",
    "    }\n",
    "\n",
    "    final_val_error = val_errors[-1] if val_errors else float('inf')\n",
    "    if final_val_error < best_val_error:\n",
    "        best_val_error = final_val_error\n",
    "        best_lambda = lambda_reg\n",
    "\n",
    "print(f\"\\nBest lambda found on the development set: {best_lambda}\")\n",
    "\n",
    "# Plotting for the best lambda\n",
    "if best_lambda is not None:\n",
    "    results = tuning_results[best_lambda]\n",
    "    plt.figure(figsize=(12, 5))\n",
    "\n",
    "    plt.subplot(1, 2, 1)\n",
    "    plt.plot(results['train_errors'], label='Training Error')\n",
    "    plt.plot(results['val_errors'], label='Validation Error')\n",
    "    plt.xlabel('Epoch')\n",
    "    plt.ylabel('Error Rate')\n",
    "    plt.title(f'Error Rate vs. Epoch (lambda={best_lambda})')\n",
    "    plt.legend()\n",
    "    plt.grid(True)\n",
    "\n",
    "    plt.subplot(1, 2, 2)\n",
    "    plt.plot(results['train_losses'], label='Training NLL')\n",
    "    plt.plot(results['val_losses'], label='Validation NLL')\n",
    "    plt.xlabel('Epoch')\n",
    "    plt.ylabel('Negative Log-Likelihood')\n",
    "    plt.title(f'NLL vs. Epoch (lambda={best_lambda})')\n",
    "    plt.legend()\n",
    "    plt.grid(True)\n",
    "\n",
    "    plt.tight_layout()\n",
    "    plt.show()\n",
    "\n",
    "# --- Retrain with best lambda on combined training and development data ---\n",
    "print(\"\\nRetraining with the best lambda on combined training and development data:\")\n",
    "X_train_full = np.vstack((X_train, X_dev))\n",
    "y_train_full = np.hstack((y_train, y_dev))\n",
    "\n",
    "start_time_retrain = time.time()\n",
    "theta_final, _, _, _, _ = multinomial_logistic_regression_sgd(\n",
    "    X_train_full, y_train_full, learning_rate=0.01, lambda_reg=best_lambda,\n",
    "    n_epochs=50, batch_size=64, random_state=42\n",
    ")\n",
    "end_time_retrain = time.time()\n",
    "training_time_final = end_time_retrain - start_time_retrain\n",
    "\n",
    "# --- Evaluate on the test set ---\n",
    "test_error = error_rate(X_test, y_test, theta_final)\n",
    "print(f\"\\nTest set error rate with SGD (lambda={best_lambda}): {test_error:.4f}\")\n",
    "print(f\"Training time for the final SGD model: {training_time_final:.2f} seconds\")\n",
    "\n",
    "# --- Compare with sklearn's Logistic Regression ---\n",
    "print(\"\\n--- Comparison with sklearn's Logistic Regression ---\")\n",
    "start_time_sklearn = time.time()\n",
    "lg_sklearn = LogisticRegression(fit_intercept=True, C=1/best_lambda if best_lambda > 0 else 1e10, penalty='l2' if best_lambda > 0 else None,\n",
    "                                multi_class='multinomial', solver='lbfgs', max_iter=1000, random_state=42)\n",
    "lg_sklearn.fit(X_train_full, y_train_full)\n",
    "end_time_sklearn = time.time()\n",
    "training_time_sklearn = end_time_sklearn - start_time_sklearn\n",
    "y_pred_sklearn = lg_sklearn.predict(X_test)\n",
    "test_error_sklearn = 1 - accuracy_score(y_test, y_pred_sklearn)\n",
    "\n",
    "print(f\"Test set error rate with sklearn's Logistic Regression (C={1/best_lambda if best_lambda > 0 else 1e10}): {test_error_sklearn:.4f}\")\n",
    "print(f\"Training time for sklearn's Logistic Regression: {training_time_sklearn:.2f} seconds\")"
   ]
  },
  {
   "cell_type": "markdown",
   "id": "df2a8fd8",
   "metadata": {},
   "source": [
    "Our SGD implementation achieves a test error rate of 0.0923 with a lambda of 0 in just 51 seconds, while sklearn's implementation achieves 0.0898 over 131 seconds. We therefore see that we are able to achieve pretty similar performance in a much shorter training time!"
   ]
  }
 ],
 "metadata": {
  "kernelspec": {
   "display_name": "Python 3 (ipykernel)",
   "language": "python",
   "name": "python3"
  },
  "language_info": {
   "codemirror_mode": {
    "name": "ipython",
    "version": 3
   },
   "file_extension": ".py",
   "mimetype": "text/x-python",
   "name": "python",
   "nbconvert_exporter": "python",
   "pygments_lexer": "ipython3",
   "version": "3.11.2"
  }
 },
 "nbformat": 4,
 "nbformat_minor": 5
}
