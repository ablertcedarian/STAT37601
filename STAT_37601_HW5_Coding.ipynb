{
 "cells": [
  {
   "cell_type": "markdown",
   "id": "0ff1a2e4",
   "metadata": {},
   "source": [
    "# 1a)"
   ]
  },
  {
   "cell_type": "markdown",
   "id": "172581b3",
   "metadata": {},
   "source": [
    "The model is composed of two convolutional layers followed by two fully connected layers. The first flag is True for the first forward pass of the model (which is triggered on initialization of the model) and is then set to False and never triggers again -- in doing so, it sets up the two fully connected layers based on the input size after the two convolutional layers. "
   ]
  },
  {
   "cell_type": "markdown",
   "id": "c24f5667",
   "metadata": {},
   "source": [
    "# 1b)"
   ]
  },
  {
   "cell_type": "markdown",
   "id": "964f4aa7",
   "metadata": {},
   "source": []
  }
 ],
 "metadata": {
  "kernelspec": {
   "display_name": "Python 3 (ipykernel)",
   "language": "python",
   "name": "python3"
  },
  "language_info": {
   "codemirror_mode": {
    "name": "ipython",
    "version": 3
   },
   "file_extension": ".py",
   "mimetype": "text/x-python",
   "name": "python",
   "nbconvert_exporter": "python",
   "pygments_lexer": "ipython3",
   "version": "3.11.2"
  }
 },
 "nbformat": 4,
 "nbformat_minor": 5
}
